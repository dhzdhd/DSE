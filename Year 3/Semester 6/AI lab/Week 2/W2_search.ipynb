{
 "cells": [
  {
   "cell_type": "code",
   "execution_count": 7,
   "id": "546cae35",
   "metadata": {},
   "outputs": [],
   "source": [
    "import pandas as pd\n",
    "import csv\n",
    "from queue import Queue\n",
    "import sys\n",
    "\n",
    "sys.setrecursionlimit(10000)"
   ]
  },
  {
   "cell_type": "code",
   "execution_count": 4,
   "id": "b59733d9-0a0f-4bdd-a0f4-166301904b0a",
   "metadata": {},
   "outputs": [],
   "source": [
    "df1 = pd.read_csv('degrees/large/movies.csv')\n",
    "df2 = pd.read_csv('degrees/large/people.csv')\n",
    "df3 = pd.read_csv('degrees/large/stars.csv')\n",
    "\n",
    "df1.rename(columns = {'id':'movie_id'}, inplace = True)\n",
    "df2.rename(columns = {'id':'person_id'}, inplace = True)\n",
    "\n",
    "df = df3.merge(df1, on='movie_id', how='left').merge(df2, on='person_id', how='left')\n",
    "\n",
    "df = df.drop(['birth', 'person_id', 'movie_id'], axis = 1)\n",
    "df = df.sort_index(axis=1)\n",
    "\n",
    "df.to_csv('large.csv', index=False)"
   ]
  },
  {
   "cell_type": "markdown",
   "id": "9fa46c10",
   "metadata": {},
   "source": [
    "## 1a) DFS"
   ]
  },
  {
   "cell_type": "code",
   "execution_count": 10,
   "id": "878711c8-de9d-4b55-b0f5-26625e079699",
   "metadata": {},
   "outputs": [
    {
     "ename": "RecursionError",
     "evalue": "maximum recursion depth exceeded in comparison",
     "output_type": "error",
     "traceback": [
      "\u001b[1;31m---------------------------------------------------------------------------\u001b[0m",
      "\u001b[1;31mRecursionError\u001b[0m                            Traceback (most recent call last)",
      "Cell \u001b[1;32mIn[10], line 31\u001b[0m\n\u001b[0;32m     27\u001b[0m     \u001b[38;5;28;01mreturn\u001b[39;00m \u001b[38;5;28;01mNone\u001b[39;00m\n\u001b[0;32m     30\u001b[0m data \u001b[38;5;241m=\u001b[39m load_data(\u001b[38;5;124m\"\u001b[39m\u001b[38;5;124mlarge.csv\u001b[39m\u001b[38;5;124m\"\u001b[39m)\n\u001b[1;32m---> 31\u001b[0m path \u001b[38;5;241m=\u001b[39m \u001b[43mdfs\u001b[49m\u001b[43m(\u001b[49m\u001b[43mdata\u001b[49m\u001b[43m,\u001b[49m\u001b[43m \u001b[49m\u001b[38;5;124;43m\"\u001b[39;49m\u001b[38;5;124;43mKevin Bacon\u001b[39;49m\u001b[38;5;124;43m\"\u001b[39;49m\u001b[43m,\u001b[49m\u001b[43m \u001b[49m\u001b[38;5;124;43m\"\u001b[39;49m\u001b[38;5;124;43mTom Hanks\u001b[39;49m\u001b[38;5;124;43m\"\u001b[39;49m\u001b[43m)\u001b[49m\n\u001b[0;32m     33\u001b[0m \u001b[38;5;28;01mif\u001b[39;00m path \u001b[38;5;129;01mis\u001b[39;00m \u001b[38;5;28;01mNone\u001b[39;00m:\n\u001b[0;32m     34\u001b[0m     \u001b[38;5;28mprint\u001b[39m(\u001b[38;5;124m\"\u001b[39m\u001b[38;5;124mNo path found\u001b[39m\u001b[38;5;124m\"\u001b[39m)\n",
      "Cell \u001b[1;32mIn[10], line 24\u001b[0m, in \u001b[0;36mdfs\u001b[1;34m(data, start, end, path)\u001b[0m\n\u001b[0;32m     22\u001b[0m \u001b[38;5;28;01mfor\u001b[39;00m actor \u001b[38;5;129;01min\u001b[39;00m data[start]:\n\u001b[0;32m     23\u001b[0m     \u001b[38;5;28;01mif\u001b[39;00m actor \u001b[38;5;129;01mnot\u001b[39;00m \u001b[38;5;129;01min\u001b[39;00m path:\n\u001b[1;32m---> 24\u001b[0m         new_path \u001b[38;5;241m=\u001b[39m \u001b[43mdfs\u001b[49m\u001b[43m(\u001b[49m\u001b[43mdata\u001b[49m\u001b[43m,\u001b[49m\u001b[43m \u001b[49m\u001b[43mactor\u001b[49m\u001b[43m,\u001b[49m\u001b[43m \u001b[49m\u001b[43mend\u001b[49m\u001b[43m,\u001b[49m\u001b[43m \u001b[49m\u001b[43mpath\u001b[49m\u001b[43m \u001b[49m\u001b[38;5;241;43m+\u001b[39;49m\u001b[43m \u001b[49m\u001b[43m[\u001b[49m\u001b[43mactor\u001b[49m\u001b[43m]\u001b[49m\u001b[43m)\u001b[49m\n\u001b[0;32m     25\u001b[0m         \u001b[38;5;28;01mif\u001b[39;00m new_path \u001b[38;5;129;01mis\u001b[39;00m \u001b[38;5;129;01mnot\u001b[39;00m \u001b[38;5;28;01mNone\u001b[39;00m:\n\u001b[0;32m     26\u001b[0m             \u001b[38;5;28;01mreturn\u001b[39;00m new_path\n",
      "Cell \u001b[1;32mIn[10], line 24\u001b[0m, in \u001b[0;36mdfs\u001b[1;34m(data, start, end, path)\u001b[0m\n\u001b[0;32m     22\u001b[0m \u001b[38;5;28;01mfor\u001b[39;00m actor \u001b[38;5;129;01min\u001b[39;00m data[start]:\n\u001b[0;32m     23\u001b[0m     \u001b[38;5;28;01mif\u001b[39;00m actor \u001b[38;5;129;01mnot\u001b[39;00m \u001b[38;5;129;01min\u001b[39;00m path:\n\u001b[1;32m---> 24\u001b[0m         new_path \u001b[38;5;241m=\u001b[39m \u001b[43mdfs\u001b[49m\u001b[43m(\u001b[49m\u001b[43mdata\u001b[49m\u001b[43m,\u001b[49m\u001b[43m \u001b[49m\u001b[43mactor\u001b[49m\u001b[43m,\u001b[49m\u001b[43m \u001b[49m\u001b[43mend\u001b[49m\u001b[43m,\u001b[49m\u001b[43m \u001b[49m\u001b[43mpath\u001b[49m\u001b[43m \u001b[49m\u001b[38;5;241;43m+\u001b[39;49m\u001b[43m \u001b[49m\u001b[43m[\u001b[49m\u001b[43mactor\u001b[49m\u001b[43m]\u001b[49m\u001b[43m)\u001b[49m\n\u001b[0;32m     25\u001b[0m         \u001b[38;5;28;01mif\u001b[39;00m new_path \u001b[38;5;129;01mis\u001b[39;00m \u001b[38;5;129;01mnot\u001b[39;00m \u001b[38;5;28;01mNone\u001b[39;00m:\n\u001b[0;32m     26\u001b[0m             \u001b[38;5;28;01mreturn\u001b[39;00m new_path\n",
      "    \u001b[1;31m[... skipping similar frames: dfs at line 24 (9970 times)]\u001b[0m\n",
      "Cell \u001b[1;32mIn[10], line 24\u001b[0m, in \u001b[0;36mdfs\u001b[1;34m(data, start, end, path)\u001b[0m\n\u001b[0;32m     22\u001b[0m \u001b[38;5;28;01mfor\u001b[39;00m actor \u001b[38;5;129;01min\u001b[39;00m data[start]:\n\u001b[0;32m     23\u001b[0m     \u001b[38;5;28;01mif\u001b[39;00m actor \u001b[38;5;129;01mnot\u001b[39;00m \u001b[38;5;129;01min\u001b[39;00m path:\n\u001b[1;32m---> 24\u001b[0m         new_path \u001b[38;5;241m=\u001b[39m \u001b[43mdfs\u001b[49m\u001b[43m(\u001b[49m\u001b[43mdata\u001b[49m\u001b[43m,\u001b[49m\u001b[43m \u001b[49m\u001b[43mactor\u001b[49m\u001b[43m,\u001b[49m\u001b[43m \u001b[49m\u001b[43mend\u001b[49m\u001b[43m,\u001b[49m\u001b[43m \u001b[49m\u001b[43mpath\u001b[49m\u001b[43m \u001b[49m\u001b[38;5;241;43m+\u001b[39;49m\u001b[43m \u001b[49m\u001b[43m[\u001b[49m\u001b[43mactor\u001b[49m\u001b[43m]\u001b[49m\u001b[43m)\u001b[49m\n\u001b[0;32m     25\u001b[0m         \u001b[38;5;28;01mif\u001b[39;00m new_path \u001b[38;5;129;01mis\u001b[39;00m \u001b[38;5;129;01mnot\u001b[39;00m \u001b[38;5;28;01mNone\u001b[39;00m:\n\u001b[0;32m     26\u001b[0m             \u001b[38;5;28;01mreturn\u001b[39;00m new_path\n",
      "Cell \u001b[1;32mIn[10], line 23\u001b[0m, in \u001b[0;36mdfs\u001b[1;34m(data, start, end, path)\u001b[0m\n\u001b[0;32m     21\u001b[0m     \u001b[38;5;28;01mreturn\u001b[39;00m path\n\u001b[0;32m     22\u001b[0m \u001b[38;5;28;01mfor\u001b[39;00m actor \u001b[38;5;129;01min\u001b[39;00m data[start]:\n\u001b[1;32m---> 23\u001b[0m     \u001b[38;5;28;01mif\u001b[39;00m \u001b[43mactor\u001b[49m\u001b[43m \u001b[49m\u001b[38;5;129;43;01mnot\u001b[39;49;00m\u001b[43m \u001b[49m\u001b[38;5;129;43;01min\u001b[39;49;00m\u001b[43m \u001b[49m\u001b[43mpath\u001b[49m:\n\u001b[0;32m     24\u001b[0m         new_path \u001b[38;5;241m=\u001b[39m dfs(data, actor, end, path \u001b[38;5;241m+\u001b[39m [actor])\n\u001b[0;32m     25\u001b[0m         \u001b[38;5;28;01mif\u001b[39;00m new_path \u001b[38;5;129;01mis\u001b[39;00m \u001b[38;5;129;01mnot\u001b[39;00m \u001b[38;5;28;01mNone\u001b[39;00m:\n",
      "\u001b[1;31mRecursionError\u001b[0m: maximum recursion depth exceeded in comparison"
     ]
    }
   ],
   "source": [
    "def load_data(filename):\n",
    "    data = {}\n",
    "    with open(filename, \"r\") as file:\n",
    "        reader = csv.reader(file)\n",
    "        for row in reader:\n",
    "            actor = row[0]\n",
    "            movie = row[1]\n",
    "            if actor not in data:\n",
    "                data[actor] = set()\n",
    "            data[actor].add(movie)\n",
    "            if movie not in data:\n",
    "                data[movie] = set()\n",
    "            data[movie].add(actor)\n",
    "    return data\n",
    "\n",
    "\n",
    "def dfs(data, start, end, path=None):\n",
    "    if path is None:\n",
    "        path = [start]\n",
    "    if start == end:\n",
    "        return path\n",
    "    for actor in data[start]:\n",
    "        if actor not in path:\n",
    "            new_path = dfs(data, actor, end, path + [actor])\n",
    "            if new_path is not None:\n",
    "                return new_path\n",
    "    return None\n",
    "\n",
    "def dfs(data, start, end, path=None):\n",
    "    if path is None:\n",
    "        path = [start]\n",
    "    if start == end:\n",
    "        return path\n",
    "    for actor in data[start]:\n",
    "        if actor not in path:\n",
    "            new = dfs(data, actor, end, path + [actor])\n",
    "            if new is not None:\n",
    "                return new\n",
    "    return None\n",
    "def bfs(data, start, end):\n",
    "    q = Queue()\n",
    "    visited = set()\n",
    "    q.put((start, 0))\n",
    "\n",
    "    while not q.empty():\n",
    "        actor, degree = q.get()\n",
    "        if actor == end:\n",
    "            return degree\n",
    "        visited.add(actor)\n",
    "        for neighbor in data[actor]:\n",
    "            if neighbor not in visited:\n",
    "                q.put((neighbor, degree + 1))\n",
    "    return None\n",
    "\n",
    "data = load_data(\"large.csv\")\n",
    "path = dfs(data, \"Kevin Bacon\", \"Tom Hanks\")\n",
    "\n",
    "if path is None:\n",
    "    print(\"No path found\")\n",
    "else:\n",
    "    print(\" -> \".join(path))\n",
    "    print(f\"Degree of Separation: {len(path)-1}\")"
   ]
  },
  {
   "cell_type": "markdown",
   "id": "1e5b7d87",
   "metadata": {},
   "source": [
    "## 1b) BFS\n"
   ]
  },
  {
   "cell_type": "code",
   "execution_count": 9,
   "id": "a3529360-e3b2-4d93-a86c-d900a9e2d3c0",
   "metadata": {},
   "outputs": [
    {
     "name": "stdout",
     "output_type": "stream",
     "text": [
      "\n",
      "Tom Cruise and Tom Hanks: Degree of Separation = 4 \n"
     ]
    }
   ],
   "source": [
    "def load_data(filename):\n",
    "    data = {}\n",
    "    with open(filename, \"r\") as file:\n",
    "        reader = csv.reader(file)\n",
    "        next(reader)\n",
    "        for row in reader:\n",
    "            if row[0] not in data:\n",
    "                data[row[0]] = set()\n",
    "            data[row[0]].add(row[1])\n",
    "            if row[1] not in data:\n",
    "                data[row[1]] = set()\n",
    "            data[row[1]].add(row[0])\n",
    "    return data\n",
    "\n",
    "\n",
    "def bfs(start, end, data):\n",
    "    visited = set()\n",
    "    queue = Queue()\n",
    "    queue.put((start, 0))\n",
    "    while not queue.empty():\n",
    "        actor, degree = queue.get()\n",
    "        if actor == end:\n",
    "            return degree\n",
    "        visited.add(actor)\n",
    "        for neighbor in data[actor]:\n",
    "            if neighbor not in visited:\n",
    "                queue.put((neighbor, degree + 1))\n",
    "    return None\n",
    "\n",
    "\n",
    "def main():\n",
    "    data = load_data(\"large.csv\")\n",
    "    start = \"Tom Cruise\"\n",
    "    end = \"Tom Hanks\"\n",
    "    degree = bfs(start, end, data)\n",
    "    print()\n",
    "    if degree is None:\n",
    "        print(\"No connection found\")\n",
    "    else:\n",
    "        print(f\"{start} and {end}: Degree of Separation = {degree} \")\n",
    "\n",
    "\n",
    "main()"
   ]
  }
 ],
 "metadata": {
  "kernelspec": {
   "display_name": "Python 3 (ipykernel)",
   "language": "python",
   "name": "python3"
  },
  "language_info": {
   "codemirror_mode": {
    "name": "ipython",
    "version": 3
   },
   "file_extension": ".py",
   "mimetype": "text/x-python",
   "name": "python",
   "nbconvert_exporter": "python",
   "pygments_lexer": "ipython3",
   "version": "3.11.8"
  }
 },
 "nbformat": 4,
 "nbformat_minor": 5
}
