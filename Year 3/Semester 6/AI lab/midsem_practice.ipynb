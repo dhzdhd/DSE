{
 "cells": [
  {
   "cell_type": "code",
   "execution_count": 1,
   "id": "6cb9ac32",
   "metadata": {},
   "outputs": [],
   "source": [
    "import gymnasium as gym\n",
    "import numpy as np\n",
    "import random"
   ]
  },
  {
   "cell_type": "code",
   "execution_count": 4,
   "id": "7ba29239",
   "metadata": {},
   "outputs": [
    {
     "name": "stdout",
     "output_type": "stream",
     "text": [
      "[100.0, 0]\n"
     ]
    }
   ],
   "source": [
    "env = gym.make(\"CartPole-v1\", render_mode=\"human\")\n",
    "eps = 0.001\n",
    "value = [0, 0]\n",
    "\n",
    "observation, info = env.reset(seed=42)\n",
    "for iterations in range(100):\n",
    "    is_greedy = np.random.choice([False, True], p=[1 - eps,  eps])\n",
    "\n",
    "    if is_greedy:\n",
    "        action = env.action_space.sample()\n",
    "    else:\n",
    "        action = np.argmax(value)\n",
    "\n",
    "    observation, reward, terminated, truncated, info = env.step(action)\n",
    "    value[action] += reward\n",
    "\n",
    "\n",
    "    if terminated or truncated:\n",
    "        observation, info = env.reset()\n",
    "\n",
    "env.close()\n",
    "print(value)"
   ]
  },
  {
   "cell_type": "code",
   "execution_count": 7,
   "id": "0aafffb3",
   "metadata": {},
   "outputs": [
    {
     "name": "stdout",
     "output_type": "stream",
     "text": [
      "[82.0, 18.0]\n"
     ]
    }
   ],
   "source": [
    "env = gym.make(\"CartPole-v1\", render_mode=\"human\")\n",
    "value = [0, 0]\n",
    "actions = [1, 1]\n",
    "c = 90\n",
    "\n",
    "observation, info = env.reset(seed=42)\n",
    "for iterations in range(100):\n",
    "    action = np.argmax(value + (c * np.sqrt(np.log(iterations + 1) / actions)))\n",
    "\n",
    "    observation, reward, terminated, truncated, info = env.step(action)\n",
    "    value[action] += reward\n",
    "    actions[action] += 1\n",
    "\n",
    "    if terminated or truncated:\n",
    "        observation, info = env.reset()\n",
    "\n",
    "env.close()\n",
    "print(value)"
   ]
  }
 ],
 "metadata": {
  "kernelspec": {
   "display_name": "Python 3 (ipykernel)",
   "language": "python",
   "name": "python3"
  },
  "language_info": {
   "codemirror_mode": {
    "name": "ipython",
    "version": 3
   },
   "file_extension": ".py",
   "mimetype": "text/x-python",
   "name": "python",
   "nbconvert_exporter": "python",
   "pygments_lexer": "ipython3",
   "version": "3.11.8"
  }
 },
 "nbformat": 4,
 "nbformat_minor": 5
}
