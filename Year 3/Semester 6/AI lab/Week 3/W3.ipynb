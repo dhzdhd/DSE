{
 "cells": [
  {
   "cell_type": "code",
   "execution_count": 3,
   "id": "63255a5c-deeb-423a-8bdb-1a41e044f789",
   "metadata": {},
   "outputs": [],
   "source": [
    "from easyAI import (\n",
    "    AI_Player,\n",
    "    Human_Player,\n",
    "    solve_with_depth_first_search,\n",
    "    solve_with_iterative_deepening,\n",
    "    TwoPlayerGame,\n",
    "    Negamax,\n",
    "    TranspositionTable,\n",
    ")\n",
    "import easyAI\n",
    "import time"
   ]
  },
  {
   "cell_type": "markdown",
   "id": "678e72ba-78ad-4c3f-9536-42cdf4a2a31f",
   "metadata": {},
   "source": [
    "## Create the TicTacToe game"
   ]
  },
  {
   "cell_type": "code",
   "execution_count": 4,
   "id": "2e27301c-a72c-440e-8579-67bc12d144eb",
   "metadata": {},
   "outputs": [],
   "source": [
    "from easyAI import TwoPlayerGame\n",
    "from easyAI.Player import Human_Player\n",
    "\n",
    "\n",
    "class TicTacToe(TwoPlayerGame):\n",
    "    \"\"\"The board positions are numbered as follows:\n",
    "    1 2 3\n",
    "    4 5 6\n",
    "    7 8 9\n",
    "    \"\"\"\n",
    "\n",
    "    def __init__(self, players = None):\n",
    "        self.players = players\n",
    "        self.board = [0 for i in range(9)]\n",
    "        self.current_player = 1  # player 1 starts.\n",
    "\n",
    "    def possible_moves(self):\n",
    "        return [i + 1 for i, e in enumerate(self.board) if e == 0]\n",
    "\n",
    "    def make_move(self, move):\n",
    "        self.board[int(move) - 1] = self.current_player\n",
    "\n",
    "    def unmake_move(self, move):  # optional method (speeds up the AI)\n",
    "        self.board[int(move) - 1] = 0\n",
    "\n",
    "    def lose(self):\n",
    "        \"\"\" Has the opponent \"three in line ?\" \"\"\"\n",
    "        return any(\n",
    "            [\n",
    "                all([(self.board[c - 1] == self.opponent_index) for c in line])\n",
    "                for line in [\n",
    "                    [1, 2, 3],\n",
    "                    [4, 5, 6],\n",
    "                    [7, 8, 9],  # horiz.\n",
    "                    [1, 4, 7],\n",
    "                    [2, 5, 8],\n",
    "                    [3, 6, 9],  # vertical\n",
    "                    [1, 5, 9],\n",
    "                    [3, 5, 7],\n",
    "                ]\n",
    "            ]\n",
    "        )  # diagonal\n",
    "\n",
    "    def is_over(self):\n",
    "        return (self.possible_moves() == []) or self.lose()\n",
    "\n",
    "    def show(self):\n",
    "        print(\n",
    "            \"\\n\"\n",
    "            + \"\\n\".join(\n",
    "                [\n",
    "                    \" \".join([[\".\", \"O\", \"X\"][self.board[3 * j + i]] for i in range(3)])\n",
    "                    for j in range(3)\n",
    "                ]\n",
    "            )\n",
    "        )\n",
    "\n",
    "    def scoring(self):\n",
    "        return -100 if self.lose() else 0\n"
   ]
  },
  {
   "cell_type": "code",
   "execution_count": 5,
   "id": "12957fc1-08bd-4228-a315-44964d09fd8e",
   "metadata": {},
   "outputs": [],
   "source": [
    "ai = Negamax(9)"
   ]
  },
  {
   "cell_type": "markdown",
   "id": "d95d47f3-6736-4906-83ce-7e11299eaefc",
   "metadata": {},
   "source": [
    "## Solving with iterative deepening"
   ]
  },
  {
   "cell_type": "code",
   "execution_count": 6,
   "id": "7e309110-6787-4165-9959-b6d7d4572400",
   "metadata": {},
   "outputs": [
    {
     "name": "stdout",
     "output_type": "stream",
     "text": [
      "d:2, a:0, m:1\n",
      "d:3, a:0, m:1\n",
      "d:4, a:0, m:1\n",
      "d:5, a:0, m:1\n",
      "d:6, a:0, m:1\n",
      "d:7, a:0, m:1\n",
      "d:8, a:0, m:1\n",
      "d:9, a:0, m:1\n"
     ]
    }
   ],
   "source": [
    "start = time.time()\n",
    "res = solve_with_iterative_deepening(TicTacToe([AI_Player(ai), Human_Player()]), ai_depths=range(2, 10), win_score=100)\n",
    "end = time.time()\n",
    "id_time = end - start"
   ]
  },
  {
   "cell_type": "markdown",
   "id": "74e7fe8d-190d-4f0b-918d-3fe15aa65414",
   "metadata": {},
   "source": [
    "## Solving with depth first search"
   ]
  },
  {
   "cell_type": "code",
   "execution_count": 7,
   "id": "bc4e65b3-abf6-4f83-a744-f9c95ebd7b5c",
   "metadata": {},
   "outputs": [],
   "source": [
    "start = time.time()\n",
    "res = solve_with_depth_first_search(TicTacToe([AI_Player(ai), Human_Player()]), win_score=100)\n",
    "end = time.time()\n",
    "dfs_time = end - start"
   ]
  },
  {
   "cell_type": "markdown",
   "id": "41ae0216-c51f-4ce9-b070-a431d75c78e7",
   "metadata": {},
   "source": [
    "## Comparing the two times"
   ]
  },
  {
   "cell_type": "code",
   "execution_count": 8,
   "id": "62217146-9813-482c-817a-f7faaf68cb9b",
   "metadata": {},
   "outputs": [
    {
     "name": "stdout",
     "output_type": "stream",
     "text": [
      "0.4422001838684082 0.8452882766723633\n"
     ]
    }
   ],
   "source": [
    "print(id_time, dfs_time)"
   ]
  },
  {
   "cell_type": "markdown",
   "id": "f8f55012-e82f-451b-9a84-b2f78e64d2ca",
   "metadata": {},
   "source": [
    "From above, we notice that the time taken to solve the TicTacToe problem using depth first search is significantly - almost 2 times - higher than the time taken using iterative deepening.\n",
    "\n",
    "- DFS is not guaranteed to find an optimal path whereas ID is\n",
    "- DFS generally explores more of the graph to find the solution compared to ID\n",
    "- Both run at a time of O(b^d) but ID has a higher constant factor\n",
    "- BFS uses O(b^d) memory whereas ID only uses O(d)\n",
    "\n",
    "We can therefore conclude that iterative deepening is a superior method to depth first search."
   ]
  }
 ],
 "metadata": {
  "kernelspec": {
   "display_name": "Python 3 (ipykernel)",
   "language": "python",
   "name": "python3"
  },
  "language_info": {
   "codemirror_mode": {
    "name": "ipython",
    "version": 3
   },
   "file_extension": ".py",
   "mimetype": "text/x-python",
   "name": "python",
   "nbconvert_exporter": "python",
   "pygments_lexer": "ipython3",
   "version": "3.12.1"
  }
 },
 "nbformat": 4,
 "nbformat_minor": 5
}
