{
 "cells": [
  {
   "cell_type": "code",
   "execution_count": 1,
   "metadata": {},
   "outputs": [],
   "source": [
    "# import gymnasium as gym\n",
    "import gym\n",
    "import numpy as np"
   ]
  },
  {
   "cell_type": "code",
   "execution_count": 5,
   "metadata": {},
   "outputs": [
    {
     "name": "stdout",
     "output_type": "stream",
     "text": [
      "episode\n"
     ]
    },
    {
     "name": "stderr",
     "output_type": "stream",
     "text": [
      "e:\\Programming\\DSE\\.conda\\Lib\\site-packages\\gym\\utils\\passive_env_checker.py:233: DeprecationWarning: `np.bool8` is a deprecated alias for `np.bool_`.  (Deprecated NumPy 1.24)\n",
      "  if not isinstance(terminated, (bool, np.bool8)):\n"
     ]
    },
    {
     "name": "stdout",
     "output_type": "stream",
     "text": [
      "episode\n",
      "episode\n",
      "episode\n",
      "episode\n",
      "episode\n",
      "episode\n",
      "episode\n",
      "episode\n",
      "episode\n",
      "episode\n",
      "episode\n",
      "episode\n",
      "episode\n",
      "episode\n",
      "episode\n",
      "episode\n",
      "episode\n",
      "episode\n",
      "episode\n"
     ]
    }
   ],
   "source": [
    "env = gym.make(\"CliffWalking-v0\")\n",
    "\n",
    "def run_episode(env, policy, exploring_starts=False):\n",
    "    state = env.reset() if exploring_starts else env.reset()[0]\n",
    "    trajectory = []\n",
    "\n",
    "    print(\"episode\")\n",
    "\n",
    "    done = False\n",
    "\n",
    "    while not done:\n",
    "        action = policy(state)\n",
    "\n",
    "        next_state, reward, done, _, _ = env.step(action)\n",
    "        trajectory.append((state, action, reward))\n",
    "        state = next_state\n",
    "\n",
    "    return trajectory\n",
    "\n",
    "# Monte Carlo ES\n",
    "def mc_es(env, num_episodes, gamma=1.0):\n",
    "    returns = {}\n",
    "    policy = np.random.randint(env.action_space.n, size=env.observation_space.n)  # Initialize random policy\n",
    "\n",
    "    for _ in range(num_episodes):\n",
    "        trajectory = run_episode(env, lambda s: policy[s], exploring_starts=True)\n",
    "        g = 0\n",
    "        for state, action, reward in trajectory[::-1]:\n",
    "            g = gamma * g + reward\n",
    "            returns[(state, action)] = returns.get((state, action), []) + [g]\n",
    "\n",
    "    for state in range(env.observation_space.n):\n",
    "        action_values = [np.mean(returns.get((state, action), [0])) for action in range(env.action_space.n)]\n",
    "        policy[state] = np.argmax(action_values)\n",
    "\n",
    "    return policy\n",
    "\n",
    "# On-policy first-visit MC control\n",
    "def on_policy_mc(env, num_episodes, gamma=1.0, epsilon=0.1):\n",
    "    returns = {}\n",
    "    policy = np.random.randint(env.action_space.n, size=env.observation_space.n)  # Initialize random policy\n",
    "\n",
    "    for _ in range(num_episodes):\n",
    "        trajectory = run_episode(env, lambda s: np.random.choice(env.action_space.n) if np.random.uniform() < epsilon else policy[s])\n",
    "        g = 0\n",
    "        visited = set()\n",
    "        for state, action, reward in trajectory[::-1]:\n",
    "            if (state, action) not in visited:\n",
    "                visited.add((state, action))\n",
    "                g = gamma * g + reward\n",
    "                returns[(state, action)] = returns.get((state, action), []) + [g]\n",
    "\n",
    "        for state in range(env.observation_space.n):\n",
    "            action_values = [np.mean(returns.get((state, action), [0])) for action in range(env.action_space.n)]\n",
    "            policy[state] = np.argmax(action_values)\n",
    "\n",
    "    return policy\n",
    "\n",
    "# mc_es_policy = mc_es(env, num_episodes=20)\n",
    "on_policy_mc_policy = on_policy_mc(env, num_episodes=20)\n"
   ]
  },
  {
   "cell_type": "code",
   "execution_count": null,
   "metadata": {},
   "outputs": [],
   "source": []
  }
 ],
 "metadata": {
  "kernelspec": {
   "display_name": "Python 3",
   "language": "python",
   "name": "python3"
  },
  "language_info": {
   "codemirror_mode": {
    "name": "ipython",
    "version": 3
   },
   "file_extension": ".py",
   "mimetype": "text/x-python",
   "name": "python",
   "nbconvert_exporter": "python",
   "pygments_lexer": "ipython3",
   "version": "3.11.8"
  }
 },
 "nbformat": 4,
 "nbformat_minor": 2
}
