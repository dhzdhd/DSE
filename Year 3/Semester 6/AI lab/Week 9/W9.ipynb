{
 "cells": [
  {
   "cell_type": "code",
   "execution_count": 1,
   "metadata": {
    "id": "oO2T5NlP3eDy"
   },
   "outputs": [],
   "source": [
    "import gymnasium as gym\n",
    "import numpy as np"
   ]
  },
  {
   "cell_type": "code",
   "execution_count": 2,
   "metadata": {
    "colab": {
     "base_uri": "https://localhost:8080/"
    },
    "id": "DrXRGnw13rBH",
    "outputId": "8b560ad6-edb9-45d8-ebdb-2ce713631ce8"
   },
   "outputs": [],
   "source": [
    "env = gym.make('CliffWalking-v0')"
   ]
  },
  {
   "cell_type": "markdown",
   "metadata": {},
   "source": [
    "## Q1) Exploring starts"
   ]
  },
  {
   "cell_type": "code",
   "execution_count": 3,
   "metadata": {
    "id": "xDFgZcIU3tKs"
   },
   "outputs": [],
   "source": [
    "def monte_carlo_es(env, n_episodes=500):\n",
    "    Q = np.zeros((env.observation_space.n, env.action_space.n))\n",
    "    N = np.zeros((env.observation_space.n, env.action_space.n))\n",
    "    gamma = 1.0\n",
    "    total_steps = []\n",
    "\n",
    "    for i in range(n_episodes):\n",
    "        state, info = env.reset()\n",
    "        episode = []\n",
    "        done = False\n",
    "        steps = 0\n",
    "\n",
    "        while not done:\n",
    "            action = np.random.choice(env.action_space.n)\n",
    "            next_state, reward, done, info, _ = env.step(action)\n",
    "            episode.append((state, action, reward))\n",
    "            state = next_state\n",
    "            steps += 1\n",
    "        total_steps.append(steps)\n",
    "\n",
    "        returns = 0\n",
    "        for j in range(len(episode)-1, -1, -1):\n",
    "            state, action, reward = episode[j]\n",
    "            returns = gamma*returns + reward\n",
    "            N[state][action] += 1\n",
    "            Q[state][action] += (returns - Q[state][action])/N[state][action]\n",
    "\n",
    "    policy = np.argmax(Q, axis=1)\n",
    "\n",
    "    return policy, Q, total_steps"
   ]
  },
  {
   "cell_type": "markdown",
   "metadata": {},
   "source": [
    "## Q2) On-policy first-visit MC control"
   ]
  },
  {
   "cell_type": "code",
   "execution_count": 4,
   "metadata": {
    "id": "ywWaDev63vY-"
   },
   "outputs": [],
   "source": [
    "def on_policy_mc_control(env, n_episodes=500, epsilon=0.1):\n",
    "    Q = np.zeros((env.observation_space.n, env.action_space.n))\n",
    "    N = np.zeros((env.observation_space.n, env.action_space.n))\n",
    "    gamma = 1.0\n",
    "    total_steps = []\n",
    "\n",
    "    for i in range(n_episodes):\n",
    "        state, info = env.reset()\n",
    "        done = False\n",
    "        steps = 0\n",
    "\n",
    "        while not done:\n",
    "            if np.random.uniform(0, 1) < epsilon:\n",
    "                action = env.action_space.sample()\n",
    "            else:\n",
    "                action = np.argmax(Q[state])\n",
    "            next_state, reward, done, info, _ = env.step(action)\n",
    "            N[state][action] += 1\n",
    "            Q[state][action] += (reward + gamma*np.max(Q[next_state]) - Q[state][action])/N[state][action]\n",
    "            state = next_state\n",
    "            steps += 1\n",
    "        total_steps.append(steps)\n",
    "\n",
    "    policy = np.argmax(Q, axis=1)\n",
    "\n",
    "    return policy, Q, total_steps"
   ]
  },
  {
   "cell_type": "code",
   "execution_count": 5,
   "metadata": {
    "colab": {
     "base_uri": "https://localhost:8080/"
    },
    "id": "OaCh8f7T3xeM",
    "outputId": "249916df-8b01-4f61-8d08-9a72392697cf"
   },
   "outputs": [],
   "source": [
    "monte_carlo_es_policy, monte_carlo_es_q, total_steps_es = monte_carlo_es(env)\n",
    "on_policy_mc_control_policy, on_policy_mc_control_q, total_steps_control = on_policy_mc_control(env)"
   ]
  },
  {
   "cell_type": "code",
   "execution_count": 6,
   "metadata": {
    "colab": {
     "base_uri": "https://localhost:8080/"
    },
    "id": "mbOBRnEk3zAN",
    "outputId": "71eec516-ba94-4f2b-a398-45358c03c80f"
   },
   "outputs": [
    {
     "name": "stdout",
     "output_type": "stream",
     "text": [
      "Total Number of Steps taken to reach Optimal Policy using Monte Carlo ES: 3298153\n",
      "Total Number of Steps taken to reach Optimal Policy using On-Policy First-Visit MC Control: 17525\n"
     ]
    }
   ],
   "source": [
    "print(str.format('Total Number of Steps taken to reach Optimal Policy using Monte Carlo ES: {}', sum(total_steps_es)))\n",
    "print(str.format('Total Number of Steps taken to reach Optimal Policy using On-Policy First-Visit MC Control: {}', sum(total_steps_control)))\n"
   ]
  },
  {
   "cell_type": "code",
   "execution_count": 7,
   "metadata": {
    "colab": {
     "base_uri": "https://localhost:8080/"
    },
    "id": "Q8Pn4PSh30Zc",
    "outputId": "402341aa-8499-42d3-ef12-13264bf1bd56"
   },
   "outputs": [
    {
     "name": "stdout",
     "output_type": "stream",
     "text": [
      "Average Number of Steps per Episode taken to reach Optimal Policy using Monte Carlo ES: 6596.306\n",
      "Average Number of Steps per Episode taken to reach Optimal Policy using On-Policy First-Visit MC Control: 35.05\n"
     ]
    }
   ],
   "source": [
    "print(str.format('Average Number of Steps per Episode taken to reach Optimal Policy using Monte Carlo ES: {}', sum(total_steps_es)/len(total_steps_es)))\n",
    "print(str.format('Average Number of Steps per Episode taken to reach Optimal Policy using On-Policy First-Visit MC Control: {}', sum(total_steps_control)/len(total_steps_control)))\n"
   ]
  },
  {
   "cell_type": "markdown",
   "metadata": {},
   "source": [
    "We see that Monte Carlo control performs better - that is - takes less number of steps to reach an optimal policy than the exploring starts technique. This shows that Monte Carlo control is a better method to use."
   ]
  }
 ],
 "metadata": {
  "colab": {
   "provenance": []
  },
  "kernelspec": {
   "display_name": "Python 3 (ipykernel)",
   "language": "python",
   "name": "python3"
  },
  "language_info": {
   "codemirror_mode": {
    "name": "ipython",
    "version": 3
   },
   "file_extension": ".py",
   "mimetype": "text/x-python",
   "name": "python",
   "nbconvert_exporter": "python",
   "pygments_lexer": "ipython3",
   "version": "3.11.8"
  }
 },
 "nbformat": 4,
 "nbformat_minor": 1
}
