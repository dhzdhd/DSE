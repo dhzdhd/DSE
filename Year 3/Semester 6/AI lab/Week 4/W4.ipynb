{
 "cells": [
  {
   "cell_type": "code",
   "execution_count": 3,
   "id": "f61135cc-f84c-4197-82e5-49ed35d52feb",
   "metadata": {},
   "outputs": [],
   "source": [
    "import os\n",
    "import numpy as np\n",
    "import re\n",
    "import pandas as pd\n",
    "import scipy as sp\n",
    "import random\n",
    "import math"
   ]
  },
  {
   "cell_type": "markdown",
   "id": "848ec1e2-deb0-43b2-8345-d986cecb5474",
   "metadata": {},
   "source": [
    "## Read and parse TSP data  "
   ]
  },
  {
   "cell_type": "code",
   "execution_count": 4,
   "id": "4a325512-87db-494a-a4b5-477149cf1127",
   "metadata": {},
   "outputs": [],
   "source": [
    "data = {}\n",
    "for file in os.listdir('data'):\n",
    "    with open(f'data/{file}') as f:\n",
    "        name = f.readline().strip().split(' : ')[1]\n",
    "        dim = f.readline().strip().split(' : ')[1]\n",
    "\n",
    "        raw = f.readlines()\n",
    "        raw = [list(map(float, re.split(r\"\\s+\", line.strip()))) for line in raw]\n",
    "\n",
    "        data[name] = raw"
   ]
  },
  {
   "cell_type": "code",
   "execution_count": 5,
   "id": "14490988-ec16-4731-9c4b-e1c533e1fc53",
   "metadata": {},
   "outputs": [],
   "source": [
    "keys = data.keys()"
   ]
  },
  {
   "cell_type": "markdown",
   "id": "bfdf4db8-2260-417a-8771-d2fb97963192",
   "metadata": {},
   "source": [
    "## a) Create distance matrix"
   ]
  },
  {
   "cell_type": "code",
   "execution_count": 6,
   "id": "10719657-966b-4e8e-adea-c3ce78ba844d",
   "metadata": {},
   "outputs": [],
   "source": [
    "matrices = dict.fromkeys(keys, [])\n",
    "\n",
    "for key in keys:\n",
    "    dist = sp.spatial.distance_matrix(data[key], data[key])\n",
    "    matrices[key] = dist"
   ]
  },
  {
   "cell_type": "markdown",
   "id": "078eeb42-f70e-45a7-b1c5-998e5771b313",
   "metadata": {},
   "source": [
    "## Define Simple and Stochastic Hill Climbing algorithms"
   ]
  },
  {
   "cell_type": "code",
   "execution_count": 7,
   "id": "131a9890-3104-4038-a21d-f956419aa9b3",
   "metadata": {},
   "outputs": [],
   "source": [
    "def generate_initial_tour(num_cities):\n",
    "    tour = list(range(num_cities))\n",
    "    random.shuffle(tour)\n",
    "    return tour\n",
    "\n",
    "def calculate_tour_length(tour, distances):\n",
    "    length = 0\n",
    "    for i in range(len(tour) - 1):\n",
    "        length += distances[tour[i]][tour[i + 1]]\n",
    "    length += distances[tour[-1]][tour[0]]\n",
    "    return length\n",
    "\n",
    "def get_neighbor(tour):\n",
    "    i, j = random.sample(range(len(tour)), 2)\n",
    "    tour[i], tour[j] = tour[j], tour[i]\n",
    "    return tour\n",
    "\n",
    "def simple_hill_climb(distances):\n",
    "    num_cities = len(distances)\n",
    "    current_tour = generate_initial_tour(num_cities)\n",
    "    current_length = calculate_tour_length(current_tour, distances)\n",
    "\n",
    "    for _ in range(10000):\n",
    "        neighbor = get_neighbor(current_tour.copy())\n",
    "        neighbor_length = calculate_tour_length(neighbor, distances)\n",
    "\n",
    "        if neighbor_length < current_length:\n",
    "            current_tour = neighbor\n",
    "            current_length = neighbor_length\n",
    "\n",
    "    return current_tour, current_length\n",
    "\n",
    "def stochastic_hill_climb(distances):\n",
    "    num_cities = len(distances)\n",
    "    current_tour = generate_initial_tour(num_cities)\n",
    "    current_length = calculate_tour_length(current_tour, distances)\n",
    "    temperature = 1.0\n",
    "\n",
    "    for _ in range(10000):\n",
    "        neighbor = get_neighbor(current_tour.copy())\n",
    "        neighbor_length = calculate_tour_length(neighbor, distances)\n",
    "\n",
    "        delta_length = neighbor_length - current_length\n",
    "        if delta_length < 0 or random.random() < pow(math.e, -(delta_length / temperature)):\n",
    "            current_tour = neighbor\n",
    "            current_length = neighbor_length\n",
    "\n",
    "        temperature *= 0.95\n",
    "\n",
    "    return current_tour, current_length"
   ]
  },
  {
   "cell_type": "markdown",
   "id": "7a096ff5-5c3d-4da2-9aba-7d4fd0cccfd2",
   "metadata": {},
   "source": [
    "## b) Run the algorithms on generated matrices"
   ]
  },
  {
   "cell_type": "code",
   "execution_count": 13,
   "id": "1c222006-619f-4187-8001-8a6219b6d885",
   "metadata": {},
   "outputs": [
    {
     "name": "stdout",
     "output_type": "stream",
     "text": [
      "a280\n",
      "\n",
      "Simple Hill Climb\n",
      "Tour: [89, 90, 63, 46, 52, 5, 78, 26, 53, 37, 69, 71, 18, 36, 92, 57, 75, 65, 83, 33, 6, 39, 41, 40, 21, 48, 20, 84, 81, 74, 2, 8, 25, 16, 49, 55, 27, 87, 88, 22, 1, 34, 28, 95, 54, 42, 24, 23, 29, 47, 68, 86, 61, 17, 0, 50, 64, 80, 94, 58, 76, 45, 72, 91, 9, 32, 3, 12, 35, 4, 60, 10, 56, 15, 51, 43, 44, 30, 97, 93, 98, 73, 77, 19, 31, 11, 13, 14, 7, 59, 70, 67, 99, 38, 79, 82, 66, 62, 85, 96]\n",
      "Length: 16376.022993180477\n",
      "\n",
      "Stochastic Hill Climb\n",
      "Tour: [81, 74, 84, 31, 8, 25, 19, 49, 45, 75, 34, 28, 38, 54, 39, 44, 30, 65, 58, 57, 88, 1, 22, 43, 99, 51, 52, 5, 9, 32, 11, 13, 17, 70, 67, 82, 50, 90, 26, 36, 27, 92, 76, 94, 78, 2, 77, 73, 16, 53, 18, 55, 98, 93, 97, 15, 56, 80, 79, 48, 20, 3, 91, 72, 37, 69, 71, 12, 29, 47, 64, 89, 66, 96, 86, 61, 59, 68, 63, 35, 10, 60, 33, 4, 40, 21, 41, 6, 23, 24, 42, 95, 83, 87, 46, 85, 62, 0, 7, 14]\n",
      "Length: 16785.012351874837\n",
      "\n",
      "\n",
      "\n",
      "ch150\n",
      "\n",
      "Simple Hill Climb\n",
      "Tour: [51, 63, 12, 68, 67, 82, 50, 89, 64, 60, 33, 39, 54, 95, 34, 30, 57, 75, 58, 65, 97, 93, 98, 20, 48, 74, 77, 19, 26, 32, 9, 18, 37, 69, 71, 73, 84, 86, 62, 81, 49, 72, 53, 36, 92, 94, 28, 38, 6, 40, 21, 47, 29, 41, 42, 24, 23, 70, 59, 61, 17, 0, 7, 14, 15, 87, 83, 78, 2, 3, 31, 8, 25, 91, 5, 44, 43, 99, 10, 4, 80, 79, 90, 35, 56, 52, 76, 27, 55, 45, 16, 11, 13, 85, 96, 66, 46, 88, 1, 22]\n",
      "Length: 17483.46264375098\n",
      "\n",
      "Stochastic Hill Climb\n",
      "Tour: [7, 68, 80, 79, 33, 6, 41, 23, 24, 42, 39, 54, 38, 95, 99, 44, 32, 19, 25, 73, 77, 2, 78, 98, 52, 93, 46, 35, 10, 60, 4, 5, 26, 55, 49, 45, 72, 18, 36, 91, 9, 3, 13, 11, 31, 81, 20, 48, 85, 96, 62, 12, 66, 51, 28, 34, 43, 21, 40, 29, 47, 64, 82, 67, 50, 89, 63, 90, 56, 15, 87, 83, 88, 1, 22, 30, 97, 58, 76, 92, 57, 75, 65, 94, 27, 53, 37, 69, 71, 16, 8, 84, 74, 86, 14, 61, 17, 70, 59, 0]\n",
      "Length: 13752.057198978684\n",
      "\n",
      "\n",
      "\n",
      "d198\n",
      "\n",
      "Simple Hill Climb\n",
      "Tour: [73, 19, 25, 11, 84, 81, 31, 3, 32, 9, 78, 98, 52, 46, 48, 74, 20, 86, 13, 8, 69, 71, 62, 14, 61, 0, 17, 59, 70, 67, 82, 50, 47, 29, 90, 63, 35, 56, 26, 94, 75, 34, 28, 43, 91, 16, 37, 53, 36, 27, 76, 92, 18, 72, 55, 58, 57, 44, 4, 40, 21, 23, 24, 42, 41, 6, 39, 54, 95, 38, 93, 45, 49, 12, 7, 68, 89, 64, 79, 10, 51, 15, 5, 2, 85, 96, 66, 80, 60, 33, 99, 30, 87, 83, 88, 1, 22, 65, 97, 77]\n",
      "Length: 16919.98475817865\n",
      "\n",
      "Stochastic Hill Climb\n",
      "Tour: [89, 68, 62, 48, 2, 78, 5, 26, 91, 45, 49, 72, 55, 36, 27, 94, 97, 39, 54, 95, 38, 28, 34, 30, 65, 92, 76, 9, 32, 77, 31, 14, 82, 47, 24, 42, 41, 19, 71, 69, 37, 16, 53, 18, 58, 75, 88, 57, 87, 83, 1, 22, 6, 33, 60, 46, 98, 52, 90, 67, 70, 7, 59, 61, 86, 17, 0, 64, 79, 80, 10, 51, 99, 43, 44, 15, 93, 73, 25, 8, 84, 85, 96, 63, 56, 35, 4, 21, 23, 40, 29, 66, 74, 81, 13, 11, 3, 20, 12, 50]\n",
      "Length: 17015.08954476724\n",
      "\n",
      "\n",
      "\n",
      "eil101\n",
      "\n",
      "Simple Hill Climb\n",
      "Tour: [72, 26, 32, 14, 59, 70, 35, 51, 22, 1, 88, 58, 76, 94, 78, 98, 48, 62, 66, 46, 15, 44, 99, 39, 41, 6, 33, 40, 21, 60, 4, 89, 68, 74, 73, 71, 69, 53, 18, 36, 27, 92, 5, 7, 0, 17, 61, 86, 91, 37, 16, 19, 31, 3, 85, 96, 81, 84, 13, 11, 8, 25, 77, 63, 80, 29, 23, 24, 42, 54, 38, 95, 28, 34, 43, 10, 12, 20, 2, 52, 93, 97, 75, 57, 87, 83, 30, 65, 56, 90, 50, 82, 67, 47, 79, 64, 9, 55, 45, 49]\n",
      "Length: 16525.33974240993\n",
      "\n",
      "Stochastic Hill Climb\n",
      "Tour: [27, 36, 57, 88, 1, 22, 42, 24, 54, 95, 28, 34, 43, 55, 45, 49, 5, 35, 4, 40, 21, 80, 90, 9, 91, 71, 69, 53, 18, 78, 98, 12, 68, 64, 63, 48, 84, 31, 77, 32, 73, 16, 37, 72, 26, 46, 99, 38, 6, 39, 60, 56, 65, 30, 44, 51, 79, 67, 70, 14, 20, 62, 85, 96, 89, 50, 82, 47, 29, 23, 41, 33, 10, 19, 25, 8, 3, 13, 11, 81, 74, 66, 7, 0, 59, 17, 61, 86, 2, 52, 58, 92, 76, 94, 93, 97, 15, 87, 83, 75]\n",
      "Length: 17439.79187040071\n",
      "\n",
      "\n",
      "\n",
      "rd100\n",
      "\n",
      "Simple Hill Climb\n",
      "Tour: [47, 64, 79, 90, 15, 30, 57, 65, 87, 83, 97, 98, 20, 3, 31, 8, 25, 19, 2, 12, 59, 68, 7, 17, 61, 86, 74, 81, 84, 11, 13, 96, 85, 62, 14, 66, 48, 77, 73, 16, 72, 32, 63, 50, 82, 29, 40, 23, 24, 42, 41, 39, 54, 38, 95, 51, 52, 5, 94, 76, 92, 36, 18, 45, 27, 58, 75, 88, 1, 22, 99, 43, 34, 28, 44, 93, 56, 10, 60, 35, 46, 78, 9, 26, 91, 37, 71, 69, 53, 49, 55, 4, 33, 6, 21, 80, 89, 0, 70, 67]\n",
      "Length: 14738.278250212956\n",
      "\n",
      "Stochastic Hill Climb\n",
      "Tour: [87, 57, 88, 1, 75, 58, 92, 94, 98, 63, 64, 79, 80, 15, 30, 65, 97, 93, 52, 26, 53, 37, 16, 69, 71, 25, 8, 86, 61, 59, 29, 33, 6, 39, 54, 95, 38, 10, 90, 68, 0, 14, 45, 49, 18, 36, 76, 27, 55, 72, 91, 78, 46, 56, 35, 48, 12, 89, 50, 82, 70, 17, 74, 3, 9, 19, 31, 73, 77, 32, 5, 44, 43, 99, 24, 42, 23, 41, 40, 60, 4, 21, 47, 67, 7, 62, 85, 96, 66, 20, 13, 11, 84, 81, 2, 51, 28, 34, 22, 83]\n",
      "Length: 15912.693681670124\n",
      "\n",
      "\n",
      "\n"
     ]
    }
   ],
   "source": [
    "final = {\"Dataset\": [],\"Simple Hill Climb cost\": [], \"Stochastic Hill Climb cost\": []}\n",
    "for key, val in data.items():\n",
    "    print(key)\n",
    "    print()\n",
    "    print(\"Simple Hill Climb\")\n",
    "    tour, shc_length = simple_hill_climb(matrices['rd100'])\n",
    "    print(f\"Tour: {tour}\\nLength: {shc_length}\")\n",
    "    print()\n",
    "    print(\"Stochastic Hill Climb\")\n",
    "    tour, sthc_length = stochastic_hill_climb(matrices['rd100'])\n",
    "    print(f\"Tour: {tour}\\nLength: {sthc_length}\")\n",
    "    print(\"\\n\\n\")\n",
    "\n",
    "    final[\"Dataset\"].append(key)\n",
    "    final[\"Simple Hill Climb cost\"].append(shc_length)\n",
    "    final[\"Stochastic Hill Climb cost\"].append(sthc_length)"
   ]
  },
  {
   "cell_type": "markdown",
   "id": "1ffcbee7-7194-4e35-bc99-a7b97c1e6538",
   "metadata": {},
   "source": [
    "## c) Tabulate resultant tour length and cost data"
   ]
  },
  {
   "cell_type": "code",
   "execution_count": 14,
   "id": "dbfedf03-1516-4ba9-899e-e2b025e81c44",
   "metadata": {},
   "outputs": [],
   "source": [
    "df = pd.DataFrame(final)"
   ]
  },
  {
   "cell_type": "code",
   "execution_count": 15,
   "id": "b4d389f9-9fee-41d7-a3c3-1d51b1b31b87",
   "metadata": {},
   "outputs": [
    {
     "data": {
      "text/html": [
       "<div>\n",
       "<style scoped>\n",
       "    .dataframe tbody tr th:only-of-type {\n",
       "        vertical-align: middle;\n",
       "    }\n",
       "\n",
       "    .dataframe tbody tr th {\n",
       "        vertical-align: top;\n",
       "    }\n",
       "\n",
       "    .dataframe thead th {\n",
       "        text-align: right;\n",
       "    }\n",
       "</style>\n",
       "<table border=\"1\" class=\"dataframe\">\n",
       "  <thead>\n",
       "    <tr style=\"text-align: right;\">\n",
       "      <th></th>\n",
       "      <th>Dataset</th>\n",
       "      <th>Simple Hill Climb cost</th>\n",
       "      <th>Stochastic Hill Climb cost</th>\n",
       "    </tr>\n",
       "  </thead>\n",
       "  <tbody>\n",
       "    <tr>\n",
       "      <th>0</th>\n",
       "      <td>a280</td>\n",
       "      <td>16376.022993</td>\n",
       "      <td>16785.012352</td>\n",
       "    </tr>\n",
       "    <tr>\n",
       "      <th>1</th>\n",
       "      <td>ch150</td>\n",
       "      <td>17483.462644</td>\n",
       "      <td>13752.057199</td>\n",
       "    </tr>\n",
       "    <tr>\n",
       "      <th>2</th>\n",
       "      <td>d198</td>\n",
       "      <td>16919.984758</td>\n",
       "      <td>17015.089545</td>\n",
       "    </tr>\n",
       "    <tr>\n",
       "      <th>3</th>\n",
       "      <td>eil101</td>\n",
       "      <td>16525.339742</td>\n",
       "      <td>17439.791870</td>\n",
       "    </tr>\n",
       "    <tr>\n",
       "      <th>4</th>\n",
       "      <td>rd100</td>\n",
       "      <td>14738.278250</td>\n",
       "      <td>15912.693682</td>\n",
       "    </tr>\n",
       "  </tbody>\n",
       "</table>\n",
       "</div>"
      ],
      "text/plain": [
       "  Dataset  Simple Hill Climb cost  Stochastic Hill Climb cost\n",
       "0    a280            16376.022993                16785.012352\n",
       "1   ch150            17483.462644                13752.057199\n",
       "2    d198            16919.984758                17015.089545\n",
       "3  eil101            16525.339742                17439.791870\n",
       "4   rd100            14738.278250                15912.693682"
      ]
     },
     "execution_count": 15,
     "metadata": {},
     "output_type": "execute_result"
    }
   ],
   "source": [
    "df"
   ]
  },
  {
   "cell_type": "code",
   "execution_count": 16,
   "id": "931a7da4",
   "metadata": {},
   "outputs": [
    {
     "data": {
      "text/plain": [
       "(16408.6176775466, 16180.92892953832)"
      ]
     },
     "execution_count": 16,
     "metadata": {},
     "output_type": "execute_result"
    }
   ],
   "source": [
    "shc_avg = df['Simple Hill Climb cost'].mean()\n",
    "sto_avg = df['Stochastic Hill Climb cost'].mean()\n",
    "shc_avg, sto_avg"
   ]
  },
  {
   "cell_type": "markdown",
   "id": "3f28a478",
   "metadata": {},
   "source": [
    "On average across all datasets, Stochastic Hill Climb performs better than Simple Hill Climb"
   ]
  }
 ],
 "metadata": {
  "kernelspec": {
   "display_name": "Python 3 (ipykernel)",
   "language": "python",
   "name": "python3"
  },
  "language_info": {
   "codemirror_mode": {
    "name": "ipython",
    "version": 3
   },
   "file_extension": ".py",
   "mimetype": "text/x-python",
   "name": "python",
   "nbconvert_exporter": "python",
   "pygments_lexer": "ipython3",
   "version": "3.11.8"
  }
 },
 "nbformat": 4,
 "nbformat_minor": 5
}
