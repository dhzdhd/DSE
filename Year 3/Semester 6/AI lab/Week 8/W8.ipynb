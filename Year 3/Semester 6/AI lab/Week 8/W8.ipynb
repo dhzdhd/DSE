{
 "cells": [
  {
   "cell_type": "code",
   "execution_count": 25,
   "metadata": {},
   "outputs": [],
   "source": [
    "import gymnasium as gym\n",
    "import numpy as np"
   ]
  },
  {
   "cell_type": "code",
   "execution_count": 26,
   "metadata": {},
   "outputs": [],
   "source": [
    "env = gym.make('FrozenLake-v1', desc=None, map_name=\"4x4\", is_slippery=True)"
   ]
  },
  {
   "cell_type": "markdown",
   "metadata": {},
   "source": [
    "## Qa) Policy iteration"
   ]
  },
  {
   "cell_type": "code",
   "execution_count": 27,
   "metadata": {},
   "outputs": [],
   "source": [
    "def policy_iteration(env, policy, discount_factor=0.9, theta=1e-8, max_iterations=1000):\n",
    "    n_states = env.observation_space.n\n",
    "    n_actions = env.action_space.n\n",
    "\n",
    "    value_func = np.zeros(n_states)\n",
    "    policy_stable = False\n",
    "\n",
    "    for i in range(max_iterations):\n",
    "        value_func_old = value_func.copy()\n",
    "\n",
    "        # Policy Evaluation\n",
    "        for state in range(n_states):\n",
    "            value_func[state] = sum([\n",
    "                policy[state, action] *\n",
    "                sum([prob * (reward + discount_factor * value_func_old[next_state])\n",
    "                     for prob, next_state, reward, _ in env.P[state][action]])\n",
    "                for action in range(n_actions)\n",
    "            ])\n",
    "\n",
    "        # Policy Improvement\n",
    "        policy_stable = True\n",
    "        for state in range(n_states):\n",
    "            old_action = np.argmax(policy[state])\n",
    "\n",
    "            best_action = np.argmax([\n",
    "                sum([prob * (reward + discount_factor * value_func[next_state])\n",
    "                     for prob, next_state, reward, _ in env.P[state][action]])\n",
    "                for action in range(n_actions)\n",
    "            ])\n",
    "            policy[state] = np.eye(n_actions)[best_action]\n",
    "            if old_action != best_action:\n",
    "                policy_stable = False\n",
    "\n",
    "        if policy_stable:\n",
    "            break\n",
    "\n",
    "        if np.max(np.abs(value_func_old - value_func)) < theta:\n",
    "            break\n",
    "\n",
    "    return policy, value_func"
   ]
  },
  {
   "cell_type": "markdown",
   "metadata": {},
   "source": [
    "## Qb) Value iteration"
   ]
  },
  {
   "cell_type": "code",
   "execution_count": 28,
   "metadata": {},
   "outputs": [],
   "source": [
    "def value_iteration(env, discount_factor=0.9, theta=1e-8, max_iterations=1000):\n",
    "    n_states = env.observation_space.n\n",
    "    n_actions = env.action_space.n\n",
    "\n",
    "    value_func = np.zeros(n_states)\n",
    "    policy = np.zeros([n_states, n_actions])\n",
    "\n",
    "    for i in range(max_iterations):\n",
    "        value_func_old = value_func.copy()\n",
    "\n",
    "        for state in range(n_states):\n",
    "            q_values = [\n",
    "                sum([prob * (reward + discount_factor * value_func_old[next_state])\n",
    "                     for prob, next_state, reward, _ in env.P[state][action]])\n",
    "                for action in range(n_actions)\n",
    "            ]\n",
    "            value_func[state] = max(q_values)\n",
    "            policy[state] = np.eye(n_actions)[np.argmax(q_values)]\n",
    "\n",
    "        if np.max(np.abs(value_func_old - value_func)) < theta:\n",
    "            break\n",
    "\n",
    "    return policy, value_func"
   ]
  },
  {
   "cell_type": "code",
   "execution_count": 29,
   "metadata": {},
   "outputs": [],
   "source": [
    "def run_frozen_lake(algorithm, discount_factor=0.9, theta=1e-8, max_iterations=1000):\n",
    "    \"\"\"\n",
    "    Returns:\n",
    "        np.ndarray: Optimal policy.\n",
    "        np.ndarray: Optimal value function.\n",
    "    \"\"\"\n",
    "    env = gym.make('FrozenLake-v1')\n",
    "    n_states = env.observation_space.n\n",
    "    n_actions = env.action_space.n\n",
    "\n",
    "    if algorithm == 'policy_iteration':\n",
    "        initial_policy = np.ones([n_states, n_actions]) / n_actions\n",
    "        policy, value_func = policy_iteration(env, initial_policy, discount_factor, theta, max_iterations)\n",
    "    elif algorithm == 'value_iteration':\n",
    "        policy, value_func = value_iteration(env, discount_factor, theta, max_iterations)\n",
    "    else:\n",
    "        raise ValueError(\"Invalid algorithm specified. Choose 'policy_iteration' or 'value_iteration'.\")\n",
    "\n",
    "    print(f\"Optimal Policy (Algorithm: {algorithm}):\")\n",
    "    print(policy)\n",
    "    print(f\"Optimal Value Function (Algorithm: {algorithm}):\")\n",
    "    print(value_func)\n",
    "\n",
    "    env.close()\n",
    "    return policy, value_func\n"
   ]
  },
  {
   "cell_type": "code",
   "execution_count": 30,
   "metadata": {},
   "outputs": [
    {
     "name": "stdout",
     "output_type": "stream",
     "text": [
      "Optimal Policy (Algorithm: policy_iteration):\n",
      "[[0. 1. 0. 0.]\n",
      " [0. 0. 0. 1.]\n",
      " [0. 0. 1. 0.]\n",
      " [0. 0. 0. 1.]\n",
      " [1. 0. 0. 0.]\n",
      " [1. 0. 0. 0.]\n",
      " [1. 0. 0. 0.]\n",
      " [1. 0. 0. 0.]\n",
      " [0. 0. 0. 1.]\n",
      " [0. 1. 0. 0.]\n",
      " [1. 0. 0. 0.]\n",
      " [1. 0. 0. 0.]\n",
      " [1. 0. 0. 0.]\n",
      " [0. 0. 1. 0.]\n",
      " [0. 1. 0. 0.]\n",
      " [1. 0. 0. 0.]]\n",
      "Optimal Value Function (Algorithm: policy_iteration):\n",
      "[0.00479925 0.00786375 0.02588175 0.00903825 0.0165375  0.\n",
      " 0.0702255  0.         0.05735925 0.15865125 0.23084275 0.\n",
      " 0.         0.29375125 0.58571608 0.        ]\n",
      "Optimal Policy (Algorithm: value_iteration):\n",
      "[[1. 0. 0. 0.]\n",
      " [0. 0. 0. 1.]\n",
      " [1. 0. 0. 0.]\n",
      " [0. 0. 0. 1.]\n",
      " [1. 0. 0. 0.]\n",
      " [1. 0. 0. 0.]\n",
      " [1. 0. 0. 0.]\n",
      " [1. 0. 0. 0.]\n",
      " [0. 0. 0. 1.]\n",
      " [0. 1. 0. 0.]\n",
      " [1. 0. 0. 0.]\n",
      " [1. 0. 0. 0.]\n",
      " [1. 0. 0. 0.]\n",
      " [0. 0. 1. 0.]\n",
      " [0. 1. 0. 0.]\n",
      " [1. 0. 0. 0.]]\n",
      "Optimal Value Function (Algorithm: value_iteration):\n",
      "[0.06889084 0.06141452 0.07440972 0.05580728 0.09185448 0.\n",
      " 0.11220819 0.         0.14543631 0.24749692 0.29961757 0.\n",
      " 0.         0.37993588 0.63902014 0.        ]\n",
      "Policy Iteration: Wins = 453, Average Return = 0.453\n",
      "Value Iteration: Wins = 782, Average Return = 0.782\n"
     ]
    }
   ],
   "source": [
    "def run_episodes(env, policy, n_episodes=1000):\n",
    "    wins = 0\n",
    "    returns = []\n",
    "\n",
    "    for _ in range(n_episodes):\n",
    "        state, info = env.reset()\n",
    "        episode_return = 0\n",
    "        done = False\n",
    "\n",
    "        while not done:\n",
    "            action = np.random.choice(env.action_space.n, p=policy[state])\n",
    "            state, reward, done, _, _ = env.step(action)\n",
    "            episode_return += reward\n",
    "\n",
    "        if episode_return == 1.0:\n",
    "            wins += 1\n",
    "\n",
    "        returns.append(episode_return)\n",
    "\n",
    "    average_return = np.mean(returns)\n",
    "\n",
    "    return wins, average_return\n",
    "\n",
    "policy_pi, _ = run_frozen_lake('policy_iteration')\n",
    "env = gym.make('FrozenLake-v1')\n",
    "wins_pi, avg_return_pi = run_episodes(env, policy_pi)\n",
    "env.close()\n",
    "\n",
    "policy_vi, _ = run_frozen_lake('value_iteration')\n",
    "env = gym.make('FrozenLake-v1')\n",
    "wins_vi, avg_return_vi = run_episodes(env, policy_vi)\n",
    "env.close()\n",
    "\n",
    "print(f\"Policy Iteration: Wins = {wins_pi}, Average Return = {avg_return_pi:.3f}\")\n",
    "print(f\"Value Iteration: Wins = {wins_vi}, Average Return = {avg_return_vi:.3f}\")"
   ]
  },
  {
   "cell_type": "markdown",
   "metadata": {},
   "source": [
    "## Qc) Comparison\n",
    "\n",
    "Value iteration performs better than policy iteration and has more number of wins and average return "
   ]
  }
 ],
 "metadata": {
  "kernelspec": {
   "display_name": "Python 3",
   "language": "python",
   "name": "python3"
  },
  "language_info": {
   "codemirror_mode": {
    "name": "ipython",
    "version": 3
   },
   "file_extension": ".py",
   "mimetype": "text/x-python",
   "name": "python",
   "nbconvert_exporter": "python",
   "pygments_lexer": "ipython3",
   "version": "3.11.8"
  }
 },
 "nbformat": 4,
 "nbformat_minor": 2
}
