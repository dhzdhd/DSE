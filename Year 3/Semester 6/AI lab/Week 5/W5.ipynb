{
 "cells": [
  {
   "cell_type": "code",
   "execution_count": 44,
   "id": "e85b109a-61be-4615-9b38-2232d91078c7",
   "metadata": {},
   "outputs": [],
   "source": [
    "import pandas as pd\n",
    "import random\n",
    "import numpy as np\n",
    "import matplotlib.pyplot as plt"
   ]
  },
  {
   "cell_type": "code",
   "execution_count": 45,
   "id": "0375f7fa-766e-4206-a956-0a36a5aa533b",
   "metadata": {},
   "outputs": [],
   "source": [
    "df = pd.read_csv(\"Ads_Clicks.csv\")"
   ]
  },
  {
   "cell_type": "code",
   "execution_count": 46,
   "id": "25fdc30b-e39b-4fa3-b908-e9032bba71d8",
   "metadata": {},
   "outputs": [
    {
     "data": {
      "text/html": [
       "<div>\n",
       "<style scoped>\n",
       "    .dataframe tbody tr th:only-of-type {\n",
       "        vertical-align: middle;\n",
       "    }\n",
       "\n",
       "    .dataframe tbody tr th {\n",
       "        vertical-align: top;\n",
       "    }\n",
       "\n",
       "    .dataframe thead th {\n",
       "        text-align: right;\n",
       "    }\n",
       "</style>\n",
       "<table border=\"1\" class=\"dataframe\">\n",
       "  <thead>\n",
       "    <tr style=\"text-align: right;\">\n",
       "      <th></th>\n",
       "      <th>Ad 1</th>\n",
       "      <th>Ad 2</th>\n",
       "      <th>Ad 3</th>\n",
       "      <th>Ad 4</th>\n",
       "      <th>Ad 5</th>\n",
       "      <th>Ad 6</th>\n",
       "      <th>Ad 7</th>\n",
       "      <th>Ad 8</th>\n",
       "      <th>Ad 9</th>\n",
       "      <th>Ad 10</th>\n",
       "    </tr>\n",
       "  </thead>\n",
       "  <tbody>\n",
       "    <tr>\n",
       "      <th>0</th>\n",
       "      <td>1</td>\n",
       "      <td>0</td>\n",
       "      <td>0</td>\n",
       "      <td>0</td>\n",
       "      <td>1</td>\n",
       "      <td>0</td>\n",
       "      <td>0</td>\n",
       "      <td>0</td>\n",
       "      <td>1</td>\n",
       "      <td>0</td>\n",
       "    </tr>\n",
       "    <tr>\n",
       "      <th>1</th>\n",
       "      <td>0</td>\n",
       "      <td>0</td>\n",
       "      <td>0</td>\n",
       "      <td>0</td>\n",
       "      <td>0</td>\n",
       "      <td>0</td>\n",
       "      <td>0</td>\n",
       "      <td>0</td>\n",
       "      <td>1</td>\n",
       "      <td>0</td>\n",
       "    </tr>\n",
       "    <tr>\n",
       "      <th>2</th>\n",
       "      <td>0</td>\n",
       "      <td>0</td>\n",
       "      <td>0</td>\n",
       "      <td>0</td>\n",
       "      <td>0</td>\n",
       "      <td>0</td>\n",
       "      <td>0</td>\n",
       "      <td>0</td>\n",
       "      <td>0</td>\n",
       "      <td>0</td>\n",
       "    </tr>\n",
       "    <tr>\n",
       "      <th>3</th>\n",
       "      <td>0</td>\n",
       "      <td>1</td>\n",
       "      <td>0</td>\n",
       "      <td>0</td>\n",
       "      <td>0</td>\n",
       "      <td>0</td>\n",
       "      <td>0</td>\n",
       "      <td>1</td>\n",
       "      <td>0</td>\n",
       "      <td>0</td>\n",
       "    </tr>\n",
       "    <tr>\n",
       "      <th>4</th>\n",
       "      <td>0</td>\n",
       "      <td>0</td>\n",
       "      <td>0</td>\n",
       "      <td>0</td>\n",
       "      <td>0</td>\n",
       "      <td>0</td>\n",
       "      <td>0</td>\n",
       "      <td>0</td>\n",
       "      <td>0</td>\n",
       "      <td>0</td>\n",
       "    </tr>\n",
       "  </tbody>\n",
       "</table>\n",
       "</div>"
      ],
      "text/plain": [
       "   Ad 1  Ad 2  Ad 3  Ad 4  Ad 5  Ad 6  Ad 7  Ad 8  Ad 9  Ad 10\n",
       "0     1     0     0     0     1     0     0     0     1      0\n",
       "1     0     0     0     0     0     0     0     0     1      0\n",
       "2     0     0     0     0     0     0     0     0     0      0\n",
       "3     0     1     0     0     0     0     0     1     0      0\n",
       "4     0     0     0     0     0     0     0     0     0      0"
      ]
     },
     "execution_count": 46,
     "metadata": {},
     "output_type": "execute_result"
    }
   ],
   "source": [
    "df.head()"
   ]
  },
  {
   "cell_type": "markdown",
   "id": "57be4e95",
   "metadata": {},
   "source": [
    "## Qa) MAB Problem formulation\n",
    "\n",
    "- State Space (S):\n",
    "    - Each ad corresponds to a distinct arm.\n",
    "    - The state represents the choice of an ad (arm) at each time step.\n",
    "- Action Space (A):\n",
    "    - The action space consists of the 10 ads (arms).\n",
    "    - At each time step, the agent selects an ad to display.\n",
    "- Reward Function (R):\n",
    "    - The reward function assigns a reward (1 for clicked, 0 for not clicked) based on the user’s interaction with the displayed ad.\n",
    "    - R(S) represents the reward for selecting ad S which is either 0 or 1.\n",
    "- Model (T):\n",
    "    - The transition model describes how the chosen ad affects the outcome (click or no click). Since the user’s behavior is uncertain, the transition model is stochastic.\n",
    "- Policy (π):\n",
    "    - The policy maps states (ads) to actions (displaying ads).\n",
    "    - The objective is to find an optimal policy (epsilon greedy or UCB) that maximizes the cumulative reward over time."
   ]
  },
  {
   "cell_type": "markdown",
   "id": "ad8c9c36",
   "metadata": {},
   "source": [
    "## Qb) Epsilon greedy for epsilon = 0.01 and 0.3"
   ]
  },
  {
   "cell_type": "code",
   "execution_count": 47,
   "id": "0a71d63a-f4ec-4f51-8050-67cb2e7c6e90",
   "metadata": {},
   "outputs": [],
   "source": [
    "class EpsilonGreedy:\n",
    "    def __init__(self, epsilon: float) -> None:\n",
    "        self.values = [0 for _ in range(10)]\n",
    "        self.iterations = 0\n",
    "        self.epsilon = epsilon\n",
    "        self.cumulative = []\n",
    "\n",
    "    def update(self, xs: list[int]):\n",
    "        is_greedy = random.choices([False, True], [self.epsilon, 1 - self.epsilon])[0]\n",
    "\n",
    "        arm = self.best_arm() if is_greedy else self.random_arm()\n",
    "        reward = xs[arm]\n",
    "\n",
    "        self.iterations += 1\n",
    "        self.values[arm] += reward\n",
    "        self.cumulative.append(reward)\n",
    "\n",
    "    def best_arm(self) -> int:\n",
    "        return np.argmax(self.values)\n",
    "\n",
    "    def random_arm(self) -> int:\n",
    "        return random.randint(0, 9)\n",
    "\n",
    "    def get_result(self) -> list[int]:\n",
    "        return self.values"
   ]
  },
  {
   "cell_type": "code",
   "execution_count": 48,
   "id": "a02a03bc",
   "metadata": {},
   "outputs": [
    {
     "name": "stdout",
     "output_type": "stream",
     "text": [
      "Per action: [341, 0, 0, 0, 0, 0, 0, 1, 0, 0]\n",
      "Total: 342\n"
     ]
    }
   ],
   "source": [
    "eg1 = EpsilonGreedy(0.01)\n",
    "\n",
    "counter = 0\n",
    "for xs in df.values:\n",
    "    counter += 1\n",
    "\n",
    "    eg1.update(xs)\n",
    "    if counter > 2000:\n",
    "        break\n",
    "\n",
    "print(f\"Per action: {eg1.get_result()}\")\n",
    "print(f\"Total: {sum(eg1.get_result())}\")"
   ]
  },
  {
   "cell_type": "code",
   "execution_count": 49,
   "id": "2b08287f-a76c-4a77-a6e5-b5354213ea78",
   "metadata": {},
   "outputs": [
    {
     "name": "stdout",
     "output_type": "stream",
     "text": [
      "Per action: [263, 8, 3, 8, 15, 0, 7, 16, 4, 3]\n",
      "Total: 327\n"
     ]
    }
   ],
   "source": [
    "eg2 = EpsilonGreedy(0.3)\n",
    "\n",
    "counter = 0\n",
    "for xs in df.values:\n",
    "    counter +=1\n",
    "\n",
    "    eg2.update(xs)\n",
    "    if counter > 2000:\n",
    "        break\n",
    "\n",
    "print(f\"Per action: {eg2.get_result()}\")\n",
    "print(f\"Total: {sum(eg2.get_result())}\")"
   ]
  },
  {
   "cell_type": "markdown",
   "id": "8b2ce77d-c242-400a-b4a9-cd529c75c77d",
   "metadata": {},
   "source": [
    "## Qc) UCB for confidence = 1.5"
   ]
  },
  {
   "cell_type": "code",
   "execution_count": 50,
   "id": "141f8334-344d-41c0-af28-789c5a6f1eec",
   "metadata": {},
   "outputs": [],
   "source": [
    "class UCB:\n",
    "    def __init__(self, c: float) -> None:\n",
    "        self.values = np.zeros(10)\n",
    "        self.iterations = 0\n",
    "        self.actions = np.ones(10)\n",
    "        self.c = c\n",
    "        self.cumulative = []\n",
    "\n",
    "    def update(self, xs: list[int]):\n",
    "        arm = self.get_arm()\n",
    "        reward = xs[arm]\n",
    "\n",
    "        self.actions[arm] += 1\n",
    "        self.iterations += 1\n",
    "\n",
    "        self.values[arm] += reward\n",
    "        self.cumulative.append(reward)\n",
    "\n",
    "    def get_arm(self) -> int:\n",
    "        arm = np.argmax(self.values + self.c * np.sqrt(np.log(self.iterations + 1) / self.actions))\n",
    "        return arm\n",
    "\n",
    "    def get_result(self) -> list[int]:\n",
    "        return np.int64(self.values)"
   ]
  },
  {
   "cell_type": "code",
   "execution_count": 51,
   "id": "57d151bf-8708-473c-882f-248da47aa2f2",
   "metadata": {},
   "outputs": [
    {
     "name": "stdout",
     "output_type": "stream",
     "text": [
      "Per action: [  1   0   0   1   0   1   0 413   1   0]\n",
      "Total: 417\n"
     ]
    }
   ],
   "source": [
    "ucb = UCB(1.5)\n",
    "\n",
    "counter = 0\n",
    "for xs in df.values:\n",
    "    counter +=1\n",
    "\n",
    "    ucb.update(xs)\n",
    "    if counter > 2000:\n",
    "        break\n",
    "\n",
    "print(f\"Per action: {ucb.get_result()}\")\n",
    "print(f\"Total: {sum(ucb.get_result())}\")"
   ]
  },
  {
   "cell_type": "markdown",
   "id": "6f15143c",
   "metadata": {},
   "source": [
    "## Qd) Comparison to optimal"
   ]
  },
  {
   "cell_type": "code",
   "execution_count": 63,
   "id": "0a71d57c",
   "metadata": {},
   "outputs": [
    {
     "data": {
      "text/plain": [
       "'Ad 5'"
      ]
     },
     "execution_count": 63,
     "metadata": {},
     "output_type": "execute_result"
    }
   ],
   "source": [
    "# Optimal arm\n",
    "df.iloc[0:2000,:].sum().idxmax()"
   ]
  },
  {
   "cell_type": "code",
   "execution_count": 64,
   "id": "7bf795a7",
   "metadata": {},
   "outputs": [
    {
     "data": {
      "text/plain": [
       "542"
      ]
     },
     "execution_count": 64,
     "metadata": {},
     "output_type": "execute_result"
    }
   ],
   "source": [
    "# Optimal reward\n",
    "optimal = df.iloc[0:2000,:].sum().max()\n",
    "optimal"
   ]
  },
  {
   "cell_type": "code",
   "execution_count": 65,
   "id": "62ccae5c",
   "metadata": {},
   "outputs": [
    {
     "data": {
      "text/plain": [
       "[<matplotlib.lines.Line2D at 0x7f1e572d5010>]"
      ]
     },
     "execution_count": 65,
     "metadata": {},
     "output_type": "execute_result"
    },
    {
     "data": {
      "image/png": "[encoded data removed]",
      "text/plain": [
       "<Figure size 640x480 with 1 Axes>"
      ]
     },
     "metadata": {},
     "output_type": "display_data"
    }
   ],
   "source": [
    "plt.plot(np.cumsum(eg1.cumulative))\n",
    "plt.plot([optimal for _ in range(2000)])"
   ]
  },
  {
   "cell_type": "code",
   "execution_count": 66,
   "id": "2a878eda",
   "metadata": {},
   "outputs": [
    {
     "data": {
      "text/plain": [
       "[<matplotlib.lines.Line2D at 0x7f1e56aafb90>]"
      ]
     },
     "execution_count": 66,
     "metadata": {},
     "output_type": "execute_result"
    },
    {
     "data": {
      "image/png": "[encoded data removed]",
      "text/plain": [
       "<Figure size 640x480 with 1 Axes>"
      ]
     },
     "metadata": {},
     "output_type": "display_data"
    }
   ],
   "source": [
    "plt.plot(np.cumsum(eg2.cumulative))\n",
    "plt.plot([optimal for _ in range(2000)])"
   ]
  },
  {
   "cell_type": "code",
   "execution_count": 67,
   "id": "06537ee6",
   "metadata": {},
   "outputs": [
    {
     "data": {
      "text/plain": [
       "[<matplotlib.lines.Line2D at 0x7f1e581e3b90>]"
      ]
     },
     "execution_count": 67,
     "metadata": {},
     "output_type": "execute_result"
    },
    {
     "data": {
      "image/png": "[encoded data removed]",
      "text/plain": [
       "<Figure size 640x480 with 1 Axes>"
      ]
     },
     "metadata": {},
     "output_type": "display_data"
    }
   ],
   "source": [
    "plt.plot(np.cumsum(ucb.cumulative))\n",
    "plt.plot([optimal for _ in range(2000)])"
   ]
  },
  {
   "cell_type": "markdown",
   "id": "ec399f9d",
   "metadata": {},
   "source": [
    "We see that none of the policies have achieved to reach the optimal reward possible and that UCB has a better cumulative reward - a steeper slope than epsilon greedy policy."
   ]
  }
 ],
 "metadata": {
  "kernelspec": {
   "display_name": "Python 3 (ipykernel)",
   "language": "python",
   "name": "python3"
  },
  "language_info": {
   "codemirror_mode": {
    "name": "ipython",
    "version": 3
   },
   "file_extension": ".py",
   "mimetype": "text/x-python",
   "name": "python",
   "nbconvert_exporter": "python",
   "pygments_lexer": "ipython3",
   "version": "3.11.4"
  }
 },
 "nbformat": 4,
 "nbformat_minor": 5
}
