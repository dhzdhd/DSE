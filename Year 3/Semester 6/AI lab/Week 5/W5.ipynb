{
 "cells": [
  {
   "cell_type": "code",
   "execution_count": 1,
   "id": "e85b109a-61be-4615-9b38-2232d91078c7",
   "metadata": {},
   "outputs": [],
   "source": [
    "import pandas as pd\n",
    "import random\n",
    "import numpy as np"
   ]
  },
  {
   "cell_type": "code",
   "execution_count": 2,
   "id": "0375f7fa-766e-4206-a956-0a36a5aa533b",
   "metadata": {},
   "outputs": [],
   "source": [
    "df = pd.read_csv(\"Ads_Clicks.csv\")"
   ]
  },
  {
   "cell_type": "code",
   "execution_count": 3,
   "id": "25fdc30b-e39b-4fa3-b908-e9032bba71d8",
   "metadata": {},
   "outputs": [
    {
     "data": {
      "text/html": [
       "<div>\n",
       "<style scoped>\n",
       "    .dataframe tbody tr th:only-of-type {\n",
       "        vertical-align: middle;\n",
       "    }\n",
       "\n",
       "    .dataframe tbody tr th {\n",
       "        vertical-align: top;\n",
       "    }\n",
       "\n",
       "    .dataframe thead th {\n",
       "        text-align: right;\n",
       "    }\n",
       "</style>\n",
       "<table border=\"1\" class=\"dataframe\">\n",
       "  <thead>\n",
       "    <tr style=\"text-align: right;\">\n",
       "      <th></th>\n",
       "      <th>Ad 1</th>\n",
       "      <th>Ad 2</th>\n",
       "      <th>Ad 3</th>\n",
       "      <th>Ad 4</th>\n",
       "      <th>Ad 5</th>\n",
       "      <th>Ad 6</th>\n",
       "      <th>Ad 7</th>\n",
       "      <th>Ad 8</th>\n",
       "      <th>Ad 9</th>\n",
       "      <th>Ad 10</th>\n",
       "    </tr>\n",
       "  </thead>\n",
       "  <tbody>\n",
       "    <tr>\n",
       "      <th>0</th>\n",
       "      <td>1</td>\n",
       "      <td>0</td>\n",
       "      <td>0</td>\n",
       "      <td>0</td>\n",
       "      <td>1</td>\n",
       "      <td>0</td>\n",
       "      <td>0</td>\n",
       "      <td>0</td>\n",
       "      <td>1</td>\n",
       "      <td>0</td>\n",
       "    </tr>\n",
       "    <tr>\n",
       "      <th>1</th>\n",
       "      <td>0</td>\n",
       "      <td>0</td>\n",
       "      <td>0</td>\n",
       "      <td>0</td>\n",
       "      <td>0</td>\n",
       "      <td>0</td>\n",
       "      <td>0</td>\n",
       "      <td>0</td>\n",
       "      <td>1</td>\n",
       "      <td>0</td>\n",
       "    </tr>\n",
       "    <tr>\n",
       "      <th>2</th>\n",
       "      <td>0</td>\n",
       "      <td>0</td>\n",
       "      <td>0</td>\n",
       "      <td>0</td>\n",
       "      <td>0</td>\n",
       "      <td>0</td>\n",
       "      <td>0</td>\n",
       "      <td>0</td>\n",
       "      <td>0</td>\n",
       "      <td>0</td>\n",
       "    </tr>\n",
       "    <tr>\n",
       "      <th>3</th>\n",
       "      <td>0</td>\n",
       "      <td>1</td>\n",
       "      <td>0</td>\n",
       "      <td>0</td>\n",
       "      <td>0</td>\n",
       "      <td>0</td>\n",
       "      <td>0</td>\n",
       "      <td>1</td>\n",
       "      <td>0</td>\n",
       "      <td>0</td>\n",
       "    </tr>\n",
       "    <tr>\n",
       "      <th>4</th>\n",
       "      <td>0</td>\n",
       "      <td>0</td>\n",
       "      <td>0</td>\n",
       "      <td>0</td>\n",
       "      <td>0</td>\n",
       "      <td>0</td>\n",
       "      <td>0</td>\n",
       "      <td>0</td>\n",
       "      <td>0</td>\n",
       "      <td>0</td>\n",
       "    </tr>\n",
       "  </tbody>\n",
       "</table>\n",
       "</div>"
      ],
      "text/plain": [
       "   Ad 1  Ad 2  Ad 3  Ad 4  Ad 5  Ad 6  Ad 7  Ad 8  Ad 9  Ad 10\n",
       "0     1     0     0     0     1     0     0     0     1      0\n",
       "1     0     0     0     0     0     0     0     0     1      0\n",
       "2     0     0     0     0     0     0     0     0     0      0\n",
       "3     0     1     0     0     0     0     0     1     0      0\n",
       "4     0     0     0     0     0     0     0     0     0      0"
      ]
     },
     "execution_count": 3,
     "metadata": {},
     "output_type": "execute_result"
    }
   ],
   "source": [
    "df.head()"
   ]
  },
  {
   "cell_type": "markdown",
   "id": "df493014-7f4f-4aef-9f24-3483f05a77ae",
   "metadata": {},
   "source": [
    "## Epsilon Greedy"
   ]
  },
  {
   "cell_type": "code",
   "execution_count": 26,
   "id": "0a71d63a-f4ec-4f51-8050-67cb2e7c6e90",
   "metadata": {},
   "outputs": [],
   "source": [
    "class EpsilonGreedy:\n",
    "    def __init__(self, epsilon: float) -> None:\n",
    "        self.values = [0 for _ in range(10)]\n",
    "        self.iterations = 0\n",
    "        self.epsilon = epsilon\n",
    "\n",
    "    def update(self, xs: [int]):\n",
    "        is_greedy = random.choices([False, True], [self.epsilon, 1 - self.epsilon])[0]\n",
    "\n",
    "        arm = self.best_arm() if is_greedy else self.random_arm()\n",
    "        reward = xs[arm]\n",
    "        \n",
    "        self.iterations += 1\n",
    "\n",
    "        self.values[arm] += reward\n",
    "        \n",
    "    def best_arm(self) -> int:\n",
    "        return np.argmax(self.values)\n",
    "\n",
    "    def random_arm(self) -> int:\n",
    "        return random.randint(0, 9)\n",
    "\n",
    "    def get_result(self) -> [int]:\n",
    "        return self.values"
   ]
  },
  {
   "cell_type": "code",
   "execution_count": 27,
   "id": "6718ef74-3b95-41d9-977a-e50cdbadd33f",
   "metadata": {},
   "outputs": [
    {
     "name": "stdout",
     "output_type": "stream",
     "text": [
      "[339, 1, 0, 0, 1, 0, 0, 1, 0, 0]\n"
     ]
    }
   ],
   "source": [
    "eg = EpsilonGreedy(0.01)\n",
    "\n",
    "counter = 0\n",
    "for xs in df.values:\n",
    "    counter +=1 \n",
    "\n",
    "    eg.update(xs)\n",
    "    if counter > 2000:\n",
    "        break\n",
    "\n",
    "print(eg.get_result())"
   ]
  },
  {
   "cell_type": "code",
   "execution_count": 28,
   "id": "2b08287f-a76c-4a77-a6e5-b5354213ea78",
   "metadata": {},
   "outputs": [
    {
     "name": "stdout",
     "output_type": "stream",
     "text": [
      "[236, 6, 5, 5, 11, 1, 2, 8, 6, 4]\n"
     ]
    }
   ],
   "source": [
    "eg = EpsilonGreedy(0.3)\n",
    "\n",
    "counter = 0\n",
    "for xs in df.values:\n",
    "    counter +=1 \n",
    "\n",
    "    eg.update(xs)\n",
    "    if counter > 2000:\n",
    "        break\n",
    "\n",
    "print(eg.get_result())"
   ]
  },
  {
   "cell_type": "markdown",
   "id": "8b2ce77d-c242-400a-b4a9-cd529c75c77d",
   "metadata": {},
   "source": [
    "## UCB"
   ]
  },
  {
   "cell_type": "code",
   "execution_count": 38,
   "id": "141f8334-344d-41c0-af28-789c5a6f1eec",
   "metadata": {},
   "outputs": [],
   "source": [
    "class UCB:\n",
    "    def __init__(self, c: float) -> None:\n",
    "        self.values = np.zeros(10)\n",
    "        self.iterations = 0\n",
    "        self.actions = np.zeros(10)\n",
    "        self.c = c\n",
    "\n",
    "    def update(self, xs: [int]):\n",
    "        arm = self.get_arm()\n",
    "        reward = xs[arm]\n",
    "\n",
    "        self.actions[arm] += 1\n",
    "        self.iterations += 1\n",
    "\n",
    "        self.values[arm] += reward\n",
    "        \n",
    "    def get_arm(self) -> int:\n",
    "        avg = self.values / self.actions\n",
    "        arm = np.argmax(self.values + self.c * np.sqrt(np.log(self.iterations + 1) / self.actions))\n",
    "        return arm\n",
    "\n",
    "    def get_result(self) -> [int]:\n",
    "        return self.values"
   ]
  },
  {
   "cell_type": "code",
   "execution_count": 42,
   "id": "57d151bf-8708-473c-882f-248da47aa2f2",
   "metadata": {},
   "outputs": [
    {
     "name": "stdout",
     "output_type": "stream",
     "text": [
      "[  1.   0.   0.   0. 540.   0.   0.   0.   0.   1.]\n"
     ]
    },
    {
     "name": "stderr",
     "output_type": "stream",
     "text": [
      "/tmp/ipykernel_4781/407135225.py:18: RuntimeWarning: invalid value encountered in divide\n",
      "  avg = self.values / self.actions\n",
      "/tmp/ipykernel_4781/407135225.py:19: RuntimeWarning: invalid value encountered in divide\n",
      "  arm = np.argmax(self.values + self.c * np.sqrt(np.log(self.iterations + 1) / self.actions))\n",
      "/tmp/ipykernel_4781/407135225.py:19: RuntimeWarning: divide by zero encountered in divide\n",
      "  arm = np.argmax(self.values + self.c * np.sqrt(np.log(self.iterations + 1) / self.actions))\n"
     ]
    }
   ],
   "source": [
    "ucb = UCB(1.5)\n",
    "\n",
    "counter = 0\n",
    "for xs in df.values:\n",
    "    counter +=1 \n",
    "\n",
    "    ucb.update(xs)\n",
    "    if counter > 2000:\n",
    "        break\n",
    "\n",
    "print(ucb.get_result())"
   ]
  },
  {
   "cell_type": "code",
   "execution_count": null,
   "id": "ea2cea31-c959-4dc5-aaf5-f0be3e344b56",
   "metadata": {},
   "outputs": [],
   "source": []
  }
 ],
 "metadata": {
  "kernelspec": {
   "display_name": "Python 3 (ipykernel)",
   "language": "python",
   "name": "python3"
  },
  "language_info": {
   "codemirror_mode": {
    "name": "ipython",
    "version": 3
   },
   "file_extension": ".py",
   "mimetype": "text/x-python",
   "name": "python",
   "nbconvert_exporter": "python",
   "pygments_lexer": "ipython3",
   "version": "3.11.4"
  }
 },
 "nbformat": 4,
 "nbformat_minor": 5
}
