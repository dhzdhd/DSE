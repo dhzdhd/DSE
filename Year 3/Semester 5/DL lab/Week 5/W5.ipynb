{
 "cells": [
  {
   "cell_type": "code",
   "execution_count": 1,
   "id": "4342f60c-f7ef-4de5-a92c-6259ce115cf7",
   "metadata": {},
   "outputs": [
    {
     "name": "stderr",
     "output_type": "stream",
     "text": [
      "2023-10-10 21:59:39.255967: I tensorflow/core/platform/cpu_feature_guard.cc:182] This TensorFlow binary is optimized to use available CPU instructions in performance-critical operations.\n",
      "To enable the following instructions: AVX2 FMA, in other operations, rebuild TensorFlow with the appropriate compiler flags.\n",
      "2023-10-10 21:59:40.629938: W tensorflow/compiler/tf2tensorrt/utils/py_utils.cc:38] TF-TRT Warning: Could not find TensorRT\n"
     ]
    }
   ],
   "source": [
    "import tensorflow as tf\n",
    "keras = tf.keras\n",
    "from keras.layers import SimpleRNN, Dense, Flatten, Dropout\n",
    "from sklearn.model_selection import train_test_split\n",
    "from sklearn.preprocessing import  MinMaxScaler\n",
    "from sklearn.metrics import mean_absolute_percentage_error, mean_squared_error\n",
    "from keras import Sequential, Input\n",
    "import numpy as np\n",
    "import pandas as pd\n",
    "import matplotlib.pyplot as plt\n"
   ]
  },
  {
   "cell_type": "markdown",
   "id": "2edba462",
   "metadata": {},
   "source": [
    "## Q1\n",
    "### A"
   ]
  },
  {
   "cell_type": "code",
   "execution_count": 2,
   "id": "f1c7e8dc-bbd6-40e9-892a-ab35faa41b8b",
   "metadata": {},
   "outputs": [],
   "source": [
    "def gen_time_series(sample_size: int, n_steps: int):\n",
    "    freq1, freq2, offsets1, offsets2 = np.random.rand(4, sample_size, 1)\n",
    "    time = np.linspace(0, 1, n_steps)\n",
    "    series = 0.5 * np.sin((time - offsets1) * (freq1 * 10 + 10))\n",
    "    series += 0.2 * np.sin((time - offsets2) * (freq2 * 20 + 20))\n",
    "    series += 0.1 * (np.random.rand(sample_size, n_steps) - 0.5)\n",
    "\n",
    "    return series[..., np.newaxis].astype(np.float32)\n"
   ]
  },
  {
   "cell_type": "code",
   "execution_count": 3,
   "id": "3dc104a4-7e56-4cb0-8f6b-c68ef50e5cb0",
   "metadata": {},
   "outputs": [],
   "source": [
    "data = gen_time_series(10000, 51)\n"
   ]
  },
  {
   "cell_type": "code",
   "execution_count": 4,
   "id": "d305ab69-54e4-4fb2-9f86-11be4de531dd",
   "metadata": {},
   "outputs": [
    {
     "data": {
      "text/plain": [
       "array([[-0.34917745],\n",
       "       [-0.09494269],\n",
       "       [ 0.13007222],\n",
       "       [ 0.33317357],\n",
       "       [ 0.4931553 ],\n",
       "       [ 0.5685146 ],\n",
       "       [ 0.5409047 ],\n",
       "       [ 0.49118164],\n",
       "       [ 0.4034384 ],\n",
       "       [ 0.24854226],\n",
       "       [ 0.15656188],\n",
       "       [ 0.11386947],\n",
       "       [ 0.03699638],\n",
       "       [ 0.01187767],\n",
       "       [-0.08158278],\n",
       "       [-0.12883589],\n",
       "       [-0.1283088 ],\n",
       "       [-0.22677714],\n",
       "       [-0.40901074],\n",
       "       [-0.48646325],\n",
       "       [-0.5555979 ],\n",
       "       [-0.5432388 ],\n",
       "       [-0.5365215 ],\n",
       "       [-0.36325133],\n",
       "       [-0.15171103],\n",
       "       [ 0.04956029],\n",
       "       [ 0.3679362 ],\n",
       "       [ 0.5678142 ],\n",
       "       [ 0.6708773 ],\n",
       "       [ 0.67431545],\n",
       "       [ 0.6408078 ],\n",
       "       [ 0.49195135],\n",
       "       [ 0.36711463],\n",
       "       [ 0.1543468 ],\n",
       "       [ 0.01525813],\n",
       "       [-0.12138142],\n",
       "       [-0.16130492],\n",
       "       [-0.20953335],\n",
       "       [-0.25725332],\n",
       "       [-0.23038828],\n",
       "       [-0.27563316],\n",
       "       [-0.29812714],\n",
       "       [-0.4235863 ],\n",
       "       [-0.40865096],\n",
       "       [-0.43754476],\n",
       "       [-0.45420375],\n",
       "       [-0.3056776 ],\n",
       "       [-0.12207834],\n",
       "       [ 0.09025307],\n",
       "       [ 0.27791664],\n",
       "       [ 0.44162652]], dtype=float32)"
      ]
     },
     "execution_count": 4,
     "metadata": {},
     "output_type": "execute_result"
    }
   ],
   "source": [
    "data[0]\n"
   ]
  },
  {
   "cell_type": "code",
   "execution_count": 5,
   "id": "a1a5f3fb-804a-4208-bbc1-59111956600b",
   "metadata": {},
   "outputs": [
    {
     "data": {
      "text/plain": [
       "array([[[-0.34917745],\n",
       "        [-0.09494269],\n",
       "        [ 0.13007222],\n",
       "        ...,\n",
       "        [-0.12207834],\n",
       "        [ 0.09025307],\n",
       "        [ 0.27791664]],\n",
       "\n",
       "       [[-0.05918322],\n",
       "        [-0.1721116 ],\n",
       "        [-0.22711864],\n",
       "        ...,\n",
       "        [ 0.42585674],\n",
       "        [ 0.34050676],\n",
       "        [ 0.1757131 ]],\n",
       "\n",
       "       [[-0.51627266],\n",
       "        [-0.53810394],\n",
       "        [-0.53888756],\n",
       "        ...,\n",
       "        [-0.21629599],\n",
       "        [-0.21707523],\n",
       "        [-0.30235085]],\n",
       "\n",
       "       ...,\n",
       "\n",
       "       [[-0.24571703],\n",
       "        [-0.481385  ],\n",
       "        [-0.66046286],\n",
       "        ...,\n",
       "        [ 0.47051954],\n",
       "        [ 0.18992552],\n",
       "        [-0.03456408]],\n",
       "\n",
       "       [[ 0.5894483 ],\n",
       "        [ 0.4403053 ],\n",
       "        [ 0.33995104],\n",
       "        ...,\n",
       "        [-0.3809685 ],\n",
       "        [-0.20793363],\n",
       "        [-0.05244441]],\n",
       "\n",
       "       [[-0.31107438],\n",
       "        [-0.26687083],\n",
       "        [-0.24508345],\n",
       "        ...,\n",
       "        [ 0.47725663],\n",
       "        [ 0.32029542],\n",
       "        [ 0.20053948]]], dtype=float32)"
      ]
     },
     "execution_count": 5,
     "metadata": {},
     "output_type": "execute_result"
    }
   ],
   "source": [
    "X = data[:, 0:50]\n",
    "X\n"
   ]
  },
  {
   "cell_type": "code",
   "execution_count": 6,
   "id": "0751fa51-03a9-4ac7-8c09-a31a3f7313a2",
   "metadata": {},
   "outputs": [
    {
     "data": {
      "text/plain": [
       "array([[ 0.44162652],\n",
       "       [-0.04999599],\n",
       "       [-0.29545313],\n",
       "       ...,\n",
       "       [-0.17961931],\n",
       "       [ 0.17241426],\n",
       "       [ 0.03878654]], dtype=float32)"
      ]
     },
     "execution_count": 6,
     "metadata": {},
     "output_type": "execute_result"
    }
   ],
   "source": [
    "y = data[:, -1]\n",
    "y\n"
   ]
  },
  {
   "cell_type": "markdown",
   "id": "4bb7c08b",
   "metadata": {},
   "source": [
    "### B"
   ]
  },
  {
   "cell_type": "code",
   "execution_count": 7,
   "id": "dde414a8-d95a-4c36-a5f3-3863f60a4ea2",
   "metadata": {},
   "outputs": [
    {
     "data": {
      "text/plain": [
       "(2000, 50, 1)"
      ]
     },
     "execution_count": 7,
     "metadata": {},
     "output_type": "execute_result"
    }
   ],
   "source": [
    "X_train, X_val, X_test = X[0:7000, :], X[7000:9000, :], X[9000:10000, :]\n",
    "X_val.shape\n"
   ]
  },
  {
   "cell_type": "code",
   "execution_count": 8,
   "id": "573b1537-1b13-4332-9d2d-268b575f1dc2",
   "metadata": {},
   "outputs": [],
   "source": [
    "y_train, y_val, y_test = y[0:7000, :], y[7000:9000, :], y[9000:10000, :]\n"
   ]
  },
  {
   "cell_type": "code",
   "execution_count": 9,
   "id": "032162cb-c876-4dac-bf52-67643ca2f998",
   "metadata": {},
   "outputs": [
    {
     "data": {
      "text/plain": [
       "(7000, 1)"
      ]
     },
     "execution_count": 9,
     "metadata": {},
     "output_type": "execute_result"
    }
   ],
   "source": [
    "y_train.shape\n"
   ]
  },
  {
   "cell_type": "markdown",
   "id": "a922f463",
   "metadata": {},
   "source": [
    "### C\n",
    "#### a\n"
   ]
  },
  {
   "cell_type": "code",
   "execution_count": 10,
   "id": "70677089-75d6-41c6-b61f-4bd43e26f3fa",
   "metadata": {},
   "outputs": [
    {
     "name": "stderr",
     "output_type": "stream",
     "text": [
      "2023-10-10 21:59:46.058139: I tensorflow/compiler/xla/stream_executor/cuda/cuda_gpu_executor.cc:981] could not open file to read NUMA node: /sys/bus/pci/devices/0000:22:00.0/numa_node\n",
      "Your kernel may have been built without NUMA support.\n",
      "2023-10-10 21:59:47.517644: I tensorflow/compiler/xla/stream_executor/cuda/cuda_gpu_executor.cc:981] could not open file to read NUMA node: /sys/bus/pci/devices/0000:22:00.0/numa_node\n",
      "Your kernel may have been built without NUMA support.\n",
      "2023-10-10 21:59:47.517752: I tensorflow/compiler/xla/stream_executor/cuda/cuda_gpu_executor.cc:981] could not open file to read NUMA node: /sys/bus/pci/devices/0000:22:00.0/numa_node\n",
      "Your kernel may have been built without NUMA support.\n",
      "2023-10-10 21:59:47.552648: I tensorflow/compiler/xla/stream_executor/cuda/cuda_gpu_executor.cc:981] could not open file to read NUMA node: /sys/bus/pci/devices/0000:22:00.0/numa_node\n",
      "Your kernel may have been built without NUMA support.\n",
      "2023-10-10 21:59:47.552753: I tensorflow/compiler/xla/stream_executor/cuda/cuda_gpu_executor.cc:981] could not open file to read NUMA node: /sys/bus/pci/devices/0000:22:00.0/numa_node\n",
      "Your kernel may have been built without NUMA support.\n",
      "2023-10-10 21:59:47.552816: I tensorflow/compiler/xla/stream_executor/cuda/cuda_gpu_executor.cc:981] could not open file to read NUMA node: /sys/bus/pci/devices/0000:22:00.0/numa_node\n",
      "Your kernel may have been built without NUMA support.\n",
      "2023-10-10 21:59:48.005124: I tensorflow/compiler/xla/stream_executor/cuda/cuda_gpu_executor.cc:981] could not open file to read NUMA node: /sys/bus/pci/devices/0000:22:00.0/numa_node\n",
      "Your kernel may have been built without NUMA support.\n",
      "2023-10-10 21:59:48.005646: I tensorflow/compiler/xla/stream_executor/cuda/cuda_gpu_executor.cc:981] could not open file to read NUMA node: /sys/bus/pci/devices/0000:22:00.0/numa_node\n",
      "Your kernel may have been built without NUMA support.\n",
      "2023-10-10 21:59:48.005675: I tensorflow/core/common_runtime/gpu/gpu_device.cc:1726] Could not identify NUMA node of platform GPU id 0, defaulting to 0.  Your kernel may not have been built with NUMA support.\n",
      "2023-10-10 21:59:48.005790: I tensorflow/compiler/xla/stream_executor/cuda/cuda_gpu_executor.cc:981] could not open file to read NUMA node: /sys/bus/pci/devices/0000:22:00.0/numa_node\n",
      "Your kernel may have been built without NUMA support.\n",
      "2023-10-10 21:59:48.006229: I tensorflow/core/common_runtime/gpu/gpu_device.cc:1639] Created device /job:localhost/replica:0/task:0/device:GPU:0 with 4714 MB memory:  -> device: 0, name: NVIDIA GeForce GTX 1060 6GB, pci bus id: 0000:22:00.0, compute capability: 6.1\n"
     ]
    },
    {
     "name": "stdout",
     "output_type": "stream",
     "text": [
      "Model: \"sequential\"\n",
      "_________________________________________________________________\n",
      " Layer (type)                Output Shape              Param #   \n",
      "=================================================================\n",
      " flatten (Flatten)           (None, 50)                0         \n",
      "                                                                 \n",
      " dense (Dense)               (None, 1)                 51        \n",
      "                                                                 \n",
      "=================================================================\n",
      "Total params: 51 (204.00 Byte)\n",
      "Trainable params: 51 (204.00 Byte)\n",
      "Non-trainable params: 0 (0.00 Byte)\n",
      "_________________________________________________________________\n",
      "_________________________________________________________________\n",
      " Layer (type)                Output Shape              Param #   \n",
      "=================================================================\n",
      " flatten (Flatten)           (None, 50)                0         \n",
      "                                                                 \n",
      " dense (Dense)               (None, 1)                 51        \n",
      "                                                                 \n",
      "=================================================================\n",
      "Total params: 51 (204.00 Byte)\n",
      "Trainable params: 51 (204.00 Byte)\n",
      "Non-trainable params: 0 (0.00 Byte)\n",
      "_________________________________________________________________\n"
     ]
    }
   ],
   "source": [
    "fcnn_model = Sequential([\n",
    "    Flatten(input_shape=[50, 1]),\n",
    "    Dense(1)\n",
    "])\n",
    "fcnn_model.summary()\n"
   ]
  },
  {
   "cell_type": "code",
   "execution_count": 11,
   "id": "0e8c688b-1f9a-4b92-890a-11e0221035c7",
   "metadata": {},
   "outputs": [],
   "source": [
    "fcnn_model.compile(loss=\"mse\", optimizer=\"adam\")\n"
   ]
  },
  {
   "cell_type": "code",
   "execution_count": 12,
   "id": "9f388b17-c91d-4842-8ccc-b0341b70e1cc",
   "metadata": {},
   "outputs": [
    {
     "name": "stdout",
     "output_type": "stream",
     "text": [
      "Epoch 1/20\n"
     ]
    },
    {
     "name": "stderr",
     "output_type": "stream",
     "text": [
      "2023-10-10 21:59:57.607616: I tensorflow/compiler/xla/service/service.cc:168] XLA service 0x7fb3300d2cd0 initialized for platform CUDA (this does not guarantee that XLA will be used). Devices:\n",
      "2023-10-10 21:59:57.607703: I tensorflow/compiler/xla/service/service.cc:176]   StreamExecutor device (0): NVIDIA GeForce GTX 1060 6GB, Compute Capability 6.1\n",
      "2023-10-10 21:59:58.181080: I tensorflow/compiler/mlir/tensorflow/utils/dump_mlir_util.cc:255] disabling MLIR crash reproducer, set env var `MLIR_CRASH_REPRODUCER_DIRECTORY` to enable.\n",
      "2023-10-10 21:59:58.499439: I tensorflow/compiler/xla/stream_executor/cuda/cuda_dnn.cc:432] Loaded cuDNN version 8600\n",
      "2023-10-10 21:59:59.284781: I tensorflow/tsl/platform/default/subprocess.cc:304] Start cannot spawn child process: No such file or directory\n"
     ]
    },
    {
     "name": "stdout",
     "output_type": "stream",
     "text": [
      "  1/219 [..............................] - ETA: 12:59 - loss: 0.3888"
     ]
    },
    {
     "name": "stderr",
     "output_type": "stream",
     "text": [
      "2023-10-10 21:59:59.807672: I ./tensorflow/compiler/jit/device_compiler.h:186] Compiled cluster using XLA!  This line is logged at most once for the lifetime of the process.\n"
     ]
    },
    {
     "name": "stdout",
     "output_type": "stream",
     "text": [
      "219/219 [==============================] - 5s 6ms/step - loss: 0.1443 - val_loss: 0.0526\n",
      "Epoch 2/20\n",
      "219/219 [==============================] - 1s 6ms/step - loss: 0.0351 - val_loss: 0.0245\n",
      "Epoch 3/20\n",
      "219/219 [==============================] - 1s 7ms/step - loss: 0.0220 - val_loss: 0.0187\n",
      "Epoch 4/20\n",
      "219/219 [==============================] - 1s 6ms/step - loss: 0.0177 - val_loss: 0.0156\n",
      "Epoch 5/20\n",
      "219/219 [==============================] - 1s 6ms/step - loss: 0.0149 - val_loss: 0.0132\n",
      "Epoch 6/20\n",
      "219/219 [==============================] - 1s 6ms/step - loss: 0.0128 - val_loss: 0.0116\n",
      "Epoch 7/20\n",
      "219/219 [==============================] - 1s 6ms/step - loss: 0.0111 - val_loss: 0.0102\n",
      "Epoch 8/20\n",
      "219/219 [==============================] - 1s 6ms/step - loss: 0.0097 - val_loss: 0.0089\n",
      "Epoch 9/20\n",
      "219/219 [==============================] - 2s 7ms/step - loss: 0.0085 - val_loss: 0.0077\n",
      "Epoch 10/20\n",
      "219/219 [==============================] - 1s 6ms/step - loss: 0.0075 - val_loss: 0.0069\n",
      "Epoch 11/20\n",
      "219/219 [==============================] - 1s 6ms/step - loss: 0.0067 - val_loss: 0.0062\n",
      "Epoch 12/20\n",
      "219/219 [==============================] - 2s 7ms/step - loss: 0.0060 - val_loss: 0.0057\n",
      "Epoch 13/20\n",
      "219/219 [==============================] - 2s 7ms/step - loss: 0.0055 - val_loss: 0.0052\n",
      "Epoch 14/20\n",
      "219/219 [==============================] - 1s 6ms/step - loss: 0.0051 - val_loss: 0.0050\n",
      "Epoch 15/20\n",
      "219/219 [==============================] - 1s 6ms/step - loss: 0.0048 - val_loss: 0.0047\n",
      "Epoch 16/20\n",
      "219/219 [==============================] - 2s 7ms/step - loss: 0.0046 - val_loss: 0.0046\n",
      "Epoch 17/20\n",
      "219/219 [==============================] - 2s 7ms/step - loss: 0.0044 - val_loss: 0.0044\n",
      "Epoch 18/20\n",
      "219/219 [==============================] - 1s 7ms/step - loss: 0.0043 - val_loss: 0.0042\n",
      "Epoch 19/20\n",
      "219/219 [==============================] - 2s 7ms/step - loss: 0.0041 - val_loss: 0.0041\n",
      "Epoch 20/20\n",
      "219/219 [==============================] - 2s 7ms/step - loss: 0.0040 - val_loss: 0.0040\n"
     ]
    }
   ],
   "source": [
    "fcnn_hist = fcnn_model.fit(X_train, y_train, epochs=20, validation_data=(X_val, y_val))\n"
   ]
  },
  {
   "cell_type": "code",
   "execution_count": 13,
   "id": "2691c74c",
   "metadata": {},
   "outputs": [
    {
     "name": "stdout",
     "output_type": "stream",
     "text": [
      "32/32 [==============================] - 0s 4ms/step - loss: 0.0046\n"
     ]
    },
    {
     "data": {
      "text/plain": [
       "0.004603728652000427"
      ]
     },
     "execution_count": 13,
     "metadata": {},
     "output_type": "execute_result"
    }
   ],
   "source": [
    "fcnn_model.evaluate(X_test, y_test)\n"
   ]
  },
  {
   "cell_type": "markdown",
   "id": "57a8e324",
   "metadata": {},
   "source": [
    "#### b"
   ]
  },
  {
   "cell_type": "code",
   "execution_count": 14,
   "id": "bc2f5aff-e7f6-4a75-8c76-886149d61286",
   "metadata": {},
   "outputs": [
    {
     "name": "stdout",
     "output_type": "stream",
     "text": [
      "Model: \"sequential_1\"\n",
      "_________________________________________________________________\n",
      " Layer (type)                Output Shape              Param #   \n",
      "=================================================================\n",
      " simple_rnn (SimpleRNN)      (None, 1)                 3         \n",
      "                                                                 \n",
      "=================================================================\n",
      "Total params: 3 (12.00 Byte)\n",
      "Trainable params: 3 (12.00 Byte)\n",
      "Non-trainable params: 0 (0.00 Byte)\n",
      "_________________________________________________________________\n",
      "_________________________________________________________________\n",
      " Layer (type)                Output Shape              Param #   \n",
      "=================================================================\n",
      " simple_rnn (SimpleRNN)      (None, 1)                 3         \n",
      "                                                                 \n",
      "=================================================================\n",
      "Total params: 3 (12.00 Byte)\n",
      "Trainable params: 3 (12.00 Byte)\n",
      "Non-trainable params: 0 (0.00 Byte)\n",
      "_________________________________________________________________\n"
     ]
    }
   ],
   "source": [
    "rnn1_model = Sequential([\n",
    "    Input((50, 1)),\n",
    "    SimpleRNN(1)\n",
    "])\n",
    "rnn1_model.summary()\n"
   ]
  },
  {
   "cell_type": "code",
   "execution_count": 15,
   "id": "59962ec9-e296-4c4c-b6ec-f9273ea9aa04",
   "metadata": {},
   "outputs": [],
   "source": [
    "rnn1_model.compile(loss=\"mse\", optimizer=\"adam\", metrics=['accuracy'])\n"
   ]
  },
  {
   "cell_type": "code",
   "execution_count": 16,
   "id": "14a55428",
   "metadata": {},
   "outputs": [
    {
     "name": "stdout",
     "output_type": "stream",
     "text": [
      "Epoch 1/20\n",
      "219/219 [==============================] - 25s 109ms/step - loss: 0.1758 - accuracy: 0.0000e+00 - val_loss: 0.1522 - val_accuracy: 0.0000e+00\n",
      "Epoch 2/20\n",
      "219/219 [==============================] - 23s 103ms/step - loss: 0.1453 - accuracy: 0.0000e+00 - val_loss: 0.1387 - val_accuracy: 0.0000e+00\n",
      "Epoch 3/20\n",
      "219/219 [==============================] - 22s 100ms/step - loss: 0.1378 - accuracy: 0.0000e+00 - val_loss: 0.1395 - val_accuracy: 0.0000e+00\n",
      "Epoch 4/20\n",
      "219/219 [==============================] - 23s 104ms/step - loss: 0.1386 - accuracy: 0.0000e+00 - val_loss: 0.1398 - val_accuracy: 0.0000e+00\n",
      "Epoch 5/20\n",
      "219/219 [==============================] - 23s 106ms/step - loss: 0.1399 - accuracy: 0.0000e+00 - val_loss: 0.1381 - val_accuracy: 0.0000e+00\n",
      "Epoch 6/20\n",
      "219/219 [==============================] - 23s 105ms/step - loss: 0.1386 - accuracy: 0.0000e+00 - val_loss: 0.1386 - val_accuracy: 0.0000e+00\n",
      "Epoch 7/20\n",
      "219/219 [==============================] - 23s 106ms/step - loss: 0.1382 - accuracy: 0.0000e+00 - val_loss: 0.1380 - val_accuracy: 0.0000e+00\n",
      "Epoch 8/20\n",
      "219/219 [==============================] - 23s 105ms/step - loss: 0.1380 - accuracy: 0.0000e+00 - val_loss: 0.1381 - val_accuracy: 0.0000e+00\n",
      "Epoch 9/20\n",
      "219/219 [==============================] - 23s 103ms/step - loss: 0.1383 - accuracy: 0.0000e+00 - val_loss: 0.1398 - val_accuracy: 0.0000e+00\n",
      "Epoch 10/20\n",
      "219/219 [==============================] - 22s 101ms/step - loss: 0.1381 - accuracy: 0.0000e+00 - val_loss: 0.1379 - val_accuracy: 0.0000e+00\n",
      "Epoch 11/20\n",
      "219/219 [==============================] - 22s 101ms/step - loss: 0.1384 - accuracy: 0.0000e+00 - val_loss: 0.1379 - val_accuracy: 0.0000e+00\n",
      "Epoch 12/20\n",
      "219/219 [==============================] - 22s 100ms/step - loss: 0.1377 - accuracy: 0.0000e+00 - val_loss: 0.1380 - val_accuracy: 0.0000e+00\n",
      "Epoch 13/20\n",
      "219/219 [==============================] - 21s 98ms/step - loss: 0.1386 - accuracy: 0.0000e+00 - val_loss: 0.1398 - val_accuracy: 0.0000e+00\n",
      "Epoch 14/20\n",
      "219/219 [==============================] - 22s 102ms/step - loss: 0.1385 - accuracy: 0.0000e+00 - val_loss: 0.1379 - val_accuracy: 0.0000e+00\n",
      "Epoch 15/20\n",
      "219/219 [==============================] - 22s 102ms/step - loss: 0.1395 - accuracy: 0.0000e+00 - val_loss: 0.1386 - val_accuracy: 0.0000e+00\n",
      "Epoch 16/20\n",
      "219/219 [==============================] - 23s 104ms/step - loss: 0.1382 - accuracy: 0.0000e+00 - val_loss: 0.1380 - val_accuracy: 0.0000e+00\n",
      "Epoch 17/20\n",
      "219/219 [==============================] - 23s 104ms/step - loss: 0.1384 - accuracy: 0.0000e+00 - val_loss: 0.1403 - val_accuracy: 0.0000e+00\n",
      "Epoch 18/20\n",
      "219/219 [==============================] - 21s 97ms/step - loss: 0.1378 - accuracy: 0.0000e+00 - val_loss: 0.1378 - val_accuracy: 0.0000e+00\n",
      "Epoch 19/20\n",
      "219/219 [==============================] - 23s 105ms/step - loss: 0.1385 - accuracy: 0.0000e+00 - val_loss: 0.1387 - val_accuracy: 0.0000e+00\n",
      "Epoch 20/20\n",
      "219/219 [==============================] - 22s 101ms/step - loss: 0.1388 - accuracy: 0.0000e+00 - val_loss: 0.1401 - val_accuracy: 0.0000e+00\n"
     ]
    }
   ],
   "source": [
    "rnn1_hist = rnn1_model.fit(X_train, y_train, epochs=20, validation_data=(X_val, y_val))\n"
   ]
  },
  {
   "cell_type": "code",
   "execution_count": 17,
   "id": "b6d08d07",
   "metadata": {},
   "outputs": [
    {
     "name": "stdout",
     "output_type": "stream",
     "text": [
      "32/32 [==============================] - 1s 14ms/step - loss: 0.1413 - accuracy: 0.0000e+00\n"
     ]
    },
    {
     "data": {
      "text/plain": [
       "[0.14133983850479126, 0.0]"
      ]
     },
     "execution_count": 17,
     "metadata": {},
     "output_type": "execute_result"
    }
   ],
   "source": [
    "rnn1_model.evaluate(X_test, y_test)\n"
   ]
  },
  {
   "cell_type": "markdown",
   "id": "adba5279",
   "metadata": {},
   "source": [
    "#### c,d"
   ]
  },
  {
   "cell_type": "code",
   "execution_count": 18,
   "id": "5b3760f0",
   "metadata": {},
   "outputs": [
    {
     "name": "stdout",
     "output_type": "stream",
     "text": [
      "Model: \"sequential_2\"\n",
      "_________________________________________________________________\n",
      " Layer (type)                Output Shape              Param #   \n",
      "=================================================================\n",
      " simple_rnn_1 (SimpleRNN)    (None, 50, 1)             3         \n",
      "                                                                 \n",
      " simple_rnn_2 (SimpleRNN)    (None, 1)                 3         \n",
      "                                                                 \n",
      "=================================================================\n",
      "Total params: 6 (24.00 Byte)\n",
      "Trainable params: 6 (24.00 Byte)\n",
      "Non-trainable params: 0 (0.00 Byte)\n",
      "_________________________________________________________________\n",
      "_________________________________________________________________\n",
      " Layer (type)                Output Shape              Param #   \n",
      "=================================================================\n",
      " simple_rnn_1 (SimpleRNN)    (None, 50, 1)             3         \n",
      "                                                                 \n",
      " simple_rnn_2 (SimpleRNN)    (None, 1)                 3         \n",
      "                                                                 \n",
      "=================================================================\n",
      "Total params: 6 (24.00 Byte)\n",
      "Trainable params: 6 (24.00 Byte)\n",
      "Non-trainable params: 0 (0.00 Byte)\n",
      "_________________________________________________________________\n"
     ]
    }
   ],
   "source": [
    "rnn2_model = Sequential([\n",
    "    Input((50, 1)),\n",
    "    SimpleRNN(1, return_sequences=True),\n",
    "    SimpleRNN(1)\n",
    "])\n",
    "rnn2_model.summary()\n"
   ]
  },
  {
   "cell_type": "code",
   "execution_count": 19,
   "id": "3773e30a",
   "metadata": {},
   "outputs": [],
   "source": [
    "rnn2_model.compile(loss=\"mse\", optimizer=\"adam\")\n"
   ]
  },
  {
   "cell_type": "code",
   "execution_count": 20,
   "id": "e7bd1310",
   "metadata": {},
   "outputs": [
    {
     "name": "stdout",
     "output_type": "stream",
     "text": [
      "Epoch 1/20\n",
      "219/219 [==============================] - 50s 220ms/step - loss: 0.1029 - val_loss: 0.0840\n",
      "Epoch 2/20\n",
      "219/219 [==============================] - 50s 227ms/step - loss: 0.0663 - val_loss: 0.0524\n",
      "Epoch 3/20\n",
      "219/219 [==============================] - 52s 237ms/step - loss: 0.0409 - val_loss: 0.0329\n",
      "Epoch 4/20\n",
      "219/219 [==============================] - 47s 216ms/step - loss: 0.0267 - val_loss: 0.0230\n",
      "Epoch 5/20\n",
      "219/219 [==============================] - 51s 235ms/step - loss: 0.0195 - val_loss: 0.0177\n",
      "Epoch 6/20\n",
      "219/219 [==============================] - 49s 223ms/step - loss: 0.0156 - val_loss: 0.0146\n",
      "Epoch 7/20\n",
      "219/219 [==============================] - 47s 213ms/step - loss: 0.0133 - val_loss: 0.0128\n",
      "Epoch 8/20\n",
      "219/219 [==============================] - 49s 222ms/step - loss: 0.0119 - val_loss: 0.0117\n",
      "Epoch 9/20\n",
      "219/219 [==============================] - 50s 229ms/step - loss: 0.0111 - val_loss: 0.0111\n",
      "Epoch 10/20\n",
      "219/219 [==============================] - 48s 217ms/step - loss: 0.0106 - val_loss: 0.0107\n",
      "Epoch 11/20\n",
      "219/219 [==============================] - 46s 208ms/step - loss: 0.0104 - val_loss: 0.0105\n",
      "Epoch 12/20\n",
      "219/219 [==============================] - 45s 206ms/step - loss: 0.0102 - val_loss: 0.0104\n",
      "Epoch 13/20\n",
      "219/219 [==============================] - 49s 223ms/step - loss: 0.0101 - val_loss: 0.0103\n",
      "Epoch 14/20\n",
      "219/219 [==============================] - 50s 228ms/step - loss: 0.0101 - val_loss: 0.0102\n",
      "Epoch 15/20\n",
      "219/219 [==============================] - 50s 228ms/step - loss: 0.0101 - val_loss: 0.0102\n",
      "Epoch 16/20\n",
      "219/219 [==============================] - 50s 229ms/step - loss: 0.0100 - val_loss: 0.0102\n",
      "Epoch 17/20\n",
      "219/219 [==============================] - 49s 224ms/step - loss: 0.0100 - val_loss: 0.0102\n",
      "Epoch 18/20\n",
      "219/219 [==============================] - 47s 213ms/step - loss: 0.0100 - val_loss: 0.0101\n",
      "Epoch 19/20\n",
      "219/219 [==============================] - 51s 232ms/step - loss: 0.0100 - val_loss: 0.0101\n",
      "Epoch 20/20\n",
      "219/219 [==============================] - 52s 236ms/step - loss: 0.0099 - val_loss: 0.0101\n"
     ]
    }
   ],
   "source": [
    "rnn2_hist = rnn2_model.fit(X_train, y_train, epochs=20, validation_data=(X_val, y_val))\n"
   ]
  },
  {
   "cell_type": "code",
   "execution_count": 21,
   "id": "e968b43a",
   "metadata": {},
   "outputs": [
    {
     "name": "stdout",
     "output_type": "stream",
     "text": [
      " 1/32 [..............................] - ETA: 2s - loss: 0.0110"
     ]
    },
    {
     "name": "stdout",
     "output_type": "stream",
     "text": [
      "32/32 [==============================] - 1s 45ms/step - loss: 0.0101\n"
     ]
    },
    {
     "data": {
      "text/plain": [
       "0.010136560536921024"
      ]
     },
     "execution_count": 21,
     "metadata": {},
     "output_type": "execute_result"
    }
   ],
   "source": [
    "rnn2_model.evaluate(X_test, y_test)\n"
   ]
  },
  {
   "cell_type": "markdown",
   "id": "b1e6a9ba",
   "metadata": {},
   "source": [
    "#### e"
   ]
  },
  {
   "cell_type": "code",
   "execution_count": 22,
   "id": "9a8105f0",
   "metadata": {},
   "outputs": [
    {
     "name": "stdout",
     "output_type": "stream",
     "text": [
      "Model: \"sequential_3\"\n",
      "_________________________________________________________________\n",
      " Layer (type)                Output Shape              Param #   \n",
      "=================================================================\n",
      " simple_rnn_3 (SimpleRNN)    (None, 50, 1)             3         \n",
      "                                                                 \n",
      " simple_rnn_4 (SimpleRNN)    (None, 50, 1)             3         \n",
      "_________________________________________________________________\n",
      " Layer (type)                Output Shape              Param #   \n",
      "=================================================================\n",
      " simple_rnn_3 (SimpleRNN)    (None, 50, 1)             3         \n",
      "                                                                 \n",
      " simple_rnn_4 (SimpleRNN)    (None, 50, 1)             3         \n",
      "                                                                 \n",
      " simple_rnn_5 (SimpleRNN)    (None, 1)                 3         \n",
      "                                                                 \n",
      "=================================================================\n",
      "Total params: 9 (36.00 Byte)\n",
      "Trainable params: 9 (36.00 Byte)\n",
      "Non-trainable params: 0 (0.00 Byte)\n",
      "_________________________________________________________________\n"
     ]
    }
   ],
   "source": [
    "rnn3_model = Sequential([\n",
    "    Input((50, 1)),\n",
    "    SimpleRNN(1, return_sequences=True),\n",
    "    SimpleRNN(1, return_sequences=True),\n",
    "    SimpleRNN(1)\n",
    "])\n",
    "rnn3_model.summary()\n"
   ]
  },
  {
   "cell_type": "code",
   "execution_count": 23,
   "id": "09564e54",
   "metadata": {},
   "outputs": [],
   "source": [
    "rnn3_model.compile(loss=\"mse\", optimizer=\"adam\")\n"
   ]
  },
  {
   "cell_type": "code",
   "execution_count": 24,
   "id": "e1f20b6b",
   "metadata": {},
   "outputs": [
    {
     "name": "stdout",
     "output_type": "stream",
     "text": [
      "Epoch 1/10\n"
     ]
    },
    {
     "name": "stdout",
     "output_type": "stream",
     "text": [
      "219/219 [==============================] - 90s 397ms/step - loss: 0.1889 - val_loss: 0.1663\n",
      "Epoch 2/10\n",
      "219/219 [==============================] - 82s 374ms/step - loss: 0.1587 - val_loss: 0.1527\n",
      "Epoch 3/10\n",
      "219/219 [==============================] - 83s 379ms/step - loss: 0.1493 - val_loss: 0.1514\n",
      "Epoch 4/10\n",
      "219/219 [==============================] - 85s 388ms/step - loss: 0.1455 - val_loss: 0.1446\n",
      "Epoch 5/10\n",
      "219/219 [==============================] - 77s 351ms/step - loss: 0.1433 - val_loss: 0.1452\n",
      "Epoch 6/10\n",
      "219/219 [==============================] - 83s 379ms/step - loss: 0.1434 - val_loss: 0.1446\n",
      "Epoch 7/10\n",
      "219/219 [==============================] - 80s 364ms/step - loss: 0.1431 - val_loss: 0.1439\n",
      "Epoch 8/10\n",
      "219/219 [==============================] - 80s 367ms/step - loss: 0.1432 - val_loss: 0.1450\n",
      "Epoch 9/10\n",
      "219/219 [==============================] - 81s 372ms/step - loss: 0.1436 - val_loss: 0.1446\n",
      "Epoch 10/10\n",
      "219/219 [==============================] - 79s 361ms/step - loss: 0.1429 - val_loss: 0.1434\n"
     ]
    }
   ],
   "source": [
    "rnn3_hist = rnn3_model.fit(X_train, y_train, epochs=10, validation_data=(X_val, y_val))\n"
   ]
  },
  {
   "cell_type": "code",
   "execution_count": 25,
   "id": "5d83e960",
   "metadata": {},
   "outputs": [
    {
     "name": "stdout",
     "output_type": "stream",
     "text": [
      "32/32 [==============================] - 1s 35ms/step - loss: 0.1430\n"
     ]
    },
    {
     "data": {
      "text/plain": [
       "0.14297938346862793"
      ]
     },
     "execution_count": 25,
     "metadata": {},
     "output_type": "execute_result"
    }
   ],
   "source": [
    "rnn3_model.evaluate(X_test, y_test)\n"
   ]
  },
  {
   "cell_type": "markdown",
   "id": "299a9a6d",
   "metadata": {},
   "source": [
    "## Q2"
   ]
  },
  {
   "cell_type": "code",
   "execution_count": 26,
   "id": "06bc07e8",
   "metadata": {},
   "outputs": [],
   "source": [
    "df = pd.read_csv('GOOG.csv')\n"
   ]
  },
  {
   "cell_type": "code",
   "execution_count": 27,
   "id": "dabf81f6",
   "metadata": {},
   "outputs": [
    {
     "data": {
      "text/html": [
       "<div>\n",
       "<style scoped>\n",
       "    .dataframe tbody tr th:only-of-type {\n",
       "        vertical-align: middle;\n",
       "    }\n",
       "\n",
       "    .dataframe tbody tr th {\n",
       "        vertical-align: top;\n",
       "    }\n",
       "\n",
       "    .dataframe thead th {\n",
       "        text-align: right;\n",
       "    }\n",
       "</style>\n",
       "<table border=\"1\" class=\"dataframe\">\n",
       "  <thead>\n",
       "    <tr style=\"text-align: right;\">\n",
       "      <th></th>\n",
       "      <th>symbol</th>\n",
       "      <th>date</th>\n",
       "      <th>close</th>\n",
       "      <th>high</th>\n",
       "      <th>low</th>\n",
       "      <th>open</th>\n",
       "      <th>volume</th>\n",
       "      <th>adjClose</th>\n",
       "      <th>adjHigh</th>\n",
       "      <th>adjLow</th>\n",
       "      <th>adjOpen</th>\n",
       "      <th>adjVolume</th>\n",
       "      <th>divCash</th>\n",
       "      <th>splitFactor</th>\n",
       "    </tr>\n",
       "  </thead>\n",
       "  <tbody>\n",
       "    <tr>\n",
       "      <th>0</th>\n",
       "      <td>GOOG</td>\n",
       "      <td>2016-06-14 00:00:00+00:00</td>\n",
       "      <td>718.27</td>\n",
       "      <td>722.47</td>\n",
       "      <td>713.1200</td>\n",
       "      <td>716.48</td>\n",
       "      <td>1306065</td>\n",
       "      <td>718.27</td>\n",
       "      <td>722.47</td>\n",
       "      <td>713.1200</td>\n",
       "      <td>716.48</td>\n",
       "      <td>1306065</td>\n",
       "      <td>0.0</td>\n",
       "      <td>1.0</td>\n",
       "    </tr>\n",
       "    <tr>\n",
       "      <th>1</th>\n",
       "      <td>GOOG</td>\n",
       "      <td>2016-06-15 00:00:00+00:00</td>\n",
       "      <td>718.92</td>\n",
       "      <td>722.98</td>\n",
       "      <td>717.3100</td>\n",
       "      <td>719.00</td>\n",
       "      <td>1214517</td>\n",
       "      <td>718.92</td>\n",
       "      <td>722.98</td>\n",
       "      <td>717.3100</td>\n",
       "      <td>719.00</td>\n",
       "      <td>1214517</td>\n",
       "      <td>0.0</td>\n",
       "      <td>1.0</td>\n",
       "    </tr>\n",
       "    <tr>\n",
       "      <th>2</th>\n",
       "      <td>GOOG</td>\n",
       "      <td>2016-06-16 00:00:00+00:00</td>\n",
       "      <td>710.36</td>\n",
       "      <td>716.65</td>\n",
       "      <td>703.2600</td>\n",
       "      <td>714.91</td>\n",
       "      <td>1982471</td>\n",
       "      <td>710.36</td>\n",
       "      <td>716.65</td>\n",
       "      <td>703.2600</td>\n",
       "      <td>714.91</td>\n",
       "      <td>1982471</td>\n",
       "      <td>0.0</td>\n",
       "      <td>1.0</td>\n",
       "    </tr>\n",
       "    <tr>\n",
       "      <th>3</th>\n",
       "      <td>GOOG</td>\n",
       "      <td>2016-06-17 00:00:00+00:00</td>\n",
       "      <td>691.72</td>\n",
       "      <td>708.82</td>\n",
       "      <td>688.4515</td>\n",
       "      <td>708.65</td>\n",
       "      <td>3402357</td>\n",
       "      <td>691.72</td>\n",
       "      <td>708.82</td>\n",
       "      <td>688.4515</td>\n",
       "      <td>708.65</td>\n",
       "      <td>3402357</td>\n",
       "      <td>0.0</td>\n",
       "      <td>1.0</td>\n",
       "    </tr>\n",
       "    <tr>\n",
       "      <th>4</th>\n",
       "      <td>GOOG</td>\n",
       "      <td>2016-06-20 00:00:00+00:00</td>\n",
       "      <td>693.71</td>\n",
       "      <td>702.48</td>\n",
       "      <td>693.4100</td>\n",
       "      <td>698.77</td>\n",
       "      <td>2082538</td>\n",
       "      <td>693.71</td>\n",
       "      <td>702.48</td>\n",
       "      <td>693.4100</td>\n",
       "      <td>698.77</td>\n",
       "      <td>2082538</td>\n",
       "      <td>0.0</td>\n",
       "      <td>1.0</td>\n",
       "    </tr>\n",
       "  </tbody>\n",
       "</table>\n",
       "</div>"
      ],
      "text/plain": [
       "  symbol                       date   close    high       low    open  \\\n",
       "0   GOOG  2016-06-14 00:00:00+00:00  718.27  722.47  713.1200  716.48   \n",
       "1   GOOG  2016-06-15 00:00:00+00:00  718.92  722.98  717.3100  719.00   \n",
       "2   GOOG  2016-06-16 00:00:00+00:00  710.36  716.65  703.2600  714.91   \n",
       "3   GOOG  2016-06-17 00:00:00+00:00  691.72  708.82  688.4515  708.65   \n",
       "4   GOOG  2016-06-20 00:00:00+00:00  693.71  702.48  693.4100  698.77   \n",
       "\n",
       "    volume  adjClose  adjHigh    adjLow  adjOpen  adjVolume  divCash  \\\n",
       "0  1306065    718.27   722.47  713.1200   716.48    1306065      0.0   \n",
       "1  1214517    718.92   722.98  717.3100   719.00    1214517      0.0   \n",
       "2  1982471    710.36   716.65  703.2600   714.91    1982471      0.0   \n",
       "3  3402357    691.72   708.82  688.4515   708.65    3402357      0.0   \n",
       "4  2082538    693.71   702.48  693.4100   698.77    2082538      0.0   \n",
       "\n",
       "   splitFactor  \n",
       "0          1.0  \n",
       "1          1.0  \n",
       "2          1.0  \n",
       "3          1.0  \n",
       "4          1.0  "
      ]
     },
     "execution_count": 27,
     "metadata": {},
     "output_type": "execute_result"
    }
   ],
   "source": [
    "df.head(5)\n"
   ]
  },
  {
   "cell_type": "code",
   "execution_count": 28,
   "id": "af2f14a4",
   "metadata": {},
   "outputs": [
    {
     "name": "stdout",
     "output_type": "stream",
     "text": [
      "<class 'pandas.core.frame.DataFrame'>\n",
      "RangeIndex: 1258 entries, 0 to 1257\n",
      "Data columns (total 14 columns):\n",
      " #   Column       Non-Null Count  Dtype  \n",
      "---  ------       --------------  -----  \n",
      " 0   symbol       1258 non-null   object \n",
      " 1   date         1258 non-null   object \n",
      " 2   close        1258 non-null   float64\n",
      " 3   high         1258 non-null   float64\n",
      " 4   low          1258 non-null   float64\n",
      " 5   open         1258 non-null   float64\n",
      " 6   volume       1258 non-null   int64  \n",
      " 7   adjClose     1258 non-null   float64\n",
      " 8   adjHigh      1258 non-null   float64\n",
      " 9   adjLow       1258 non-null   float64\n",
      " 10  adjOpen      1258 non-null   float64\n",
      " 11  adjVolume    1258 non-null   int64  \n",
      " 12  divCash      1258 non-null   float64\n",
      " 13  splitFactor  1258 non-null   float64\n",
      "dtypes: float64(10), int64(2), object(2)\n",
      "memory usage: 137.7+ KB\n"
     ]
    }
   ],
   "source": [
    "df.info()\n"
   ]
  },
  {
   "cell_type": "code",
   "execution_count": 29,
   "id": "3b6ab3c7",
   "metadata": {},
   "outputs": [
    {
     "data": {
      "text/plain": [
       "symbol         0\n",
       "date           0\n",
       "close          0\n",
       "high           0\n",
       "low            0\n",
       "open           0\n",
       "volume         0\n",
       "adjClose       0\n",
       "adjHigh        0\n",
       "adjLow         0\n",
       "adjOpen        0\n",
       "adjVolume      0\n",
       "divCash        0\n",
       "splitFactor    0\n",
       "dtype: int64"
      ]
     },
     "execution_count": 29,
     "metadata": {},
     "output_type": "execute_result"
    }
   ],
   "source": [
    "# Check null\n",
    "df.isna().sum()\n"
   ]
  },
  {
   "cell_type": "code",
   "execution_count": 30,
   "id": "31b6c0b2",
   "metadata": {},
   "outputs": [
    {
     "data": {
      "text/plain": [
       "False"
      ]
     },
     "execution_count": 30,
     "metadata": {},
     "output_type": "execute_result"
    }
   ],
   "source": [
    "# Check duplicates\n",
    "df.duplicated().any()\n"
   ]
  },
  {
   "cell_type": "markdown",
   "id": "d7024925",
   "metadata": {},
   "source": [
    "### A"
   ]
  },
  {
   "cell_type": "code",
   "execution_count": 31,
   "id": "18efce87",
   "metadata": {},
   "outputs": [],
   "source": [
    "# Filter data for the years 2020 and 2021\n",
    "df['date'] = pd.to_datetime(df['date'])\n",
    "df_2020_2021 = df[(df['date'].dt.year >= 2020) & (df['date'].dt.year <= 2021)]\n"
   ]
  },
  {
   "cell_type": "code",
   "execution_count": 32,
   "id": "c1bd4da2",
   "metadata": {},
   "outputs": [],
   "source": [
    "features = ['close', 'high', 'low', 'open', 'volume', 'adjClose', 'adjHigh', 'adjLow', 'adjOpen', 'adjVolume']\n",
    "df_selected = df_2020_2021[features]\n"
   ]
  },
  {
   "cell_type": "code",
   "execution_count": 33,
   "id": "a1198858",
   "metadata": {},
   "outputs": [],
   "source": [
    "scaler = MinMaxScaler()\n",
    "df_norm = scaler.fit_transform(df_selected)\n"
   ]
  },
  {
   "cell_type": "code",
   "execution_count": 34,
   "id": "a74c7132",
   "metadata": {},
   "outputs": [],
   "source": [
    "window_size = 30\n",
    "\n",
    "sequences = []\n",
    "target = []\n",
    "for i in range(len(df_norm) - window_size):\n",
    "    sequences.append(df_norm[i:i+window_size])\n",
    "    target.append(df_norm[i+window_size])\n",
    "\n",
    "sequences = np.array(sequences)\n",
    "target = np.array(target)\n"
   ]
  },
  {
   "cell_type": "code",
   "execution_count": 35,
   "id": "2b3145b3",
   "metadata": {},
   "outputs": [],
   "source": [
    "X_train, X_test, y_train, y_test = train_test_split(sequences, target, test_size=0.2, random_state=42)\n"
   ]
  },
  {
   "cell_type": "code",
   "execution_count": 36,
   "id": "2f6de5c0",
   "metadata": {},
   "outputs": [
    {
     "name": "stdout",
     "output_type": "stream",
     "text": [
      "Model: \"sequential_4\"\n",
      "_________________________________________________________________\n",
      " Layer (type)                Output Shape              Param #   \n",
      "=================================================================\n",
      " simple_rnn_6 (SimpleRNN)    (None, 30, 64)            4800      \n",
      "                                                                 \n",
      " dropout (Dropout)           (None, 30, 64)            0         \n",
      "                                                                 \n",
      " simple_rnn_7 (SimpleRNN)    (None, 30, 64)            8256      \n",
      "                                                                 \n",
      " dropout_1 (Dropout)         (None, 30, 64)            0         \n",
      "                                                                 \n",
      " simple_rnn_8 (SimpleRNN)    (None, 30, 64)            8256      \n",
      "_________________________________________________________________\n",
      " Layer (type)                Output Shape              Param #   \n",
      "=================================================================\n",
      " simple_rnn_6 (SimpleRNN)    (None, 30, 64)            4800      \n",
      "                                                                 \n",
      " dropout (Dropout)           (None, 30, 64)            0         \n",
      "                                                                 \n",
      " simple_rnn_7 (SimpleRNN)    (None, 30, 64)            8256      \n",
      "                                                                 \n",
      " dropout_1 (Dropout)         (None, 30, 64)            0         \n",
      "                                                                 \n",
      " simple_rnn_8 (SimpleRNN)    (None, 30, 64)            8256      \n",
      "                                                                 \n",
      " dropout_2 (Dropout)         (None, 30, 64)            0         \n",
      "                                                                 \n",
      " simple_rnn_9 (SimpleRNN)    (None, 64)                8256      \n",
      "                                                                 \n",
      " dropout_3 (Dropout)         (None, 64)                0         \n",
      "                                                                 \n",
      " dense_1 (Dense)             (None, 10)                650       \n",
      "                                                                 \n",
      "=================================================================\n",
      "Total params: 30218 (118.04 KB)\n",
      "Trainable params: 30218 (118.04 KB)\n",
      "Non-trainable params: 0 (0.00 Byte)\n",
      "_________________________________________________________________\n"
     ]
    }
   ],
   "source": [
    "model = Sequential([\n",
    "    SimpleRNN(units=64, activation='relu', return_sequences=True, input_shape=(window_size, len(features))),\n",
    "    Dropout(0.2),\n",
    "    SimpleRNN(units=64, activation='relu', return_sequences=True),\n",
    "    Dropout(0.2),\n",
    "    SimpleRNN(units=64, activation='relu', return_sequences=True),\n",
    "    Dropout(0.2),\n",
    "    SimpleRNN(units=64, activation='relu'),\n",
    "    Dropout(0.2),\n",
    "    Dense(units=len(features))\n",
    "])\n",
    "model.summary()\n"
   ]
  },
  {
   "cell_type": "code",
   "execution_count": 37,
   "id": "d9d559d6",
   "metadata": {},
   "outputs": [],
   "source": [
    "model.compile(optimizer='adam', loss='mean_squared_error')\n"
   ]
  },
  {
   "cell_type": "code",
   "execution_count": 38,
   "id": "0556d096",
   "metadata": {},
   "outputs": [
    {
     "name": "stdout",
     "output_type": "stream",
     "text": [
      "Epoch 1/50\n",
      "8/8 [==============================] - 10s 429ms/step - loss: 0.2172 - val_loss: 0.1488\n",
      "Epoch 2/50\n",
      "8/8 [==============================] - 3s 326ms/step - loss: 0.1069 - val_loss: 0.0533\n",
      "Epoch 3/50\n",
      "8/8 [==============================] - 3s 363ms/step - loss: 0.0678 - val_loss: 0.0439\n",
      "Epoch 4/50\n",
      "8/8 [==============================] - 3s 328ms/step - loss: 0.0465 - val_loss: 0.0339\n",
      "Epoch 5/50\n",
      "8/8 [==============================] - 3s 318ms/step - loss: 0.0410 - val_loss: 0.0275\n",
      "Epoch 6/50\n",
      "8/8 [==============================] - 2s 308ms/step - loss: 0.0387 - val_loss: 0.0355\n",
      "Epoch 7/50\n",
      "8/8 [==============================] - 3s 348ms/step - loss: 0.0341 - val_loss: 0.0257\n",
      "Epoch 8/50\n",
      "8/8 [==============================] - 2s 278ms/step - loss: 0.0302 - val_loss: 0.0300\n",
      "Epoch 9/50\n",
      "8/8 [==============================] - 3s 311ms/step - loss: 0.0313 - val_loss: 0.0278\n",
      "Epoch 10/50\n",
      "8/8 [==============================] - 2s 302ms/step - loss: 0.0288 - val_loss: 0.0251\n",
      "Epoch 11/50\n",
      "8/8 [==============================] - 2s 307ms/step - loss: 0.0253 - val_loss: 0.0324\n",
      "Epoch 12/50\n",
      "8/8 [==============================] - 2s 290ms/step - loss: 0.0240 - val_loss: 0.0245\n",
      "Epoch 13/50\n",
      "8/8 [==============================] - 2s 299ms/step - loss: 0.0224 - val_loss: 0.0325\n",
      "Epoch 14/50\n",
      "8/8 [==============================] - 2s 309ms/step - loss: 0.0222 - val_loss: 0.0252\n",
      "Epoch 15/50\n",
      "8/8 [==============================] - 2s 290ms/step - loss: 0.0210 - val_loss: 0.0237\n",
      "Epoch 16/50\n",
      "8/8 [==============================] - 2s 312ms/step - loss: 0.0205 - val_loss: 0.0278\n",
      "Epoch 17/50\n",
      "8/8 [==============================] - 3s 333ms/step - loss: 0.0179 - val_loss: 0.0244\n",
      "Epoch 18/50\n",
      "8/8 [==============================] - 3s 308ms/step - loss: 0.0192 - val_loss: 0.0278\n",
      "Epoch 19/50\n",
      "8/8 [==============================] - 10s 1s/step - loss: 0.0177 - val_loss: 0.0283\n",
      "Epoch 20/50\n",
      "8/8 [==============================] - 11s 2s/step - loss: 0.0165 - val_loss: 0.0175\n",
      "Epoch 21/50\n",
      "8/8 [==============================] - 21s 2s/step - loss: 0.0198 - val_loss: 0.0197\n",
      "Epoch 22/50\n",
      "8/8 [==============================] - 8s 1s/step - loss: 0.0171 - val_loss: 0.0240\n",
      "Epoch 23/50\n",
      "8/8 [==============================] - 11s 1s/step - loss: 0.0175 - val_loss: 0.0250\n",
      "Epoch 24/50\n",
      "8/8 [==============================] - 8s 1s/step - loss: 0.0167 - val_loss: 0.0262\n",
      "Epoch 25/50\n",
      "8/8 [==============================] - 8s 1s/step - loss: 0.0165 - val_loss: 0.0235\n",
      "Epoch 26/50\n",
      "8/8 [==============================] - 8s 1s/step - loss: 0.0156 - val_loss: 0.0172\n",
      "Epoch 27/50\n",
      "8/8 [==============================] - 8s 1s/step - loss: 0.0139 - val_loss: 0.0205\n",
      "Epoch 28/50\n",
      "8/8 [==============================] - 8s 1s/step - loss: 0.0159 - val_loss: 0.0204\n",
      "Epoch 29/50\n",
      "8/8 [==============================] - 8s 1s/step - loss: 0.0141 - val_loss: 0.0134\n",
      "Epoch 30/50\n",
      "8/8 [==============================] - 7s 1s/step - loss: 0.0138 - val_loss: 0.0238\n",
      "Epoch 31/50\n",
      "8/8 [==============================] - 8s 1s/step - loss: 0.0153 - val_loss: 0.0152\n",
      "Epoch 32/50\n",
      "8/8 [==============================] - 7s 1s/step - loss: 0.0143 - val_loss: 0.0187\n",
      "Epoch 33/50\n",
      "8/8 [==============================] - 8s 1s/step - loss: 0.0141 - val_loss: 0.0286\n",
      "Epoch 34/50\n",
      "8/8 [==============================] - 8s 1s/step - loss: 0.0144 - val_loss: 0.0176\n",
      "Epoch 35/50\n",
      "8/8 [==============================] - 8s 1s/step - loss: 0.0132 - val_loss: 0.0221\n",
      "Epoch 36/50\n",
      "8/8 [==============================] - 8s 1s/step - loss: 0.0132 - val_loss: 0.0249\n",
      "Epoch 37/50\n",
      "8/8 [==============================] - 8s 1s/step - loss: 0.0128 - val_loss: 0.0189\n",
      "Epoch 38/50\n",
      "8/8 [==============================] - 7s 1s/step - loss: 0.0130 - val_loss: 0.0196\n",
      "Epoch 39/50\n",
      "8/8 [==============================] - 8s 1s/step - loss: 0.0119 - val_loss: 0.0198\n",
      "Epoch 40/50\n",
      "8/8 [==============================] - 8s 1s/step - loss: 0.0119 - val_loss: 0.0194\n",
      "Epoch 41/50\n",
      "8/8 [==============================] - 7s 1s/step - loss: 0.0123 - val_loss: 0.0192\n",
      "Epoch 42/50\n",
      "8/8 [==============================] - 8s 1s/step - loss: 0.0120 - val_loss: 0.0183\n",
      "Epoch 43/50\n",
      "8/8 [==============================] - 8s 1s/step - loss: 0.0113 - val_loss: 0.0228\n",
      "Epoch 44/50\n",
      "8/8 [==============================] - 8s 684ms/step - loss: 0.0120 - val_loss: 0.0177\n",
      "Epoch 45/50\n",
      "8/8 [==============================] - 7s 650ms/step - loss: 0.0113 - val_loss: 0.0221\n",
      "Epoch 46/50\n",
      "8/8 [==============================] - 10s 1s/step - loss: 0.0115 - val_loss: 0.0193\n",
      "Epoch 47/50\n",
      "8/8 [==============================] - 8s 1s/step - loss: 0.0116 - val_loss: 0.0217\n",
      "Epoch 48/50\n",
      "8/8 [==============================] - 8s 1s/step - loss: 0.0114 - val_loss: 0.0191\n",
      "Epoch 49/50\n",
      "8/8 [==============================] - 7s 1s/step - loss: 0.0110 - val_loss: 0.0190\n",
      "Epoch 50/50\n",
      "8/8 [==============================] - 7s 1s/step - loss: 0.0125 - val_loss: 0.0168\n"
     ]
    }
   ],
   "source": [
    "hist = model.fit(X_train, y_train, epochs=50, batch_size=32,validation_split=0.1)\n"
   ]
  },
  {
   "cell_type": "code",
   "execution_count": 39,
   "id": "9a37b149",
   "metadata": {},
   "outputs": [
    {
     "data": {
      "image/png": "[encoded data removed]",
      "text/plain": [
       "<Figure size 640x480 with 1 Axes>"
      ]
     },
     "metadata": {},
     "output_type": "display_data"
    }
   ],
   "source": [
    "training = hist.history['loss']\n",
    "validation = hist.history['val_loss']\n",
    "\n",
    "plt.plot(training, label='Training')\n",
    "plt.plot(validation, label='Validation')\n",
    "plt.legend()\n",
    "plt.show()\n"
   ]
  },
  {
   "cell_type": "code",
   "execution_count": 40,
   "id": "ad9a12d2",
   "metadata": {},
   "outputs": [
    {
     "name": "stdout",
     "output_type": "stream",
     "text": [
      "3/3 [==============================] - 3s 59ms/step\n"
     ]
    }
   ],
   "source": [
    "predicted_prices = model.predict(X_test)\n",
    "predicted_prices_actual = scaler.inverse_transform(predicted_prices)\n"
   ]
  },
  {
   "cell_type": "markdown",
   "id": "564ad386",
   "metadata": {},
   "source": [
    "### B"
   ]
  },
  {
   "cell_type": "code",
   "execution_count": 41,
   "id": "0e09451a",
   "metadata": {},
   "outputs": [
    {
     "name": "stdout",
     "output_type": "stream",
     "text": [
      "MAPE: 1379892411487.04%\n",
      "MSE: 0.01\n"
     ]
    }
   ],
   "source": [
    "mape = mean_absolute_percentage_error(y_test, predicted_prices)\n",
    "print(f\"MAPE: {mape:.2f}%\")\n",
    "\n",
    "mse = mean_squared_error(y_test, predicted_prices)\n",
    "print(f\"MSE: {mse:.2f}\")\n"
   ]
  },
  {
   "cell_type": "markdown",
   "id": "471c4838",
   "metadata": {},
   "source": [
    "### C\n",
    "\n",
    "Good results were seen with 50 epochs and 4 dropouts"
   ]
  },
  {
   "cell_type": "markdown",
   "id": "2eebb5eb",
   "metadata": {},
   "source": [
    "### D"
   ]
  },
  {
   "cell_type": "code",
   "execution_count": 42,
   "id": "891d9cfa",
   "metadata": {},
   "outputs": [
    {
     "data": {
      "image/png": "[encoded data removed]",
      "text/plain": [
       "<Figure size 640x480 with 1 Axes>"
      ]
     },
     "metadata": {},
     "output_type": "display_data"
    }
   ],
   "source": [
    "actual_price = scaler.inverse_transform(y_test)\n",
    "\n",
    "plt.plot(actual_price[:, 0], label='Actual')\n",
    "plt.plot(predicted_prices_actual[:, 0], label='Predicted')\n",
    "\n",
    "plt.xlabel('Day')\n",
    "plt.ylabel('Normalized Close Price')\n",
    "plt.title('Actual vs Predicted')\n",
    "plt.legend()\n",
    "plt.show()\n"
   ]
  },
  {
   "cell_type": "code",
   "execution_count": null,
   "id": "711c6493",
   "metadata": {},
   "outputs": [],
   "source": []
  }
 ],
 "metadata": {
  "kernelspec": {
   "display_name": "Python 3 (ipykernel)",
   "language": "python",
   "name": "python3"
  },
  "language_info": {
   "codemirror_mode": {
    "name": "ipython",
    "version": 3
   },
   "file_extension": ".py",
   "mimetype": "text/x-python",
   "name": "python",
   "nbconvert_exporter": "python",
   "pygments_lexer": "ipython3",
   "version": "3.11.4"
  }
 },
 "nbformat": 4,
 "nbformat_minor": 5
}
