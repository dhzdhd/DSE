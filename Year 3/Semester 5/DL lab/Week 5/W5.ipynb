{
 "cells": [
  {
   "cell_type": "code",
   "execution_count": 44,
   "id": "4342f60c-f7ef-4de5-a92c-6259ce115cf7",
   "metadata": {},
   "outputs": [],
   "source": [
    "import tensorflow as tf\n",
    "keras = tf.keras\n",
    "from keras.layers import SimpleRNN, Dense, Flatten, Dropout\n",
    "from sklearn.model_selection import train_test_split\n",
    "from sklearn.preprocessing import  MinMaxScaler\n",
    "from sklearn.metrics import mean_absolute_percentage_error, mean_squared_error\n",
    "from keras import Sequential, Input\n",
    "import numpy as np\n",
    "import pandas as pd\n",
    "import matplotlib.pyplot as plt"
   ]
  },
  {
   "cell_type": "markdown",
   "id": "2edba462",
   "metadata": {},
   "source": [
    "## Q1\n",
    "### A"
   ]
  },
  {
   "cell_type": "code",
   "execution_count": 2,
   "id": "f1c7e8dc-bbd6-40e9-892a-ab35faa41b8b",
   "metadata": {},
   "outputs": [],
   "source": [
    "def gen_time_series(sample_size: int, n_steps: int):\n",
    "    freq1, freq2, offsets1, offsets2 = np.random.rand(4, sample_size, 1)\n",
    "    time = np.linspace(0, 1, n_steps)\n",
    "    series = 0.5 * np.sin((time - offsets1) * (freq1 * 10 + 10))\n",
    "    series += 0.2 * np.sin((time - offsets2) * (freq2 * 20 + 20))\n",
    "    series += 0.1 * (np.random.rand(sample_size, n_steps) - 0.5)\n",
    "\n",
    "    return series[..., np.newaxis].astype(np.float32)"
   ]
  },
  {
   "cell_type": "code",
   "execution_count": 3,
   "id": "3dc104a4-7e56-4cb0-8f6b-c68ef50e5cb0",
   "metadata": {},
   "outputs": [],
   "source": [
    "data = gen_time_series(10000, 51)"
   ]
  },
  {
   "cell_type": "code",
   "execution_count": 4,
   "id": "d305ab69-54e4-4fb2-9f86-11be4de531dd",
   "metadata": {},
   "outputs": [
    {
     "data": {
      "text/plain": [
       "array([[-0.19207342],\n",
       "       [-0.17525306],\n",
       "       [-0.1815216 ],\n",
       "       [-0.22039606],\n",
       "       [-0.12343376],\n",
       "       [-0.08581077],\n",
       "       [ 0.17670955],\n",
       "       [ 0.4084893 ],\n",
       "       [ 0.5380089 ],\n",
       "       [ 0.659116  ],\n",
       "       [ 0.7142563 ],\n",
       "       [ 0.58313876],\n",
       "       [ 0.39349225],\n",
       "       [ 0.16831467],\n",
       "       [ 0.06830373],\n",
       "       [-0.08398375],\n",
       "       [-0.0411288 ],\n",
       "       [-0.10121907],\n",
       "       [-0.12894028],\n",
       "       [-0.17277212],\n",
       "       [-0.3488574 ],\n",
       "       [-0.42891318],\n",
       "       [-0.5649305 ],\n",
       "       [-0.6568419 ],\n",
       "       [-0.62875456],\n",
       "       [-0.41220278],\n",
       "       [-0.18285133],\n",
       "       [ 0.00484179],\n",
       "       [ 0.19324917],\n",
       "       [ 0.3237057 ],\n",
       "       [ 0.36699268],\n",
       "       [ 0.2913023 ],\n",
       "       [ 0.30983433],\n",
       "       [ 0.332467  ],\n",
       "       [ 0.3181533 ],\n",
       "       [ 0.47357017],\n",
       "       [ 0.53559434],\n",
       "       [ 0.55582786],\n",
       "       [ 0.462842  ],\n",
       "       [ 0.22962232],\n",
       "       [ 0.00897526],\n",
       "       [-0.23376514],\n",
       "       [-0.42377013],\n",
       "       [-0.49744326],\n",
       "       [-0.51802593],\n",
       "       [-0.4640834 ],\n",
       "       [-0.28673092],\n",
       "       [-0.27118856],\n",
       "       [-0.24353215],\n",
       "       [-0.33677945],\n",
       "       [-0.29666665]], dtype=float32)"
      ]
     },
     "execution_count": 4,
     "metadata": {},
     "output_type": "execute_result"
    }
   ],
   "source": [
    "data[0]"
   ]
  },
  {
   "cell_type": "code",
   "execution_count": 5,
   "id": "a1a5f3fb-804a-4208-bbc1-59111956600b",
   "metadata": {},
   "outputs": [
    {
     "data": {
      "text/plain": [
       "array([[[-0.19207342],\n",
       "        [-0.17525306],\n",
       "        [-0.1815216 ],\n",
       "        ...,\n",
       "        [-0.27118856],\n",
       "        [-0.24353215],\n",
       "        [-0.33677945]],\n",
       "\n",
       "       [[ 0.48854834],\n",
       "        [ 0.23283596],\n",
       "        [-0.00730349],\n",
       "        ...,\n",
       "        [-0.4530908 ],\n",
       "        [-0.5089068 ],\n",
       "        [-0.5753812 ]],\n",
       "\n",
       "       [[-0.5506837 ],\n",
       "        [-0.55035186],\n",
       "        [-0.49812248],\n",
       "        ...,\n",
       "        [ 0.3811657 ],\n",
       "        [ 0.24647099],\n",
       "        [ 0.15311971]],\n",
       "\n",
       "       ...,\n",
       "\n",
       "       [[-0.59032387],\n",
       "        [-0.6461003 ],\n",
       "        [-0.6593416 ],\n",
       "        ...,\n",
       "        [ 0.6260169 ],\n",
       "        [ 0.5046025 ],\n",
       "        [ 0.41829357]],\n",
       "\n",
       "       [[ 0.20745422],\n",
       "        [ 0.16865458],\n",
       "        [ 0.14276183],\n",
       "        ...,\n",
       "        [ 0.24837051],\n",
       "        [ 0.2648372 ],\n",
       "        [ 0.24920222]],\n",
       "\n",
       "       [[-0.56470513],\n",
       "        [-0.29233664],\n",
       "        [ 0.00693571],\n",
       "        ...,\n",
       "        [-0.26561105],\n",
       "        [-0.24966209],\n",
       "        [-0.10444074]]], dtype=float32)"
      ]
     },
     "execution_count": 5,
     "metadata": {},
     "output_type": "execute_result"
    }
   ],
   "source": [
    "X = data[:, 0:50]\n",
    "X"
   ]
  },
  {
   "cell_type": "code",
   "execution_count": 6,
   "id": "0751fa51-03a9-4ac7-8c09-a31a3f7313a2",
   "metadata": {},
   "outputs": [
    {
     "data": {
      "text/plain": [
       "array([[-0.29666665],\n",
       "       [-0.5548032 ],\n",
       "       [-0.02663113],\n",
       "       ...,\n",
       "       [ 0.13580354],\n",
       "       [ 0.21837582],\n",
       "       [-0.02939698]], dtype=float32)"
      ]
     },
     "execution_count": 6,
     "metadata": {},
     "output_type": "execute_result"
    }
   ],
   "source": [
    "y = data[:, -1]\n",
    "y"
   ]
  },
  {
   "cell_type": "markdown",
   "id": "4bb7c08b",
   "metadata": {},
   "source": [
    "### B"
   ]
  },
  {
   "cell_type": "code",
   "execution_count": 7,
   "id": "dde414a8-d95a-4c36-a5f3-3863f60a4ea2",
   "metadata": {},
   "outputs": [
    {
     "data": {
      "text/plain": [
       "(2000, 50, 1)"
      ]
     },
     "execution_count": 7,
     "metadata": {},
     "output_type": "execute_result"
    }
   ],
   "source": [
    "X_train, X_val, X_test = X[0:7000, :], X[7000:9000, :], X[9000:10000, :]\n",
    "X_val.shape"
   ]
  },
  {
   "cell_type": "code",
   "execution_count": 8,
   "id": "573b1537-1b13-4332-9d2d-268b575f1dc2",
   "metadata": {},
   "outputs": [],
   "source": [
    "y_train, y_val, y_test = y[0:7000, :], y[7000:9000, :], y[9000:10000, :]"
   ]
  },
  {
   "cell_type": "code",
   "execution_count": 9,
   "id": "032162cb-c876-4dac-bf52-67643ca2f998",
   "metadata": {},
   "outputs": [
    {
     "data": {
      "text/plain": [
       "(7000, 1)"
      ]
     },
     "execution_count": 9,
     "metadata": {},
     "output_type": "execute_result"
    }
   ],
   "source": [
    "y_train.shape"
   ]
  },
  {
   "cell_type": "markdown",
   "id": "a922f463",
   "metadata": {},
   "source": [
    "### C\n",
    "#### a\n"
   ]
  },
  {
   "cell_type": "code",
   "execution_count": 10,
   "id": "70677089-75d6-41c6-b61f-4bd43e26f3fa",
   "metadata": {},
   "outputs": [
    {
     "name": "stderr",
     "output_type": "stream",
     "text": [
      "2023-08-31 20:53:00.871657: I tensorflow/compiler/xla/stream_executor/cuda/cuda_gpu_executor.cc:981] could not open file to read NUMA node: /sys/bus/pci/devices/0000:22:00.0/numa_node\n",
      "Your kernel may have been built without NUMA support.\n",
      "2023-08-31 20:53:02.095202: I tensorflow/compiler/xla/stream_executor/cuda/cuda_gpu_executor.cc:981] could not open file to read NUMA node: /sys/bus/pci/devices/0000:22:00.0/numa_node\n",
      "Your kernel may have been built without NUMA support.\n",
      "2023-08-31 20:53:02.095289: I tensorflow/compiler/xla/stream_executor/cuda/cuda_gpu_executor.cc:981] could not open file to read NUMA node: /sys/bus/pci/devices/0000:22:00.0/numa_node\n",
      "Your kernel may have been built without NUMA support.\n",
      "2023-08-31 20:53:02.132795: I tensorflow/compiler/xla/stream_executor/cuda/cuda_gpu_executor.cc:981] could not open file to read NUMA node: /sys/bus/pci/devices/0000:22:00.0/numa_node\n",
      "Your kernel may have been built without NUMA support.\n",
      "2023-08-31 20:53:02.132893: I tensorflow/compiler/xla/stream_executor/cuda/cuda_gpu_executor.cc:981] could not open file to read NUMA node: /sys/bus/pci/devices/0000:22:00.0/numa_node\n",
      "Your kernel may have been built without NUMA support.\n",
      "2023-08-31 20:53:02.132950: I tensorflow/compiler/xla/stream_executor/cuda/cuda_gpu_executor.cc:981] could not open file to read NUMA node: /sys/bus/pci/devices/0000:22:00.0/numa_node\n",
      "Your kernel may have been built without NUMA support.\n",
      "2023-08-31 20:53:02.540201: I tensorflow/compiler/xla/stream_executor/cuda/cuda_gpu_executor.cc:981] could not open file to read NUMA node: /sys/bus/pci/devices/0000:22:00.0/numa_node\n",
      "Your kernel may have been built without NUMA support.\n",
      "2023-08-31 20:53:02.540298: I tensorflow/compiler/xla/stream_executor/cuda/cuda_gpu_executor.cc:981] could not open file to read NUMA node: /sys/bus/pci/devices/0000:22:00.0/numa_node\n",
      "Your kernel may have been built without NUMA support.\n",
      "2023-08-31 20:53:02.540309: I tensorflow/core/common_runtime/gpu/gpu_device.cc:1726] Could not identify NUMA node of platform GPU id 0, defaulting to 0.  Your kernel may not have been built with NUMA support.\n",
      "2023-08-31 20:53:02.540369: I tensorflow/compiler/xla/stream_executor/cuda/cuda_gpu_executor.cc:981] could not open file to read NUMA node: /sys/bus/pci/devices/0000:22:00.0/numa_node\n",
      "Your kernel may have been built without NUMA support.\n",
      "2023-08-31 20:53:02.540428: I tensorflow/core/common_runtime/gpu/gpu_device.cc:1639] Created device /job:localhost/replica:0/task:0/device:GPU:0 with 4714 MB memory:  -> device: 0, name: NVIDIA GeForce GTX 1060 6GB, pci bus id: 0000:22:00.0, compute capability: 6.1\n"
     ]
    },
    {
     "name": "stdout",
     "output_type": "stream",
     "text": [
      "Model: \"sequential\"\n",
      "_________________________________________________________________\n",
      " Layer (type)                Output Shape              Param #   \n",
      "=================================================================\n",
      " flatten (Flatten)           (None, 50)                0         \n",
      "                                                                 \n",
      " dense (Dense)               (None, 1)                 51        \n",
      "                                                                 \n",
      "=================================================================\n",
      "Total params: 51 (204.00 Byte)\n",
      "Trainable params: 51 (204.00 Byte)\n",
      "Non-trainable params: 0 (0.00 Byte)\n",
      "_________________________________________________________________\n"
     ]
    }
   ],
   "source": [
    "fcnn_model = Sequential([\n",
    "    Flatten(input_shape=[50, 1]),\n",
    "    Dense(1)\n",
    "])\n",
    "fcnn_model.summary()"
   ]
  },
  {
   "cell_type": "code",
   "execution_count": 11,
   "id": "0e8c688b-1f9a-4b92-890a-11e0221035c7",
   "metadata": {},
   "outputs": [],
   "source": [
    "fcnn_model.compile(loss=\"mse\", optimizer=\"adam\")"
   ]
  },
  {
   "cell_type": "code",
   "execution_count": 12,
   "id": "9f388b17-c91d-4842-8ccc-b0341b70e1cc",
   "metadata": {},
   "outputs": [
    {
     "name": "stdout",
     "output_type": "stream",
     "text": [
      "Epoch 1/20\n"
     ]
    },
    {
     "name": "stderr",
     "output_type": "stream",
     "text": [
      "2023-08-31 20:53:05.674506: I tensorflow/compiler/xla/service/service.cc:168] XLA service 0x7f3ff40d1330 initialized for platform CUDA (this does not guarantee that XLA will be used). Devices:\n",
      "2023-08-31 20:53:05.674584: I tensorflow/compiler/xla/service/service.cc:176]   StreamExecutor device (0): NVIDIA GeForce GTX 1060 6GB, Compute Capability 6.1\n",
      "2023-08-31 20:53:06.238538: I tensorflow/compiler/mlir/tensorflow/utils/dump_mlir_util.cc:255] disabling MLIR crash reproducer, set env var `MLIR_CRASH_REPRODUCER_DIRECTORY` to enable.\n",
      "2023-08-31 20:53:06.528970: I tensorflow/compiler/xla/stream_executor/cuda/cuda_dnn.cc:432] Loaded cuDNN version 8600\n",
      "2023-08-31 20:53:07.436029: I tensorflow/tsl/platform/default/subprocess.cc:304] Start cannot spawn child process: No such file or directory\n"
     ]
    },
    {
     "name": "stdout",
     "output_type": "stream",
     "text": [
      "  1/219 [..............................] - ETA: 13:09 - loss: 0.6989"
     ]
    },
    {
     "name": "stderr",
     "output_type": "stream",
     "text": [
      "2023-08-31 20:53:07.908476: I ./tensorflow/compiler/jit/device_compiler.h:186] Compiled cluster using XLA!  This line is logged at most once for the lifetime of the process.\n"
     ]
    },
    {
     "name": "stdout",
     "output_type": "stream",
     "text": [
      "219/219 [==============================] - 5s 8ms/step - loss: 0.1789 - val_loss: 0.0656\n",
      "Epoch 2/20\n",
      "219/219 [==============================] - 2s 10ms/step - loss: 0.0459 - val_loss: 0.0349\n",
      "Epoch 3/20\n",
      "219/219 [==============================] - 2s 9ms/step - loss: 0.0285 - val_loss: 0.0251\n",
      "Epoch 4/20\n",
      "219/219 [==============================] - 1s 6ms/step - loss: 0.0216 - val_loss: 0.0201\n",
      "Epoch 5/20\n",
      "219/219 [==============================] - 1s 6ms/step - loss: 0.0177 - val_loss: 0.0169\n",
      "Epoch 6/20\n",
      "219/219 [==============================] - 1s 6ms/step - loss: 0.0150 - val_loss: 0.0145\n",
      "Epoch 7/20\n",
      "219/219 [==============================] - 1s 6ms/step - loss: 0.0130 - val_loss: 0.0126\n",
      "Epoch 8/20\n",
      "219/219 [==============================] - 1s 6ms/step - loss: 0.0113 - val_loss: 0.0110\n",
      "Epoch 9/20\n",
      "219/219 [==============================] - 1s 6ms/step - loss: 0.0099 - val_loss: 0.0096\n",
      "Epoch 10/20\n",
      "219/219 [==============================] - 1s 7ms/step - loss: 0.0086 - val_loss: 0.0084\n",
      "Epoch 11/20\n",
      "219/219 [==============================] - 1s 6ms/step - loss: 0.0076 - val_loss: 0.0074\n",
      "Epoch 12/20\n",
      "219/219 [==============================] - 1s 6ms/step - loss: 0.0067 - val_loss: 0.0066\n",
      "Epoch 13/20\n",
      "219/219 [==============================] - 1s 6ms/step - loss: 0.0060 - val_loss: 0.0060\n",
      "Epoch 14/20\n",
      "219/219 [==============================] - 1s 6ms/step - loss: 0.0055 - val_loss: 0.0055\n",
      "Epoch 15/20\n",
      "219/219 [==============================] - 1s 6ms/step - loss: 0.0050 - val_loss: 0.0051\n",
      "Epoch 16/20\n",
      "219/219 [==============================] - 1s 5ms/step - loss: 0.0047 - val_loss: 0.0048\n",
      "Epoch 17/20\n",
      "219/219 [==============================] - 1s 6ms/step - loss: 0.0045 - val_loss: 0.0046\n",
      "Epoch 18/20\n",
      "219/219 [==============================] - 1s 6ms/step - loss: 0.0043 - val_loss: 0.0044\n",
      "Epoch 19/20\n",
      "219/219 [==============================] - 1s 5ms/step - loss: 0.0041 - val_loss: 0.0042\n",
      "Epoch 20/20\n",
      "219/219 [==============================] - 1s 6ms/step - loss: 0.0040 - val_loss: 0.0041\n"
     ]
    }
   ],
   "source": [
    "fcnn_hist = fcnn_model.fit(X_train, y_train, epochs=20, validation_data=(X_val, y_val))"
   ]
  },
  {
   "cell_type": "code",
   "execution_count": 13,
   "id": "2691c74c",
   "metadata": {},
   "outputs": [
    {
     "name": "stdout",
     "output_type": "stream",
     "text": [
      "32/32 [==============================] - 0s 3ms/step - loss: 0.0038\n"
     ]
    },
    {
     "data": {
      "text/plain": [
       "0.0037785314489156008"
      ]
     },
     "execution_count": 13,
     "metadata": {},
     "output_type": "execute_result"
    }
   ],
   "source": [
    "fcnn_model.evaluate(X_test, y_test)"
   ]
  },
  {
   "cell_type": "markdown",
   "id": "57a8e324",
   "metadata": {},
   "source": [
    "#### b"
   ]
  },
  {
   "cell_type": "code",
   "execution_count": 14,
   "id": "bc2f5aff-e7f6-4a75-8c76-886149d61286",
   "metadata": {},
   "outputs": [
    {
     "name": "stdout",
     "output_type": "stream",
     "text": [
      "Model: \"sequential_1\"\n",
      "_________________________________________________________________\n",
      " Layer (type)                Output Shape              Param #   \n",
      "=================================================================\n",
      " simple_rnn (SimpleRNN)      (None, 1)                 3         \n",
      "                                                                 \n",
      "=================================================================\n",
      "Total params: 3 (12.00 Byte)\n",
      "Trainable params: 3 (12.00 Byte)\n",
      "Non-trainable params: 0 (0.00 Byte)\n",
      "_________________________________________________________________\n"
     ]
    }
   ],
   "source": [
    "rnn1_model = Sequential([\n",
    "    Input((50, 1)),\n",
    "    SimpleRNN(1)\n",
    "])\n",
    "rnn1_model.summary()"
   ]
  },
  {
   "cell_type": "code",
   "execution_count": 15,
   "id": "59962ec9-e296-4c4c-b6ec-f9273ea9aa04",
   "metadata": {},
   "outputs": [],
   "source": [
    "rnn1_model.compile(loss=\"mse\", optimizer=\"adam\", metrics=['accuracy'])"
   ]
  },
  {
   "cell_type": "code",
   "execution_count": 16,
   "id": "14a55428",
   "metadata": {},
   "outputs": [
    {
     "name": "stdout",
     "output_type": "stream",
     "text": [
      "Epoch 1/20\n",
      "219/219 [==============================] - 24s 103ms/step - loss: 0.0181 - accuracy: 0.0000e+00 - val_loss: 0.0143 - val_accuracy: 0.0000e+00\n",
      "Epoch 2/20\n",
      "219/219 [==============================] - 22s 102ms/step - loss: 0.0125 - accuracy: 0.0000e+00 - val_loss: 0.0120 - val_accuracy: 0.0000e+00\n",
      "Epoch 3/20\n",
      "219/219 [==============================] - 22s 100ms/step - loss: 0.0115 - accuracy: 0.0000e+00 - val_loss: 0.0117 - val_accuracy: 0.0000e+00\n",
      "Epoch 4/20\n",
      "219/219 [==============================] - 22s 101ms/step - loss: 0.0113 - accuracy: 0.0000e+00 - val_loss: 0.0116 - val_accuracy: 0.0000e+00\n",
      "Epoch 5/20\n",
      "219/219 [==============================] - 22s 102ms/step - loss: 0.0113 - accuracy: 0.0000e+00 - val_loss: 0.0116 - val_accuracy: 0.0000e+00\n",
      "Epoch 6/20\n",
      "219/219 [==============================] - 22s 102ms/step - loss: 0.0113 - accuracy: 0.0000e+00 - val_loss: 0.0116 - val_accuracy: 0.0000e+00\n",
      "Epoch 7/20\n",
      "219/219 [==============================] - 23s 106ms/step - loss: 0.0112 - accuracy: 0.0000e+00 - val_loss: 0.0116 - val_accuracy: 0.0000e+00\n",
      "Epoch 8/20\n",
      "219/219 [==============================] - 22s 103ms/step - loss: 0.0112 - accuracy: 0.0000e+00 - val_loss: 0.0115 - val_accuracy: 0.0000e+00\n",
      "Epoch 9/20\n",
      "219/219 [==============================] - 22s 101ms/step - loss: 0.0112 - accuracy: 0.0000e+00 - val_loss: 0.0115 - val_accuracy: 0.0000e+00\n",
      "Epoch 10/20\n",
      "219/219 [==============================] - 23s 106ms/step - loss: 0.0112 - accuracy: 0.0000e+00 - val_loss: 0.0115 - val_accuracy: 0.0000e+00\n",
      "Epoch 11/20\n",
      "219/219 [==============================] - 22s 101ms/step - loss: 0.0112 - accuracy: 0.0000e+00 - val_loss: 0.0115 - val_accuracy: 0.0000e+00\n",
      "Epoch 12/20\n",
      "219/219 [==============================] - 23s 104ms/step - loss: 0.0112 - accuracy: 0.0000e+00 - val_loss: 0.0115 - val_accuracy: 0.0000e+00\n",
      "Epoch 13/20\n",
      "219/219 [==============================] - 23s 104ms/step - loss: 0.0112 - accuracy: 0.0000e+00 - val_loss: 0.0115 - val_accuracy: 0.0000e+00\n",
      "Epoch 14/20\n",
      "219/219 [==============================] - 23s 103ms/step - loss: 0.0112 - accuracy: 0.0000e+00 - val_loss: 0.0115 - val_accuracy: 0.0000e+00\n",
      "Epoch 15/20\n",
      "219/219 [==============================] - 23s 106ms/step - loss: 0.0112 - accuracy: 0.0000e+00 - val_loss: 0.0115 - val_accuracy: 0.0000e+00\n",
      "Epoch 16/20\n",
      "219/219 [==============================] - 23s 104ms/step - loss: 0.0112 - accuracy: 0.0000e+00 - val_loss: 0.0115 - val_accuracy: 0.0000e+00\n",
      "Epoch 17/20\n",
      "219/219 [==============================] - 22s 102ms/step - loss: 0.0112 - accuracy: 0.0000e+00 - val_loss: 0.0115 - val_accuracy: 0.0000e+00\n",
      "Epoch 18/20\n",
      "219/219 [==============================] - 23s 105ms/step - loss: 0.0112 - accuracy: 0.0000e+00 - val_loss: 0.0115 - val_accuracy: 0.0000e+00\n",
      "Epoch 19/20\n",
      "219/219 [==============================] - 24s 109ms/step - loss: 0.0112 - accuracy: 0.0000e+00 - val_loss: 0.0115 - val_accuracy: 0.0000e+00\n",
      "Epoch 20/20\n",
      "219/219 [==============================] - 22s 101ms/step - loss: 0.0112 - accuracy: 0.0000e+00 - val_loss: 0.0116 - val_accuracy: 0.0000e+00\n"
     ]
    }
   ],
   "source": [
    "rnn1_hist = rnn1_model.fit(X_train, y_train, epochs=20, validation_data=(X_val, y_val))"
   ]
  },
  {
   "cell_type": "code",
   "execution_count": 17,
   "id": "b6d08d07",
   "metadata": {},
   "outputs": [
    {
     "name": "stdout",
     "output_type": "stream",
     "text": [
      "32/32 [==============================] - 0s 15ms/step - loss: 0.0111 - accuracy: 0.0000e+00\n"
     ]
    },
    {
     "data": {
      "text/plain": [
       "[0.011060044169425964, 0.0]"
      ]
     },
     "execution_count": 17,
     "metadata": {},
     "output_type": "execute_result"
    }
   ],
   "source": [
    "rnn1_model.evaluate(X_test, y_test)"
   ]
  },
  {
   "cell_type": "markdown",
   "id": "adba5279",
   "metadata": {},
   "source": [
    "#### c,d"
   ]
  },
  {
   "cell_type": "code",
   "execution_count": 18,
   "id": "5b3760f0",
   "metadata": {},
   "outputs": [
    {
     "name": "stdout",
     "output_type": "stream",
     "text": [
      "Model: \"sequential_2\"\n",
      "_________________________________________________________________\n",
      " Layer (type)                Output Shape              Param #   \n",
      "=================================================================\n",
      " simple_rnn_1 (SimpleRNN)    (None, 50, 1)             3         \n",
      "                                                                 \n",
      " simple_rnn_2 (SimpleRNN)    (None, 1)                 3         \n",
      "                                                                 \n",
      "=================================================================\n",
      "Total params: 6 (24.00 Byte)\n",
      "Trainable params: 6 (24.00 Byte)\n",
      "Non-trainable params: 0 (0.00 Byte)\n",
      "_________________________________________________________________\n"
     ]
    }
   ],
   "source": [
    "rnn2_model = Sequential([\n",
    "    Input((50, 1)),\n",
    "    SimpleRNN(1, return_sequences=True),\n",
    "    SimpleRNN(1)\n",
    "])\n",
    "rnn2_model.summary()"
   ]
  },
  {
   "cell_type": "code",
   "execution_count": 19,
   "id": "3773e30a",
   "metadata": {},
   "outputs": [],
   "source": [
    "rnn2_model.compile(loss=\"mse\", optimizer=\"adam\")"
   ]
  },
  {
   "cell_type": "code",
   "execution_count": 20,
   "id": "e7bd1310",
   "metadata": {},
   "outputs": [
    {
     "name": "stdout",
     "output_type": "stream",
     "text": [
      "Epoch 1/20\n",
      "219/219 [==============================] - 55s 241ms/step - loss: 0.1444 - val_loss: 0.1438\n",
      "Epoch 2/20\n",
      "219/219 [==============================] - 53s 243ms/step - loss: 0.1414 - val_loss: 0.1451\n",
      "Epoch 3/20\n",
      "219/219 [==============================] - 52s 238ms/step - loss: 0.1403 - val_loss: 0.1442\n",
      "Epoch 4/20\n",
      "219/219 [==============================] - 52s 239ms/step - loss: 0.1403 - val_loss: 0.1424\n",
      "Epoch 5/20\n",
      "219/219 [==============================] - 52s 236ms/step - loss: 0.1405 - val_loss: 0.1427\n",
      "Epoch 6/20\n",
      "219/219 [==============================] - 52s 237ms/step - loss: 0.1406 - val_loss: 0.1439\n",
      "Epoch 7/20\n",
      "219/219 [==============================] - 51s 233ms/step - loss: 0.1403 - val_loss: 0.1425\n",
      "Epoch 8/20\n",
      "219/219 [==============================] - 50s 229ms/step - loss: 0.1403 - val_loss: 0.1423\n",
      "Epoch 9/20\n",
      "219/219 [==============================] - 52s 235ms/step - loss: 0.1407 - val_loss: 0.1422\n",
      "Epoch 10/20\n",
      "219/219 [==============================] - 51s 231ms/step - loss: 0.1396 - val_loss: 0.1428\n",
      "Epoch 11/20\n",
      "219/219 [==============================] - 49s 222ms/step - loss: 0.1398 - val_loss: 0.1453\n",
      "Epoch 12/20\n",
      "219/219 [==============================] - 52s 237ms/step - loss: 0.1397 - val_loss: 0.1422\n",
      "Epoch 13/20\n",
      "219/219 [==============================] - 55s 253ms/step - loss: 0.1401 - val_loss: 0.1429\n",
      "Epoch 14/20\n",
      "219/219 [==============================] - 57s 262ms/step - loss: 0.1403 - val_loss: 0.1437\n",
      "Epoch 15/20\n",
      "219/219 [==============================] - 56s 256ms/step - loss: 0.1403 - val_loss: 0.1426\n",
      "Epoch 16/20\n",
      "219/219 [==============================] - 51s 233ms/step - loss: 0.1406 - val_loss: 0.1425\n",
      "Epoch 17/20\n",
      "219/219 [==============================] - 50s 228ms/step - loss: 0.1405 - val_loss: 0.1426\n",
      "Epoch 18/20\n",
      "219/219 [==============================] - 50s 226ms/step - loss: 0.1405 - val_loss: 0.1426\n",
      "Epoch 19/20\n",
      "219/219 [==============================] - 48s 218ms/step - loss: 0.1401 - val_loss: 0.1422\n",
      "Epoch 20/20\n",
      "219/219 [==============================] - 50s 228ms/step - loss: 0.1403 - val_loss: 0.1447\n"
     ]
    }
   ],
   "source": [
    "rnn2_hist = rnn2_model.fit(X_train, y_train, epochs=20, validation_data=(X_val, y_val))"
   ]
  },
  {
   "cell_type": "code",
   "execution_count": 21,
   "id": "e968b43a",
   "metadata": {},
   "outputs": [
    {
     "name": "stdout",
     "output_type": "stream",
     "text": [
      "32/32 [==============================] - 1s 21ms/step - loss: 0.1391\n"
     ]
    },
    {
     "data": {
      "text/plain": [
       "0.1390729397535324"
      ]
     },
     "execution_count": 21,
     "metadata": {},
     "output_type": "execute_result"
    }
   ],
   "source": [
    "rnn2_model.evaluate(X_test, y_test)"
   ]
  },
  {
   "cell_type": "markdown",
   "id": "b1e6a9ba",
   "metadata": {},
   "source": [
    "#### e"
   ]
  },
  {
   "cell_type": "code",
   "execution_count": 22,
   "id": "9a8105f0",
   "metadata": {},
   "outputs": [
    {
     "name": "stdout",
     "output_type": "stream",
     "text": [
      "Model: \"sequential_3\"\n",
      "_________________________________________________________________\n",
      " Layer (type)                Output Shape              Param #   \n",
      "=================================================================\n",
      " simple_rnn_3 (SimpleRNN)    (None, 50, 1)             3         \n",
      "                                                                 \n",
      " simple_rnn_4 (SimpleRNN)    (None, 50, 1)             3         \n",
      "                                                                 \n",
      " simple_rnn_5 (SimpleRNN)    (None, 1)                 3         \n",
      "                                                                 \n",
      "=================================================================\n",
      "Total params: 9 (36.00 Byte)\n",
      "Trainable params: 9 (36.00 Byte)\n",
      "Non-trainable params: 0 (0.00 Byte)\n",
      "_________________________________________________________________\n"
     ]
    }
   ],
   "source": [
    "rnn3_model = Sequential([\n",
    "    Input((50, 1)),\n",
    "    SimpleRNN(1, return_sequences=True),\n",
    "    SimpleRNN(1, return_sequences=True),\n",
    "    SimpleRNN(1)\n",
    "])\n",
    "rnn3_model.summary()"
   ]
  },
  {
   "cell_type": "code",
   "execution_count": 23,
   "id": "09564e54",
   "metadata": {},
   "outputs": [],
   "source": [
    "rnn3_model.compile(loss=\"mse\", optimizer=\"adam\")"
   ]
  },
  {
   "cell_type": "code",
   "execution_count": 24,
   "id": "e1f20b6b",
   "metadata": {},
   "outputs": [
    {
     "name": "stdout",
     "output_type": "stream",
     "text": [
      "Epoch 1/20\n",
      "219/219 [==============================] - 79s 347ms/step - loss: 0.1529 - val_loss: 0.1490\n",
      "Epoch 2/20\n",
      "219/219 [==============================] - 75s 345ms/step - loss: 0.1452 - val_loss: 0.1474\n",
      "Epoch 3/20\n",
      "219/219 [==============================] - 76s 349ms/step - loss: 0.1439 - val_loss: 0.1460\n",
      "Epoch 4/20\n",
      "219/219 [==============================] - 74s 338ms/step - loss: 0.1430 - val_loss: 0.1451\n",
      "Epoch 5/20\n",
      "219/219 [==============================] - 73s 336ms/step - loss: 0.1425 - val_loss: 0.1448\n",
      "Epoch 6/20\n",
      "219/219 [==============================] - 80s 367ms/step - loss: 0.1423 - val_loss: 0.1447\n",
      "Epoch 7/20\n",
      "219/219 [==============================] - 78s 353ms/step - loss: 0.1421 - val_loss: 0.1447\n",
      "Epoch 8/20\n",
      "219/219 [==============================] - 76s 349ms/step - loss: 0.1422 - val_loss: 0.1441\n",
      "Epoch 9/20\n",
      "219/219 [==============================] - 77s 351ms/step - loss: 0.1420 - val_loss: 0.1440\n",
      "Epoch 10/20\n",
      "219/219 [==============================] - 76s 345ms/step - loss: 0.1419 - val_loss: 0.1443\n",
      "Epoch 11/20\n",
      "219/219 [==============================] - 75s 344ms/step - loss: 0.1417 - val_loss: 0.1438\n",
      "Epoch 12/20\n",
      "219/219 [==============================] - 84s 382ms/step - loss: 0.1417 - val_loss: 0.1441\n",
      "Epoch 13/20\n",
      "219/219 [==============================] - 78s 357ms/step - loss: 0.1418 - val_loss: 0.1437\n",
      "Epoch 14/20\n",
      "219/219 [==============================] - 80s 367ms/step - loss: 0.1417 - val_loss: 0.1437\n",
      "Epoch 15/20\n",
      "219/219 [==============================] - 85s 386ms/step - loss: 0.1417 - val_loss: 0.1439\n",
      "Epoch 16/20\n",
      "219/219 [==============================] - 85s 389ms/step - loss: 0.1420 - val_loss: 0.1436\n",
      "Epoch 17/20\n",
      "219/219 [==============================] - 83s 380ms/step - loss: 0.1420 - val_loss: 0.1440\n",
      "Epoch 18/20\n",
      "219/219 [==============================] - 81s 369ms/step - loss: 0.1420 - val_loss: 0.1436\n",
      "Epoch 19/20\n",
      "219/219 [==============================] - 82s 374ms/step - loss: 0.1419 - val_loss: 0.1434\n",
      "Epoch 20/20\n",
      "219/219 [==============================] - 82s 373ms/step - loss: 0.1420 - val_loss: 0.1438\n"
     ]
    }
   ],
   "source": [
    "rnn3_hist = rnn3_model.fit(X_train, y_train, epochs=20, validation_data=(X_val, y_val))"
   ]
  },
  {
   "cell_type": "code",
   "execution_count": 25,
   "id": "5d83e960",
   "metadata": {},
   "outputs": [
    {
     "name": "stdout",
     "output_type": "stream",
     "text": [
      "32/32 [==============================] - 1s 38ms/step - loss: 0.1378\n"
     ]
    },
    {
     "data": {
      "text/plain": [
       "0.1378369927406311"
      ]
     },
     "execution_count": 25,
     "metadata": {},
     "output_type": "execute_result"
    }
   ],
   "source": [
    "rnn3_model.evaluate(X_test, y_test)"
   ]
  },
  {
   "cell_type": "markdown",
   "id": "299a9a6d",
   "metadata": {},
   "source": [
    "## Q2"
   ]
  },
  {
   "cell_type": "code",
   "execution_count": 26,
   "id": "06bc07e8",
   "metadata": {},
   "outputs": [],
   "source": [
    "df = pd.read_csv('GOOG.csv')"
   ]
  },
  {
   "cell_type": "code",
   "execution_count": 27,
   "id": "dabf81f6",
   "metadata": {},
   "outputs": [
    {
     "data": {
      "text/html": [
       "<div>\n",
       "<style scoped>\n",
       "    .dataframe tbody tr th:only-of-type {\n",
       "        vertical-align: middle;\n",
       "    }\n",
       "\n",
       "    .dataframe tbody tr th {\n",
       "        vertical-align: top;\n",
       "    }\n",
       "\n",
       "    .dataframe thead th {\n",
       "        text-align: right;\n",
       "    }\n",
       "</style>\n",
       "<table border=\"1\" class=\"dataframe\">\n",
       "  <thead>\n",
       "    <tr style=\"text-align: right;\">\n",
       "      <th></th>\n",
       "      <th>symbol</th>\n",
       "      <th>date</th>\n",
       "      <th>close</th>\n",
       "      <th>high</th>\n",
       "      <th>low</th>\n",
       "      <th>open</th>\n",
       "      <th>volume</th>\n",
       "      <th>adjClose</th>\n",
       "      <th>adjHigh</th>\n",
       "      <th>adjLow</th>\n",
       "      <th>adjOpen</th>\n",
       "      <th>adjVolume</th>\n",
       "      <th>divCash</th>\n",
       "      <th>splitFactor</th>\n",
       "    </tr>\n",
       "  </thead>\n",
       "  <tbody>\n",
       "    <tr>\n",
       "      <th>0</th>\n",
       "      <td>GOOG</td>\n",
       "      <td>2016-06-14 00:00:00+00:00</td>\n",
       "      <td>718.27</td>\n",
       "      <td>722.47</td>\n",
       "      <td>713.1200</td>\n",
       "      <td>716.48</td>\n",
       "      <td>1306065</td>\n",
       "      <td>718.27</td>\n",
       "      <td>722.47</td>\n",
       "      <td>713.1200</td>\n",
       "      <td>716.48</td>\n",
       "      <td>1306065</td>\n",
       "      <td>0.0</td>\n",
       "      <td>1.0</td>\n",
       "    </tr>\n",
       "    <tr>\n",
       "      <th>1</th>\n",
       "      <td>GOOG</td>\n",
       "      <td>2016-06-15 00:00:00+00:00</td>\n",
       "      <td>718.92</td>\n",
       "      <td>722.98</td>\n",
       "      <td>717.3100</td>\n",
       "      <td>719.00</td>\n",
       "      <td>1214517</td>\n",
       "      <td>718.92</td>\n",
       "      <td>722.98</td>\n",
       "      <td>717.3100</td>\n",
       "      <td>719.00</td>\n",
       "      <td>1214517</td>\n",
       "      <td>0.0</td>\n",
       "      <td>1.0</td>\n",
       "    </tr>\n",
       "    <tr>\n",
       "      <th>2</th>\n",
       "      <td>GOOG</td>\n",
       "      <td>2016-06-16 00:00:00+00:00</td>\n",
       "      <td>710.36</td>\n",
       "      <td>716.65</td>\n",
       "      <td>703.2600</td>\n",
       "      <td>714.91</td>\n",
       "      <td>1982471</td>\n",
       "      <td>710.36</td>\n",
       "      <td>716.65</td>\n",
       "      <td>703.2600</td>\n",
       "      <td>714.91</td>\n",
       "      <td>1982471</td>\n",
       "      <td>0.0</td>\n",
       "      <td>1.0</td>\n",
       "    </tr>\n",
       "    <tr>\n",
       "      <th>3</th>\n",
       "      <td>GOOG</td>\n",
       "      <td>2016-06-17 00:00:00+00:00</td>\n",
       "      <td>691.72</td>\n",
       "      <td>708.82</td>\n",
       "      <td>688.4515</td>\n",
       "      <td>708.65</td>\n",
       "      <td>3402357</td>\n",
       "      <td>691.72</td>\n",
       "      <td>708.82</td>\n",
       "      <td>688.4515</td>\n",
       "      <td>708.65</td>\n",
       "      <td>3402357</td>\n",
       "      <td>0.0</td>\n",
       "      <td>1.0</td>\n",
       "    </tr>\n",
       "    <tr>\n",
       "      <th>4</th>\n",
       "      <td>GOOG</td>\n",
       "      <td>2016-06-20 00:00:00+00:00</td>\n",
       "      <td>693.71</td>\n",
       "      <td>702.48</td>\n",
       "      <td>693.4100</td>\n",
       "      <td>698.77</td>\n",
       "      <td>2082538</td>\n",
       "      <td>693.71</td>\n",
       "      <td>702.48</td>\n",
       "      <td>693.4100</td>\n",
       "      <td>698.77</td>\n",
       "      <td>2082538</td>\n",
       "      <td>0.0</td>\n",
       "      <td>1.0</td>\n",
       "    </tr>\n",
       "  </tbody>\n",
       "</table>\n",
       "</div>"
      ],
      "text/plain": [
       "  symbol                       date   close    high       low    open  \\\n",
       "0   GOOG  2016-06-14 00:00:00+00:00  718.27  722.47  713.1200  716.48   \n",
       "1   GOOG  2016-06-15 00:00:00+00:00  718.92  722.98  717.3100  719.00   \n",
       "2   GOOG  2016-06-16 00:00:00+00:00  710.36  716.65  703.2600  714.91   \n",
       "3   GOOG  2016-06-17 00:00:00+00:00  691.72  708.82  688.4515  708.65   \n",
       "4   GOOG  2016-06-20 00:00:00+00:00  693.71  702.48  693.4100  698.77   \n",
       "\n",
       "    volume  adjClose  adjHigh    adjLow  adjOpen  adjVolume  divCash  \\\n",
       "0  1306065    718.27   722.47  713.1200   716.48    1306065      0.0   \n",
       "1  1214517    718.92   722.98  717.3100   719.00    1214517      0.0   \n",
       "2  1982471    710.36   716.65  703.2600   714.91    1982471      0.0   \n",
       "3  3402357    691.72   708.82  688.4515   708.65    3402357      0.0   \n",
       "4  2082538    693.71   702.48  693.4100   698.77    2082538      0.0   \n",
       "\n",
       "   splitFactor  \n",
       "0          1.0  \n",
       "1          1.0  \n",
       "2          1.0  \n",
       "3          1.0  \n",
       "4          1.0  "
      ]
     },
     "execution_count": 27,
     "metadata": {},
     "output_type": "execute_result"
    }
   ],
   "source": [
    "df.head(5)"
   ]
  },
  {
   "cell_type": "code",
   "execution_count": 29,
   "id": "af2f14a4",
   "metadata": {},
   "outputs": [
    {
     "name": "stdout",
     "output_type": "stream",
     "text": [
      "<class 'pandas.core.frame.DataFrame'>\n",
      "RangeIndex: 1258 entries, 0 to 1257\n",
      "Data columns (total 14 columns):\n",
      " #   Column       Non-Null Count  Dtype  \n",
      "---  ------       --------------  -----  \n",
      " 0   symbol       1258 non-null   object \n",
      " 1   date         1258 non-null   object \n",
      " 2   close        1258 non-null   float64\n",
      " 3   high         1258 non-null   float64\n",
      " 4   low          1258 non-null   float64\n",
      " 5   open         1258 non-null   float64\n",
      " 6   volume       1258 non-null   int64  \n",
      " 7   adjClose     1258 non-null   float64\n",
      " 8   adjHigh      1258 non-null   float64\n",
      " 9   adjLow       1258 non-null   float64\n",
      " 10  adjOpen      1258 non-null   float64\n",
      " 11  adjVolume    1258 non-null   int64  \n",
      " 12  divCash      1258 non-null   float64\n",
      " 13  splitFactor  1258 non-null   float64\n",
      "dtypes: float64(10), int64(2), object(2)\n",
      "memory usage: 137.7+ KB\n"
     ]
    }
   ],
   "source": [
    "df.info()"
   ]
  },
  {
   "cell_type": "code",
   "execution_count": 30,
   "id": "3b6ab3c7",
   "metadata": {},
   "outputs": [
    {
     "data": {
      "text/plain": [
       "symbol         0\n",
       "date           0\n",
       "close          0\n",
       "high           0\n",
       "low            0\n",
       "open           0\n",
       "volume         0\n",
       "adjClose       0\n",
       "adjHigh        0\n",
       "adjLow         0\n",
       "adjOpen        0\n",
       "adjVolume      0\n",
       "divCash        0\n",
       "splitFactor    0\n",
       "dtype: int64"
      ]
     },
     "execution_count": 30,
     "metadata": {},
     "output_type": "execute_result"
    }
   ],
   "source": [
    "# Check null\n",
    "df.isna().sum()"
   ]
  },
  {
   "cell_type": "code",
   "execution_count": 32,
   "id": "31b6c0b2",
   "metadata": {},
   "outputs": [
    {
     "data": {
      "text/plain": [
       "False"
      ]
     },
     "execution_count": 32,
     "metadata": {},
     "output_type": "execute_result"
    }
   ],
   "source": [
    "# Check duplicates\n",
    "df.duplicated().any()"
   ]
  },
  {
   "cell_type": "markdown",
   "id": "d7024925",
   "metadata": {},
   "source": [
    "### A"
   ]
  },
  {
   "cell_type": "code",
   "execution_count": 34,
   "id": "18efce87",
   "metadata": {},
   "outputs": [],
   "source": [
    "# Filter data for the years 2020 and 2021\n",
    "df['date'] = pd.to_datetime(df['date'])\n",
    "df_2020_2021 = df[(df['date'].dt.year >= 2020) & (df['date'].dt.year <= 2021)]"
   ]
  },
  {
   "cell_type": "code",
   "execution_count": 35,
   "id": "c1bd4da2",
   "metadata": {},
   "outputs": [],
   "source": [
    "features = ['close', 'high', 'low', 'open', 'volume', 'adjClose', 'adjHigh', 'adjLow', 'adjOpen', 'adjVolume']\n",
    "df_selected = df_2020_2021[features]"
   ]
  },
  {
   "cell_type": "code",
   "execution_count": 37,
   "id": "a1198858",
   "metadata": {},
   "outputs": [],
   "source": [
    "scaler = MinMaxScaler()\n",
    "df_norm = scaler.fit_transform(df_selected)"
   ]
  },
  {
   "cell_type": "code",
   "execution_count": 38,
   "id": "a74c7132",
   "metadata": {},
   "outputs": [],
   "source": [
    "window_size = 30\n",
    "\n",
    "sequences = []\n",
    "target = []\n",
    "for i in range(len(df_norm) - window_size):\n",
    "    sequences.append(df_norm[i:i+window_size])\n",
    "    target.append(df_norm[i+window_size])\n",
    "\n",
    "sequences = np.array(sequences)\n",
    "target = np.array(target)"
   ]
  },
  {
   "cell_type": "code",
   "execution_count": 39,
   "id": "2b3145b3",
   "metadata": {},
   "outputs": [],
   "source": [
    "X_train, X_test, y_train, y_test = train_test_split(sequences, target, test_size=0.2, random_state=42)"
   ]
  },
  {
   "cell_type": "code",
   "execution_count": 41,
   "id": "2f6de5c0",
   "metadata": {},
   "outputs": [
    {
     "name": "stdout",
     "output_type": "stream",
     "text": [
      "Model: \"sequential_4\"\n",
      "_________________________________________________________________\n",
      " Layer (type)                Output Shape              Param #   \n",
      "=================================================================\n",
      " simple_rnn_6 (SimpleRNN)    (None, 30, 64)            4800      \n",
      "                                                                 \n",
      " dropout (Dropout)           (None, 30, 64)            0         \n",
      "                                                                 \n",
      " simple_rnn_7 (SimpleRNN)    (None, 30, 64)            8256      \n",
      "                                                                 \n",
      " dropout_1 (Dropout)         (None, 30, 64)            0         \n",
      "                                                                 \n",
      " simple_rnn_8 (SimpleRNN)    (None, 30, 64)            8256      \n",
      "                                                                 \n",
      " dropout_2 (Dropout)         (None, 30, 64)            0         \n",
      "                                                                 \n",
      " simple_rnn_9 (SimpleRNN)    (None, 64)                8256      \n",
      "                                                                 \n",
      " dropout_3 (Dropout)         (None, 64)                0         \n",
      "                                                                 \n",
      " dense_1 (Dense)             (None, 10)                650       \n",
      "                                                                 \n",
      "=================================================================\n",
      "Total params: 30218 (118.04 KB)\n",
      "Trainable params: 30218 (118.04 KB)\n",
      "Non-trainable params: 0 (0.00 Byte)\n",
      "_________________________________________________________________\n"
     ]
    }
   ],
   "source": [
    "model = Sequential([\n",
    "    SimpleRNN(units=64, activation='relu', return_sequences=True, input_shape=(window_size, len(features))),\n",
    "    Dropout(0.2),\n",
    "    SimpleRNN(units=64, activation='relu', return_sequences=True),\n",
    "    Dropout(0.2),\n",
    "    SimpleRNN(units=64, activation='relu', return_sequences=True),\n",
    "    Dropout(0.2),\n",
    "    SimpleRNN(units=64, activation='relu'),\n",
    "    Dropout(0.2),\n",
    "    Dense(units=len(features))\n",
    "])\n",
    "model.summary()"
   ]
  },
  {
   "cell_type": "code",
   "execution_count": 42,
   "id": "d9d559d6",
   "metadata": {},
   "outputs": [],
   "source": [
    "model.compile(optimizer='adam', loss='mean_squared_error')"
   ]
  },
  {
   "cell_type": "code",
   "execution_count": 43,
   "id": "0556d096",
   "metadata": {},
   "outputs": [
    {
     "name": "stdout",
     "output_type": "stream",
     "text": [
      "Epoch 1/50\n",
      "8/8 [==============================] - 10s 386ms/step - loss: 0.1901 - val_loss: 0.0686\n",
      "Epoch 2/50\n",
      "8/8 [==============================] - 3s 317ms/step - loss: 0.0787 - val_loss: 0.0502\n",
      "Epoch 3/50\n",
      "8/8 [==============================] - 2s 307ms/step - loss: 0.0517 - val_loss: 0.0343\n",
      "Epoch 4/50\n",
      "8/8 [==============================] - 3s 332ms/step - loss: 0.0411 - val_loss: 0.0286\n",
      "Epoch 5/50\n",
      "8/8 [==============================] - 2s 291ms/step - loss: 0.0368 - val_loss: 0.0284\n",
      "Epoch 6/50\n",
      "8/8 [==============================] - 3s 332ms/step - loss: 0.0325 - val_loss: 0.0231\n",
      "Epoch 7/50\n",
      "8/8 [==============================] - 2s 308ms/step - loss: 0.0288 - val_loss: 0.0235\n",
      "Epoch 8/50\n",
      "8/8 [==============================] - 2s 294ms/step - loss: 0.0254 - val_loss: 0.0235\n",
      "Epoch 9/50\n",
      "8/8 [==============================] - 2s 302ms/step - loss: 0.0268 - val_loss: 0.0182\n",
      "Epoch 10/50\n",
      "8/8 [==============================] - 3s 387ms/step - loss: 0.0220 - val_loss: 0.0189\n",
      "Epoch 11/50\n",
      "8/8 [==============================] - 3s 379ms/step - loss: 0.0222 - val_loss: 0.0211\n",
      "Epoch 12/50\n",
      "8/8 [==============================] - 3s 361ms/step - loss: 0.0232 - val_loss: 0.0209\n",
      "Epoch 13/50\n",
      "8/8 [==============================] - 3s 340ms/step - loss: 0.0203 - val_loss: 0.0208\n",
      "Epoch 14/50\n",
      "8/8 [==============================] - 3s 313ms/step - loss: 0.0204 - val_loss: 0.0165\n",
      "Epoch 15/50\n",
      "8/8 [==============================] - 2s 300ms/step - loss: 0.0204 - val_loss: 0.0123\n",
      "Epoch 16/50\n",
      "8/8 [==============================] - 3s 315ms/step - loss: 0.0189 - val_loss: 0.0192\n",
      "Epoch 17/50\n",
      "8/8 [==============================] - 2s 303ms/step - loss: 0.0177 - val_loss: 0.0132\n",
      "Epoch 18/50\n",
      "8/8 [==============================] - 2s 310ms/step - loss: 0.0177 - val_loss: 0.0133\n",
      "Epoch 19/50\n",
      "8/8 [==============================] - 3s 317ms/step - loss: 0.0189 - val_loss: 0.0233\n",
      "Epoch 20/50\n",
      "8/8 [==============================] - 2s 315ms/step - loss: 0.0178 - val_loss: 0.0109\n",
      "Epoch 21/50\n",
      "8/8 [==============================] - 2s 305ms/step - loss: 0.0173 - val_loss: 0.0144\n",
      "Epoch 22/50\n",
      "8/8 [==============================] - 2s 312ms/step - loss: 0.0160 - val_loss: 0.0170\n",
      "Epoch 23/50\n",
      "8/8 [==============================] - 2s 299ms/step - loss: 0.0156 - val_loss: 0.0116\n",
      "Epoch 24/50\n",
      "8/8 [==============================] - 3s 374ms/step - loss: 0.0156 - val_loss: 0.0189\n",
      "Epoch 25/50\n",
      "8/8 [==============================] - 3s 382ms/step - loss: 0.0141 - val_loss: 0.0165\n",
      "Epoch 26/50\n",
      "8/8 [==============================] - 3s 340ms/step - loss: 0.0135 - val_loss: 0.0180\n",
      "Epoch 27/50\n",
      "8/8 [==============================] - 2s 315ms/step - loss: 0.0142 - val_loss: 0.0161\n",
      "Epoch 28/50\n",
      "8/8 [==============================] - 3s 321ms/step - loss: 0.0146 - val_loss: 0.0194\n",
      "Epoch 29/50\n",
      "8/8 [==============================] - 3s 313ms/step - loss: 0.0128 - val_loss: 0.0138\n",
      "Epoch 30/50\n",
      "8/8 [==============================] - 3s 334ms/step - loss: 0.0123 - val_loss: 0.0131\n",
      "Epoch 31/50\n",
      "8/8 [==============================] - 3s 327ms/step - loss: 0.0141 - val_loss: 0.0138\n",
      "Epoch 32/50\n",
      "8/8 [==============================] - 3s 325ms/step - loss: 0.0142 - val_loss: 0.0294\n",
      "Epoch 33/50\n",
      "8/8 [==============================] - 2s 298ms/step - loss: 0.0150 - val_loss: 0.0111\n",
      "Epoch 34/50\n",
      "8/8 [==============================] - 3s 344ms/step - loss: 0.0126 - val_loss: 0.0134\n",
      "Epoch 35/50\n",
      "8/8 [==============================] - 3s 366ms/step - loss: 0.0132 - val_loss: 0.0212\n",
      "Epoch 36/50\n",
      "8/8 [==============================] - 3s 317ms/step - loss: 0.0122 - val_loss: 0.0134\n",
      "Epoch 37/50\n",
      "8/8 [==============================] - 3s 376ms/step - loss: 0.0126 - val_loss: 0.0170\n",
      "Epoch 38/50\n",
      "8/8 [==============================] - 3s 362ms/step - loss: 0.0116 - val_loss: 0.0160\n",
      "Epoch 39/50\n",
      "8/8 [==============================] - 3s 339ms/step - loss: 0.0116 - val_loss: 0.0146\n",
      "Epoch 40/50\n",
      "8/8 [==============================] - 3s 367ms/step - loss: 0.0118 - val_loss: 0.0094\n",
      "Epoch 41/50\n",
      "8/8 [==============================] - 3s 335ms/step - loss: 0.0127 - val_loss: 0.0160\n",
      "Epoch 42/50\n",
      "8/8 [==============================] - 3s 358ms/step - loss: 0.0125 - val_loss: 0.0254\n",
      "Epoch 43/50\n",
      "8/8 [==============================] - 3s 383ms/step - loss: 0.0142 - val_loss: 0.0095\n",
      "Epoch 44/50\n",
      "8/8 [==============================] - 3s 328ms/step - loss: 0.0111 - val_loss: 0.0176\n",
      "Epoch 45/50\n",
      "8/8 [==============================] - 3s 345ms/step - loss: 0.0143 - val_loss: 0.0162\n",
      "Epoch 46/50\n",
      "8/8 [==============================] - 3s 326ms/step - loss: 0.0116 - val_loss: 0.0099\n",
      "Epoch 47/50\n",
      "8/8 [==============================] - 2s 315ms/step - loss: 0.0130 - val_loss: 0.0160\n",
      "Epoch 48/50\n",
      "8/8 [==============================] - 3s 334ms/step - loss: 0.0100 - val_loss: 0.0150\n",
      "Epoch 49/50\n",
      "8/8 [==============================] - 3s 315ms/step - loss: 0.0103 - val_loss: 0.0151\n",
      "Epoch 50/50\n",
      "8/8 [==============================] - 3s 321ms/step - loss: 0.0098 - val_loss: 0.0180\n"
     ]
    }
   ],
   "source": [
    "hist = model.fit(X_train, y_train, epochs=50, batch_size=32,validation_split=0.1)"
   ]
  },
  {
   "cell_type": "code",
   "execution_count": 46,
   "id": "9a37b149",
   "metadata": {},
   "outputs": [
    {
     "data": {
      "image/png": "[encoded data removed]",
      "text/plain": [
       "<Figure size 640x480 with 1 Axes>"
      ]
     },
     "metadata": {},
     "output_type": "display_data"
    }
   ],
   "source": [
    "training = hist.history['loss']\n",
    "validation = hist.history['val_loss']\n",
    "\n",
    "plt.plot(training, label='Training')\n",
    "plt.plot(validation, label='Validation')\n",
    "plt.legend()\n",
    "plt.show()"
   ]
  },
  {
   "cell_type": "code",
   "execution_count": 48,
   "id": "ad9a12d2",
   "metadata": {},
   "outputs": [
    {
     "name": "stdout",
     "output_type": "stream",
     "text": [
      "1/3 [=========>....................] - ETA: 0s"
     ]
    },
    {
     "name": "stdout",
     "output_type": "stream",
     "text": [
      "3/3 [==============================] - 0s 33ms/step\n"
     ]
    }
   ],
   "source": [
    "predicted_prices = model.predict(X_test)\n",
    "predicted_prices_actual = scaler.inverse_transform(predicted_prices)"
   ]
  },
  {
   "cell_type": "markdown",
   "id": "564ad386",
   "metadata": {},
   "source": [
    "### B"
   ]
  },
  {
   "cell_type": "code",
   "execution_count": 51,
   "id": "0e09451a",
   "metadata": {},
   "outputs": [
    {
     "name": "stdout",
     "output_type": "stream",
     "text": [
      "MAPE: 2347375212097.97%\n",
      "MSE: 0.02\n"
     ]
    }
   ],
   "source": [
    "mape = mean_absolute_percentage_error(y_test, predicted_prices)\n",
    "print(f\"MAPE: {mape:.2f}%\")\n",
    "\n",
    "mse = mean_squared_error(y_test, predicted_prices)\n",
    "print(f\"MSE: {mse:.2f}\")"
   ]
  },
  {
   "cell_type": "markdown",
   "id": "471c4838",
   "metadata": {},
   "source": [
    "### C\n",
    "\n",
    "Good results were seen with 50 epochs and 4 dropouts"
   ]
  },
  {
   "cell_type": "markdown",
   "id": "2eebb5eb",
   "metadata": {},
   "source": [
    "### D"
   ]
  },
  {
   "cell_type": "code",
   "execution_count": 54,
   "id": "891d9cfa",
   "metadata": {},
   "outputs": [
    {
     "data": {
      "image/png": "[encoded data removed]",
      "text/plain": [
       "<Figure size 640x480 with 1 Axes>"
      ]
     },
     "metadata": {},
     "output_type": "display_data"
    }
   ],
   "source": [
    "actual_price = scaler.inverse_transform(y_test)\n",
    "\n",
    "plt.plot(actual_price[:, 0], label='Actual')\n",
    "plt.plot(predicted_prices_actual[:, 0], label='Predicted')\n",
    "\n",
    "plt.xlabel('Day')\n",
    "plt.ylabel('Normalized Close Price')\n",
    "plt.title('Actual vs Predicted')\n",
    "plt.legend()\n",
    "plt.show()"
   ]
  },
  {
   "cell_type": "code",
   "execution_count": null,
   "id": "711c6493",
   "metadata": {},
   "outputs": [],
   "source": []
  }
 ],
 "metadata": {
  "kernelspec": {
   "display_name": "Python 3 (ipykernel)",
   "language": "python",
   "name": "python3"
  },
  "language_info": {
   "codemirror_mode": {
    "name": "ipython",
    "version": 3
   },
   "file_extension": ".py",
   "mimetype": "text/x-python",
   "name": "python",
   "nbconvert_exporter": "python",
   "pygments_lexer": "ipython3",
   "version": "3.11.4"
  }
 },
 "nbformat": 4,
 "nbformat_minor": 5
}
