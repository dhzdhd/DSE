{
  "cells": [
    {
      "cell_type": "markdown",
      "metadata": {
        "id": "giG7C2IQtKGl"
      },
      "source": [
        "# Exercise 1"
      ]
    },
    {
      "cell_type": "code",
      "execution_count": 12,
      "metadata": {
        "id": "Ixt6MGm5pf7V"
      },
      "outputs": [],
      "source": [
        "import pandas as pd\n",
        "import tensorflow as tf\n",
        "import numpy as np\n",
        "import matplotlib.pyplot as plt\n",
        "keras = tf.keras\n",
        "from keras.models import Sequential\n",
        "from keras.layers import Dense, Input\n",
        "from sklearn.model_selection import train_test_split"
      ]
    },
    {
      "cell_type": "code",
      "execution_count": 13,
      "metadata": {
        "id": "HFtoyQ17tz9O"
      },
      "outputs": [
        {
          "data": {
            "text/html": [
              "<div>\n",
              "<style scoped>\n",
              "    .dataframe tbody tr th:only-of-type {\n",
              "        vertical-align: middle;\n",
              "    }\n",
              "\n",
              "    .dataframe tbody tr th {\n",
              "        vertical-align: top;\n",
              "    }\n",
              "\n",
              "    .dataframe thead th {\n",
              "        text-align: right;\n",
              "    }\n",
              "</style>\n",
              "<table border=\"1\" class=\"dataframe\">\n",
              "  <thead>\n",
              "    <tr style=\"text-align: right;\">\n",
              "      <th></th>\n",
              "      <th>Density</th>\n",
              "      <th>BodyFat</th>\n",
              "      <th>Age</th>\n",
              "      <th>Weight</th>\n",
              "      <th>Height</th>\n",
              "      <th>Neck</th>\n",
              "      <th>Chest</th>\n",
              "      <th>Abdomen</th>\n",
              "      <th>Hip</th>\n",
              "      <th>Thigh</th>\n",
              "      <th>Knee</th>\n",
              "      <th>Ankle</th>\n",
              "      <th>Biceps</th>\n",
              "      <th>Forearm</th>\n",
              "      <th>Wrist</th>\n",
              "    </tr>\n",
              "  </thead>\n",
              "  <tbody>\n",
              "    <tr>\n",
              "      <th>0</th>\n",
              "      <td>1.0708</td>\n",
              "      <td>12.3</td>\n",
              "      <td>23</td>\n",
              "      <td>154.25</td>\n",
              "      <td>67.75</td>\n",
              "      <td>36.2</td>\n",
              "      <td>93.1</td>\n",
              "      <td>85.2</td>\n",
              "      <td>94.5</td>\n",
              "      <td>59.0</td>\n",
              "      <td>37.3</td>\n",
              "      <td>21.9</td>\n",
              "      <td>32.0</td>\n",
              "      <td>27.4</td>\n",
              "      <td>17.1</td>\n",
              "    </tr>\n",
              "    <tr>\n",
              "      <th>1</th>\n",
              "      <td>1.0853</td>\n",
              "      <td>6.1</td>\n",
              "      <td>22</td>\n",
              "      <td>173.25</td>\n",
              "      <td>72.25</td>\n",
              "      <td>38.5</td>\n",
              "      <td>93.6</td>\n",
              "      <td>83.0</td>\n",
              "      <td>98.7</td>\n",
              "      <td>58.7</td>\n",
              "      <td>37.3</td>\n",
              "      <td>23.4</td>\n",
              "      <td>30.5</td>\n",
              "      <td>28.9</td>\n",
              "      <td>18.2</td>\n",
              "    </tr>\n",
              "    <tr>\n",
              "      <th>2</th>\n",
              "      <td>1.0414</td>\n",
              "      <td>25.3</td>\n",
              "      <td>22</td>\n",
              "      <td>154.00</td>\n",
              "      <td>66.25</td>\n",
              "      <td>34.0</td>\n",
              "      <td>95.8</td>\n",
              "      <td>87.9</td>\n",
              "      <td>99.2</td>\n",
              "      <td>59.6</td>\n",
              "      <td>38.9</td>\n",
              "      <td>24.0</td>\n",
              "      <td>28.8</td>\n",
              "      <td>25.2</td>\n",
              "      <td>16.6</td>\n",
              "    </tr>\n",
              "    <tr>\n",
              "      <th>3</th>\n",
              "      <td>1.0751</td>\n",
              "      <td>10.4</td>\n",
              "      <td>26</td>\n",
              "      <td>184.75</td>\n",
              "      <td>72.25</td>\n",
              "      <td>37.4</td>\n",
              "      <td>101.8</td>\n",
              "      <td>86.4</td>\n",
              "      <td>101.2</td>\n",
              "      <td>60.1</td>\n",
              "      <td>37.3</td>\n",
              "      <td>22.8</td>\n",
              "      <td>32.4</td>\n",
              "      <td>29.4</td>\n",
              "      <td>18.2</td>\n",
              "    </tr>\n",
              "    <tr>\n",
              "      <th>4</th>\n",
              "      <td>1.0340</td>\n",
              "      <td>28.7</td>\n",
              "      <td>24</td>\n",
              "      <td>184.25</td>\n",
              "      <td>71.25</td>\n",
              "      <td>34.4</td>\n",
              "      <td>97.3</td>\n",
              "      <td>100.0</td>\n",
              "      <td>101.9</td>\n",
              "      <td>63.2</td>\n",
              "      <td>42.2</td>\n",
              "      <td>24.0</td>\n",
              "      <td>32.2</td>\n",
              "      <td>27.7</td>\n",
              "      <td>17.7</td>\n",
              "    </tr>\n",
              "    <tr>\n",
              "      <th>...</th>\n",
              "      <td>...</td>\n",
              "      <td>...</td>\n",
              "      <td>...</td>\n",
              "      <td>...</td>\n",
              "      <td>...</td>\n",
              "      <td>...</td>\n",
              "      <td>...</td>\n",
              "      <td>...</td>\n",
              "      <td>...</td>\n",
              "      <td>...</td>\n",
              "      <td>...</td>\n",
              "      <td>...</td>\n",
              "      <td>...</td>\n",
              "      <td>...</td>\n",
              "      <td>...</td>\n",
              "    </tr>\n",
              "    <tr>\n",
              "      <th>247</th>\n",
              "      <td>1.0736</td>\n",
              "      <td>11.0</td>\n",
              "      <td>70</td>\n",
              "      <td>134.25</td>\n",
              "      <td>67.00</td>\n",
              "      <td>34.9</td>\n",
              "      <td>89.2</td>\n",
              "      <td>83.6</td>\n",
              "      <td>88.8</td>\n",
              "      <td>49.6</td>\n",
              "      <td>34.8</td>\n",
              "      <td>21.5</td>\n",
              "      <td>25.6</td>\n",
              "      <td>25.7</td>\n",
              "      <td>18.5</td>\n",
              "    </tr>\n",
              "    <tr>\n",
              "      <th>248</th>\n",
              "      <td>1.0236</td>\n",
              "      <td>33.6</td>\n",
              "      <td>72</td>\n",
              "      <td>201.00</td>\n",
              "      <td>69.75</td>\n",
              "      <td>40.9</td>\n",
              "      <td>108.5</td>\n",
              "      <td>105.0</td>\n",
              "      <td>104.5</td>\n",
              "      <td>59.6</td>\n",
              "      <td>40.8</td>\n",
              "      <td>23.2</td>\n",
              "      <td>35.2</td>\n",
              "      <td>28.6</td>\n",
              "      <td>20.1</td>\n",
              "    </tr>\n",
              "    <tr>\n",
              "      <th>249</th>\n",
              "      <td>1.0328</td>\n",
              "      <td>29.3</td>\n",
              "      <td>72</td>\n",
              "      <td>186.75</td>\n",
              "      <td>66.00</td>\n",
              "      <td>38.9</td>\n",
              "      <td>111.1</td>\n",
              "      <td>111.5</td>\n",
              "      <td>101.7</td>\n",
              "      <td>60.3</td>\n",
              "      <td>37.3</td>\n",
              "      <td>21.5</td>\n",
              "      <td>31.3</td>\n",
              "      <td>27.2</td>\n",
              "      <td>18.0</td>\n",
              "    </tr>\n",
              "    <tr>\n",
              "      <th>250</th>\n",
              "      <td>1.0399</td>\n",
              "      <td>26.0</td>\n",
              "      <td>72</td>\n",
              "      <td>190.75</td>\n",
              "      <td>70.50</td>\n",
              "      <td>38.9</td>\n",
              "      <td>108.3</td>\n",
              "      <td>101.3</td>\n",
              "      <td>97.8</td>\n",
              "      <td>56.0</td>\n",
              "      <td>41.6</td>\n",
              "      <td>22.7</td>\n",
              "      <td>30.5</td>\n",
              "      <td>29.4</td>\n",
              "      <td>19.8</td>\n",
              "    </tr>\n",
              "    <tr>\n",
              "      <th>251</th>\n",
              "      <td>1.0271</td>\n",
              "      <td>31.9</td>\n",
              "      <td>74</td>\n",
              "      <td>207.50</td>\n",
              "      <td>70.00</td>\n",
              "      <td>40.8</td>\n",
              "      <td>112.4</td>\n",
              "      <td>108.5</td>\n",
              "      <td>107.1</td>\n",
              "      <td>59.3</td>\n",
              "      <td>42.2</td>\n",
              "      <td>24.6</td>\n",
              "      <td>33.7</td>\n",
              "      <td>30.0</td>\n",
              "      <td>20.9</td>\n",
              "    </tr>\n",
              "  </tbody>\n",
              "</table>\n",
              "<p>252 rows × 15 columns</p>\n",
              "</div>"
            ],
            "text/plain": [
              "     Density  BodyFat  Age  Weight  Height  Neck  Chest  Abdomen    Hip  \\\n",
              "0     1.0708     12.3   23  154.25   67.75  36.2   93.1     85.2   94.5   \n",
              "1     1.0853      6.1   22  173.25   72.25  38.5   93.6     83.0   98.7   \n",
              "2     1.0414     25.3   22  154.00   66.25  34.0   95.8     87.9   99.2   \n",
              "3     1.0751     10.4   26  184.75   72.25  37.4  101.8     86.4  101.2   \n",
              "4     1.0340     28.7   24  184.25   71.25  34.4   97.3    100.0  101.9   \n",
              "..       ...      ...  ...     ...     ...   ...    ...      ...    ...   \n",
              "247   1.0736     11.0   70  134.25   67.00  34.9   89.2     83.6   88.8   \n",
              "248   1.0236     33.6   72  201.00   69.75  40.9  108.5    105.0  104.5   \n",
              "249   1.0328     29.3   72  186.75   66.00  38.9  111.1    111.5  101.7   \n",
              "250   1.0399     26.0   72  190.75   70.50  38.9  108.3    101.3   97.8   \n",
              "251   1.0271     31.9   74  207.50   70.00  40.8  112.4    108.5  107.1   \n",
              "\n",
              "     Thigh  Knee  Ankle  Biceps  Forearm  Wrist  \n",
              "0     59.0  37.3   21.9    32.0     27.4   17.1  \n",
              "1     58.7  37.3   23.4    30.5     28.9   18.2  \n",
              "2     59.6  38.9   24.0    28.8     25.2   16.6  \n",
              "3     60.1  37.3   22.8    32.4     29.4   18.2  \n",
              "4     63.2  42.2   24.0    32.2     27.7   17.7  \n",
              "..     ...   ...    ...     ...      ...    ...  \n",
              "247   49.6  34.8   21.5    25.6     25.7   18.5  \n",
              "248   59.6  40.8   23.2    35.2     28.6   20.1  \n",
              "249   60.3  37.3   21.5    31.3     27.2   18.0  \n",
              "250   56.0  41.6   22.7    30.5     29.4   19.8  \n",
              "251   59.3  42.2   24.6    33.7     30.0   20.9  \n",
              "\n",
              "[252 rows x 15 columns]"
            ]
          },
          "execution_count": 13,
          "metadata": {},
          "output_type": "execute_result"
        }
      ],
      "source": [
        "df = pd.read_csv('./bodyfat.csv')\n",
        "df"
      ]
    },
    {
      "cell_type": "markdown",
      "metadata": {},
      "source": [
        "## Preprocessing"
      ]
    },
    {
      "cell_type": "code",
      "execution_count": 14,
      "metadata": {
        "colab": {
          "base_uri": "https://localhost:8080/"
        },
        "id": "5MjNi37rt5fl",
        "outputId": "e72723fa-76e1-4ecb-e172-d170d4d239ce"
      },
      "outputs": [
        {
          "data": {
            "text/plain": [
              "Density    0\n",
              "BodyFat    0\n",
              "Age        0\n",
              "Weight     0\n",
              "Height     0\n",
              "Neck       0\n",
              "Chest      0\n",
              "Abdomen    0\n",
              "Hip        0\n",
              "Thigh      0\n",
              "Knee       0\n",
              "Ankle      0\n",
              "Biceps     0\n",
              "Forearm    0\n",
              "Wrist      0\n",
              "dtype: int64"
            ]
          },
          "execution_count": 14,
          "metadata": {},
          "output_type": "execute_result"
        }
      ],
      "source": [
        "df.isna().sum()"
      ]
    },
    {
      "cell_type": "code",
      "execution_count": 15,
      "metadata": {
        "colab": {
          "base_uri": "https://localhost:8080/"
        },
        "id": "hI8XwsaGuGfe",
        "outputId": "379389b2-5c0a-4537-b3fa-0503c1b271db"
      },
      "outputs": [
        {
          "name": "stdout",
          "output_type": "stream",
          "text": [
            "<class 'pandas.core.frame.DataFrame'>\n",
            "RangeIndex: 252 entries, 0 to 251\n",
            "Data columns (total 15 columns):\n",
            " #   Column   Non-Null Count  Dtype  \n",
            "---  ------   --------------  -----  \n",
            " 0   Density  252 non-null    float64\n",
            " 1   BodyFat  252 non-null    float64\n",
            " 2   Age      252 non-null    int64  \n",
            " 3   Weight   252 non-null    float64\n",
            " 4   Height   252 non-null    float64\n",
            " 5   Neck     252 non-null    float64\n",
            " 6   Chest    252 non-null    float64\n",
            " 7   Abdomen  252 non-null    float64\n",
            " 8   Hip      252 non-null    float64\n",
            " 9   Thigh    252 non-null    float64\n",
            " 10  Knee     252 non-null    float64\n",
            " 11  Ankle    252 non-null    float64\n",
            " 12  Biceps   252 non-null    float64\n",
            " 13  Forearm  252 non-null    float64\n",
            " 14  Wrist    252 non-null    float64\n",
            "dtypes: float64(14), int64(1)\n",
            "memory usage: 29.7 KB\n"
          ]
        }
      ],
      "source": [
        "df.info()"
      ]
    },
    {
      "cell_type": "code",
      "execution_count": 16,
      "metadata": {
        "colab": {
          "base_uri": "https://localhost:8080/"
        },
        "id": "S88_r9H2uSk-",
        "outputId": "ef90c942-7621-4f70-a46b-535bd6327daf"
      },
      "outputs": [
        {
          "data": {
            "text/plain": [
              "False"
            ]
          },
          "execution_count": 16,
          "metadata": {},
          "output_type": "execute_result"
        }
      ],
      "source": [
        "df.duplicated().any()"
      ]
    },
    {
      "cell_type": "code",
      "execution_count": 17,
      "metadata": {
        "id": "N1qiuGTEuXmW"
      },
      "outputs": [],
      "source": [
        "X = df.drop(['BodyFat'], axis=1)\n",
        "y = df.BodyFat"
      ]
    },
    {
      "cell_type": "code",
      "execution_count": 18,
      "metadata": {
        "id": "yb3xsLBwu0wm"
      },
      "outputs": [],
      "source": [
        "X_train, X_test, y_train, y_test = train_test_split(X, y, test_size=0.2, shuffle=True)"
      ]
    },
    {
      "cell_type": "code",
      "execution_count": 19,
      "metadata": {
        "id": "SrlLFPygvZ9m"
      },
      "outputs": [
        {
          "data": {
            "text/plain": [
              "TensorShape([201, 14])"
            ]
          },
          "execution_count": 19,
          "metadata": {},
          "output_type": "execute_result"
        }
      ],
      "source": [
        "xtensor = tf.convert_to_tensor(X_train)\n",
        "xtensor.shape"
      ]
    },
    {
      "cell_type": "code",
      "execution_count": 20,
      "metadata": {
        "id": "J0RTdIHcwe4G"
      },
      "outputs": [],
      "source": [
        "model = Sequential([\n",
        "    Input(shape=(14,)),\n",
        "    Dense(128,  activation='relu'),\n",
        "    Dense(64, activation='relu'),\n",
        "    Dense(32, activation='relu'),\n",
        "    Dense(1, activation='linear'),\n",
        "])"
      ]
    },
    {
      "cell_type": "code",
      "execution_count": 21,
      "metadata": {
        "id": "m3kL7A7Sw8wG"
      },
      "outputs": [],
      "source": [
        "model.compile(optimizer=tf.keras.optimizers.Adam(learning_rate=0.1), loss='mse', metrics=['accuracy'])"
      ]
    },
    {
      "cell_type": "code",
      "execution_count": 22,
      "metadata": {
        "colab": {
          "base_uri": "https://localhost:8080/"
        },
        "id": "u658Uq1vxpg-",
        "outputId": "cf3a5795-4843-429f-a5d5-7207bb4e3dbf"
      },
      "outputs": [
        {
          "name": "stdout",
          "output_type": "stream",
          "text": [
            "Epoch 1/100\n",
            "6/6 [==============================] - 2s 56ms/step - loss: 811135.7500 - accuracy: 0.0000e+00 - val_loss: 571.4833 - val_accuracy: 0.0000e+00\n",
            "Epoch 2/100\n",
            "6/6 [==============================] - 0s 20ms/step - loss: 255.7015 - accuracy: 0.0000e+00 - val_loss: 91.5650 - val_accuracy: 0.0000e+00\n",
            "Epoch 3/100\n",
            "6/6 [==============================] - 0s 16ms/step - loss: 77.0834 - accuracy: 0.0000e+00 - val_loss: 103.1584 - val_accuracy: 0.0000e+00\n",
            "Epoch 4/100\n",
            "6/6 [==============================] - 0s 16ms/step - loss: 73.5480 - accuracy: 0.0000e+00 - val_loss: 97.5586 - val_accuracy: 0.0000e+00\n",
            "Epoch 5/100\n",
            "6/6 [==============================] - 0s 15ms/step - loss: 94.3255 - accuracy: 0.0000e+00 - val_loss: 35.7235 - val_accuracy: 0.0000e+00\n",
            "Epoch 6/100\n",
            "6/6 [==============================] - 0s 16ms/step - loss: 88.9308 - accuracy: 0.0000e+00 - val_loss: 74.8052 - val_accuracy: 0.0000e+00\n",
            "Epoch 7/100\n",
            "6/6 [==============================] - 0s 59ms/step - loss: 71.8117 - accuracy: 0.0000e+00 - val_loss: 38.4966 - val_accuracy: 0.0000e+00\n",
            "Epoch 8/100\n",
            "6/6 [==============================] - 0s 19ms/step - loss: 54.5777 - accuracy: 0.0000e+00 - val_loss: 50.2437 - val_accuracy: 0.0000e+00\n",
            "Epoch 9/100\n",
            "6/6 [==============================] - 0s 15ms/step - loss: 48.0855 - accuracy: 0.0000e+00 - val_loss: 45.0836 - val_accuracy: 0.0000e+00\n",
            "Epoch 10/100\n",
            "6/6 [==============================] - 0s 16ms/step - loss: 52.5710 - accuracy: 0.0000e+00 - val_loss: 31.8774 - val_accuracy: 0.0000e+00\n",
            "Epoch 11/100\n",
            "6/6 [==============================] - 0s 16ms/step - loss: 44.8366 - accuracy: 0.0000e+00 - val_loss: 28.9154 - val_accuracy: 0.0000e+00\n",
            "Epoch 12/100\n",
            "6/6 [==============================] - 0s 17ms/step - loss: 45.0905 - accuracy: 0.0000e+00 - val_loss: 32.7092 - val_accuracy: 0.0000e+00\n",
            "Epoch 13/100\n",
            "6/6 [==============================] - 0s 22ms/step - loss: 54.1941 - accuracy: 0.0000e+00 - val_loss: 48.7244 - val_accuracy: 0.0000e+00\n",
            "Epoch 14/100\n",
            "6/6 [==============================] - 0s 16ms/step - loss: 54.8313 - accuracy: 0.0000e+00 - val_loss: 35.8204 - val_accuracy: 0.0000e+00\n",
            "Epoch 15/100\n",
            "6/6 [==============================] - 0s 17ms/step - loss: 38.2325 - accuracy: 0.0000e+00 - val_loss: 23.1795 - val_accuracy: 0.0000e+00\n",
            "Epoch 16/100\n",
            "6/6 [==============================] - 0s 16ms/step - loss: 41.3825 - accuracy: 0.0000e+00 - val_loss: 22.6802 - val_accuracy: 0.0000e+00\n",
            "Epoch 17/100\n",
            "6/6 [==============================] - 0s 15ms/step - loss: 44.1987 - accuracy: 0.0000e+00 - val_loss: 33.6293 - val_accuracy: 0.0000e+00\n",
            "Epoch 18/100\n",
            "6/6 [==============================] - 0s 15ms/step - loss: 56.9606 - accuracy: 0.0000e+00 - val_loss: 47.8867 - val_accuracy: 0.0000e+00\n",
            "Epoch 19/100\n",
            "6/6 [==============================] - 0s 14ms/step - loss: 58.4855 - accuracy: 0.0000e+00 - val_loss: 31.8026 - val_accuracy: 0.0000e+00\n",
            "Epoch 20/100\n",
            "6/6 [==============================] - 0s 16ms/step - loss: 45.4438 - accuracy: 0.0000e+00 - val_loss: 24.0782 - val_accuracy: 0.0000e+00\n",
            "Epoch 21/100\n",
            "6/6 [==============================] - 0s 16ms/step - loss: 38.2270 - accuracy: 0.0000e+00 - val_loss: 22.1322 - val_accuracy: 0.0000e+00\n",
            "Epoch 22/100\n",
            "6/6 [==============================] - 0s 15ms/step - loss: 32.0866 - accuracy: 0.0000e+00 - val_loss: 25.5619 - val_accuracy: 0.0000e+00\n",
            "Epoch 23/100\n",
            "6/6 [==============================] - 0s 16ms/step - loss: 34.4793 - accuracy: 0.0000e+00 - val_loss: 35.3365 - val_accuracy: 0.0000e+00\n",
            "Epoch 24/100\n",
            "6/6 [==============================] - 0s 15ms/step - loss: 38.1204 - accuracy: 0.0000e+00 - val_loss: 22.7311 - val_accuracy: 0.0000e+00\n",
            "Epoch 25/100\n",
            "6/6 [==============================] - 0s 16ms/step - loss: 33.5924 - accuracy: 0.0000e+00 - val_loss: 19.5932 - val_accuracy: 0.0000e+00\n",
            "Epoch 26/100\n",
            "6/6 [==============================] - 0s 15ms/step - loss: 34.9508 - accuracy: 0.0000e+00 - val_loss: 31.0337 - val_accuracy: 0.0000e+00\n",
            "Epoch 27/100\n",
            "6/6 [==============================] - 0s 16ms/step - loss: 32.1779 - accuracy: 0.0000e+00 - val_loss: 27.8607 - val_accuracy: 0.0000e+00\n",
            "Epoch 28/100\n",
            "6/6 [==============================] - 0s 19ms/step - loss: 33.3294 - accuracy: 0.0000e+00 - val_loss: 47.8651 - val_accuracy: 0.0000e+00\n",
            "Epoch 29/100\n",
            "6/6 [==============================] - 0s 16ms/step - loss: 47.7841 - accuracy: 0.0000e+00 - val_loss: 32.2889 - val_accuracy: 0.0000e+00\n",
            "Epoch 30/100\n",
            "6/6 [==============================] - 0s 15ms/step - loss: 39.6367 - accuracy: 0.0000e+00 - val_loss: 48.8060 - val_accuracy: 0.0000e+00\n",
            "Epoch 31/100\n",
            "6/6 [==============================] - 0s 16ms/step - loss: 45.0662 - accuracy: 0.0000e+00 - val_loss: 32.2680 - val_accuracy: 0.0000e+00\n",
            "Epoch 32/100\n",
            "6/6 [==============================] - 0s 16ms/step - loss: 41.8170 - accuracy: 0.0000e+00 - val_loss: 35.3950 - val_accuracy: 0.0000e+00\n",
            "Epoch 33/100\n",
            "6/6 [==============================] - 0s 15ms/step - loss: 42.4142 - accuracy: 0.0000e+00 - val_loss: 43.9430 - val_accuracy: 0.0000e+00\n",
            "Epoch 34/100\n",
            "6/6 [==============================] - 0s 16ms/step - loss: 35.3806 - accuracy: 0.0000e+00 - val_loss: 20.0600 - val_accuracy: 0.0000e+00\n",
            "Epoch 35/100\n",
            "6/6 [==============================] - 0s 15ms/step - loss: 27.0384 - accuracy: 0.0000e+00 - val_loss: 26.3643 - val_accuracy: 0.0000e+00\n",
            "Epoch 36/100\n",
            "6/6 [==============================] - 0s 16ms/step - loss: 29.5269 - accuracy: 0.0000e+00 - val_loss: 18.1167 - val_accuracy: 0.0000e+00\n",
            "Epoch 37/100\n",
            "6/6 [==============================] - 0s 18ms/step - loss: 28.4598 - accuracy: 0.0000e+00 - val_loss: 36.5596 - val_accuracy: 0.0000e+00\n",
            "Epoch 38/100\n",
            "6/6 [==============================] - 0s 17ms/step - loss: 34.9618 - accuracy: 0.0000e+00 - val_loss: 17.9642 - val_accuracy: 0.0000e+00\n",
            "Epoch 39/100\n",
            "6/6 [==============================] - 0s 15ms/step - loss: 27.8447 - accuracy: 0.0000e+00 - val_loss: 24.6170 - val_accuracy: 0.0000e+00\n",
            "Epoch 40/100\n",
            "6/6 [==============================] - 0s 18ms/step - loss: 28.2107 - accuracy: 0.0000e+00 - val_loss: 45.9127 - val_accuracy: 0.0000e+00\n",
            "Epoch 41/100\n",
            "6/6 [==============================] - 0s 22ms/step - loss: 41.9340 - accuracy: 0.0000e+00 - val_loss: 18.5907 - val_accuracy: 0.0000e+00\n",
            "Epoch 42/100\n",
            "6/6 [==============================] - 0s 35ms/step - loss: 34.8393 - accuracy: 0.0000e+00 - val_loss: 18.8269 - val_accuracy: 0.0000e+00\n",
            "Epoch 43/100\n",
            "6/6 [==============================] - 0s 30ms/step - loss: 27.4483 - accuracy: 0.0000e+00 - val_loss: 17.8996 - val_accuracy: 0.0000e+00\n",
            "Epoch 44/100\n",
            "6/6 [==============================] - 0s 24ms/step - loss: 27.8577 - accuracy: 0.0000e+00 - val_loss: 20.0174 - val_accuracy: 0.0000e+00\n",
            "Epoch 45/100\n",
            "6/6 [==============================] - 0s 20ms/step - loss: 28.3967 - accuracy: 0.0000e+00 - val_loss: 40.4441 - val_accuracy: 0.0000e+00\n",
            "Epoch 46/100\n",
            "6/6 [==============================] - 0s 16ms/step - loss: 38.0613 - accuracy: 0.0000e+00 - val_loss: 47.2608 - val_accuracy: 0.0000e+00\n",
            "Epoch 47/100\n",
            "6/6 [==============================] - 0s 16ms/step - loss: 42.9855 - accuracy: 0.0000e+00 - val_loss: 19.7866 - val_accuracy: 0.0000e+00\n",
            "Epoch 48/100\n",
            "6/6 [==============================] - 0s 15ms/step - loss: 29.3841 - accuracy: 0.0000e+00 - val_loss: 18.2000 - val_accuracy: 0.0000e+00\n",
            "Epoch 49/100\n",
            "6/6 [==============================] - 0s 15ms/step - loss: 30.5001 - accuracy: 0.0000e+00 - val_loss: 20.0180 - val_accuracy: 0.0000e+00\n",
            "Epoch 50/100\n",
            "6/6 [==============================] - 0s 15ms/step - loss: 25.6364 - accuracy: 0.0000e+00 - val_loss: 17.4890 - val_accuracy: 0.0000e+00\n",
            "Epoch 51/100\n",
            "6/6 [==============================] - 0s 16ms/step - loss: 27.2789 - accuracy: 0.0000e+00 - val_loss: 17.0899 - val_accuracy: 0.0000e+00\n",
            "Epoch 52/100\n",
            "6/6 [==============================] - 0s 16ms/step - loss: 28.5464 - accuracy: 0.0000e+00 - val_loss: 18.9254 - val_accuracy: 0.0000e+00\n",
            "Epoch 53/100\n",
            "6/6 [==============================] - 0s 15ms/step - loss: 29.8429 - accuracy: 0.0000e+00 - val_loss: 31.2916 - val_accuracy: 0.0000e+00\n",
            "Epoch 54/100\n",
            "6/6 [==============================] - 0s 16ms/step - loss: 46.7924 - accuracy: 0.0000e+00 - val_loss: 30.7760 - val_accuracy: 0.0000e+00\n",
            "Epoch 55/100\n",
            "6/6 [==============================] - 0s 19ms/step - loss: 60.0938 - accuracy: 0.0000e+00 - val_loss: 106.3802 - val_accuracy: 0.0000e+00\n",
            "Epoch 56/100\n",
            "6/6 [==============================] - 0s 16ms/step - loss: 73.3132 - accuracy: 0.0000e+00 - val_loss: 86.0616 - val_accuracy: 0.0000e+00\n",
            "Epoch 57/100\n",
            "6/6 [==============================] - 0s 17ms/step - loss: 78.4758 - accuracy: 0.0000e+00 - val_loss: 21.1163 - val_accuracy: 0.0000e+00\n",
            "Epoch 58/100\n",
            "6/6 [==============================] - 0s 21ms/step - loss: 41.2634 - accuracy: 0.0000e+00 - val_loss: 29.5499 - val_accuracy: 0.0000e+00\n",
            "Epoch 59/100\n",
            "6/6 [==============================] - 0s 15ms/step - loss: 58.5946 - accuracy: 0.0000e+00 - val_loss: 48.1076 - val_accuracy: 0.0000e+00\n",
            "Epoch 60/100\n",
            "6/6 [==============================] - 0s 16ms/step - loss: 53.7937 - accuracy: 0.0000e+00 - val_loss: 35.9311 - val_accuracy: 0.0000e+00\n",
            "Epoch 61/100\n",
            "6/6 [==============================] - 0s 16ms/step - loss: 50.1138 - accuracy: 0.0000e+00 - val_loss: 59.9556 - val_accuracy: 0.0000e+00\n",
            "Epoch 62/100\n",
            "6/6 [==============================] - 0s 19ms/step - loss: 43.6448 - accuracy: 0.0000e+00 - val_loss: 58.1848 - val_accuracy: 0.0000e+00\n",
            "Epoch 63/100\n",
            "6/6 [==============================] - 0s 15ms/step - loss: 44.2358 - accuracy: 0.0000e+00 - val_loss: 33.7631 - val_accuracy: 0.0000e+00\n",
            "Epoch 64/100\n",
            "6/6 [==============================] - 0s 17ms/step - loss: 34.4363 - accuracy: 0.0000e+00 - val_loss: 24.7447 - val_accuracy: 0.0000e+00\n",
            "Epoch 65/100\n",
            "6/6 [==============================] - 0s 18ms/step - loss: 33.3904 - accuracy: 0.0000e+00 - val_loss: 17.8322 - val_accuracy: 0.0000e+00\n",
            "Epoch 66/100\n",
            "6/6 [==============================] - 0s 20ms/step - loss: 33.3916 - accuracy: 0.0000e+00 - val_loss: 33.1753 - val_accuracy: 0.0000e+00\n",
            "Epoch 67/100\n",
            "6/6 [==============================] - 0s 17ms/step - loss: 30.4379 - accuracy: 0.0000e+00 - val_loss: 22.1875 - val_accuracy: 0.0000e+00\n",
            "Epoch 68/100\n",
            "6/6 [==============================] - 0s 17ms/step - loss: 31.3825 - accuracy: 0.0000e+00 - val_loss: 16.5756 - val_accuracy: 0.0000e+00\n",
            "Epoch 69/100\n",
            "6/6 [==============================] - 0s 16ms/step - loss: 24.1693 - accuracy: 0.0000e+00 - val_loss: 16.6385 - val_accuracy: 0.0000e+00\n",
            "Epoch 70/100\n",
            "6/6 [==============================] - 0s 15ms/step - loss: 24.0871 - accuracy: 0.0000e+00 - val_loss: 18.8421 - val_accuracy: 0.0000e+00\n",
            "Epoch 71/100\n",
            "6/6 [==============================] - 0s 20ms/step - loss: 28.6737 - accuracy: 0.0000e+00 - val_loss: 21.9309 - val_accuracy: 0.0000e+00\n",
            "Epoch 72/100\n",
            "6/6 [==============================] - 0s 19ms/step - loss: 25.9882 - accuracy: 0.0000e+00 - val_loss: 25.8066 - val_accuracy: 0.0000e+00\n",
            "Epoch 73/100\n",
            "6/6 [==============================] - 0s 18ms/step - loss: 40.4430 - accuracy: 0.0000e+00 - val_loss: 17.5008 - val_accuracy: 0.0000e+00\n",
            "Epoch 74/100\n",
            "6/6 [==============================] - 0s 17ms/step - loss: 44.7608 - accuracy: 0.0000e+00 - val_loss: 30.8661 - val_accuracy: 0.0000e+00\n",
            "Epoch 75/100\n",
            "6/6 [==============================] - 0s 18ms/step - loss: 32.4181 - accuracy: 0.0000e+00 - val_loss: 22.3579 - val_accuracy: 0.0000e+00\n",
            "Epoch 76/100\n",
            "6/6 [==============================] - 0s 17ms/step - loss: 26.1753 - accuracy: 0.0000e+00 - val_loss: 19.3734 - val_accuracy: 0.0000e+00\n",
            "Epoch 77/100\n",
            "6/6 [==============================] - 0s 17ms/step - loss: 29.0983 - accuracy: 0.0000e+00 - val_loss: 22.0056 - val_accuracy: 0.0000e+00\n",
            "Epoch 78/100\n",
            "6/6 [==============================] - 0s 26ms/step - loss: 31.3498 - accuracy: 0.0000e+00 - val_loss: 33.6801 - val_accuracy: 0.0000e+00\n",
            "Epoch 79/100\n",
            "6/6 [==============================] - 0s 17ms/step - loss: 31.8987 - accuracy: 0.0000e+00 - val_loss: 39.6723 - val_accuracy: 0.0000e+00\n",
            "Epoch 80/100\n",
            "6/6 [==============================] - 0s 18ms/step - loss: 36.0903 - accuracy: 0.0000e+00 - val_loss: 17.1369 - val_accuracy: 0.0000e+00\n",
            "Epoch 81/100\n",
            "6/6 [==============================] - 0s 17ms/step - loss: 32.1139 - accuracy: 0.0000e+00 - val_loss: 18.6377 - val_accuracy: 0.0000e+00\n",
            "Epoch 82/100\n",
            "6/6 [==============================] - 0s 16ms/step - loss: 35.5158 - accuracy: 0.0000e+00 - val_loss: 26.6997 - val_accuracy: 0.0000e+00\n",
            "Epoch 83/100\n",
            "6/6 [==============================] - 0s 24ms/step - loss: 32.9934 - accuracy: 0.0000e+00 - val_loss: 31.9105 - val_accuracy: 0.0000e+00\n",
            "Epoch 84/100\n",
            "6/6 [==============================] - 0s 16ms/step - loss: 37.6847 - accuracy: 0.0000e+00 - val_loss: 48.8730 - val_accuracy: 0.0000e+00\n",
            "Epoch 85/100\n",
            "6/6 [==============================] - 0s 15ms/step - loss: 35.4540 - accuracy: 0.0000e+00 - val_loss: 16.9605 - val_accuracy: 0.0000e+00\n",
            "Epoch 86/100\n",
            "6/6 [==============================] - 0s 16ms/step - loss: 27.5166 - accuracy: 0.0000e+00 - val_loss: 17.9735 - val_accuracy: 0.0000e+00\n",
            "Epoch 87/100\n",
            "6/6 [==============================] - 0s 18ms/step - loss: 25.8554 - accuracy: 0.0000e+00 - val_loss: 24.0408 - val_accuracy: 0.0000e+00\n",
            "Epoch 88/100\n",
            "6/6 [==============================] - 0s 18ms/step - loss: 31.2396 - accuracy: 0.0000e+00 - val_loss: 24.0120 - val_accuracy: 0.0000e+00\n",
            "Epoch 89/100\n",
            "6/6 [==============================] - 0s 15ms/step - loss: 31.1560 - accuracy: 0.0000e+00 - val_loss: 36.9170 - val_accuracy: 0.0000e+00\n",
            "Epoch 90/100\n",
            "6/6 [==============================] - 0s 15ms/step - loss: 41.6200 - accuracy: 0.0000e+00 - val_loss: 22.3463 - val_accuracy: 0.0000e+00\n",
            "Epoch 91/100\n",
            "6/6 [==============================] - 0s 15ms/step - loss: 36.7046 - accuracy: 0.0000e+00 - val_loss: 20.1683 - val_accuracy: 0.0000e+00\n",
            "Epoch 92/100\n",
            "6/6 [==============================] - 0s 16ms/step - loss: 30.1585 - accuracy: 0.0000e+00 - val_loss: 18.2791 - val_accuracy: 0.0000e+00\n",
            "Epoch 93/100\n",
            "6/6 [==============================] - 0s 16ms/step - loss: 26.0134 - accuracy: 0.0000e+00 - val_loss: 16.2865 - val_accuracy: 0.0000e+00\n",
            "Epoch 94/100\n",
            "6/6 [==============================] - 0s 14ms/step - loss: 24.6677 - accuracy: 0.0000e+00 - val_loss: 17.3389 - val_accuracy: 0.0000e+00\n",
            "Epoch 95/100\n",
            "6/6 [==============================] - 0s 16ms/step - loss: 24.7265 - accuracy: 0.0000e+00 - val_loss: 17.7269 - val_accuracy: 0.0000e+00\n",
            "Epoch 96/100\n",
            "6/6 [==============================] - 0s 15ms/step - loss: 21.3865 - accuracy: 0.0000e+00 - val_loss: 16.6808 - val_accuracy: 0.0000e+00\n",
            "Epoch 97/100\n",
            "6/6 [==============================] - 0s 15ms/step - loss: 22.3443 - accuracy: 0.0000e+00 - val_loss: 17.6534 - val_accuracy: 0.0000e+00\n",
            "Epoch 98/100\n",
            "6/6 [==============================] - 0s 17ms/step - loss: 24.4060 - accuracy: 0.0000e+00 - val_loss: 16.2774 - val_accuracy: 0.0000e+00\n",
            "Epoch 99/100\n",
            "6/6 [==============================] - 0s 16ms/step - loss: 25.8067 - accuracy: 0.0000e+00 - val_loss: 20.5042 - val_accuracy: 0.0000e+00\n",
            "Epoch 100/100\n",
            "6/6 [==============================] - 0s 16ms/step - loss: 27.7366 - accuracy: 0.0000e+00 - val_loss: 17.7091 - val_accuracy: 0.0000e+00\n"
          ]
        }
      ],
      "source": [
        "epochs = 100\n",
        "batch_size = 32\n",
        "obj = model.fit(tf.convert_to_tensor(X_train), tf.convert_to_tensor(y_train), epochs=epochs, batch_size=batch_size, validation_split=0.1)"
      ]
    },
    {
      "cell_type": "code",
      "execution_count": 23,
      "metadata": {
        "id": "CM8WZIwayPjW"
      },
      "outputs": [
        {
          "name": "stdout",
          "output_type": "stream",
          "text": [
            "2/2 [==============================] - 0s 7ms/step - loss: 41.7647 - accuracy: 0.0000e+00\n"
          ]
        },
        {
          "data": {
            "text/plain": [
              "(41.764705657958984, 0.0)"
            ]
          },
          "execution_count": 23,
          "metadata": {},
          "output_type": "execute_result"
        }
      ],
      "source": [
        "loss, acc = model.evaluate(tf.convert_to_tensor(X_test), tf.convert_to_tensor(y_test))\n",
        "loss, acc"
      ]
    },
    {
      "cell_type": "code",
      "execution_count": 24,
      "metadata": {},
      "outputs": [
        {
          "data": {
            "text/plain": [
              "array([900.6307512 ,  15.99067035,   8.77971769,   8.57601375,\n",
              "         9.71213201,   9.43031209,   8.47418106,   7.3876715 ,\n",
              "         6.93437193,   7.25058297,   6.69601383,   6.71494487,\n",
              "         7.36166107,   7.40481412,   6.18324272,   6.43292222,\n",
              "         6.64821057,   7.54722427,   7.64757909,   6.7411987 ,\n",
              "         6.18279635,   5.66450025,   5.87190782,   6.17417073,\n",
              "         5.79589572,   5.91192193,   5.67255324,   5.77316494,\n",
              "         6.91260302,   6.29576688,   6.71313725,   6.46660309,\n",
              "         6.51262202,   5.94815681,   5.19984676,   5.43386684,\n",
              "         5.334771  ,   5.91284619,   5.27680557,   5.31137037,\n",
              "         6.47564978,   5.90247947,   5.23910864,   5.27804287,\n",
              "         5.32885522,   6.16938148,   6.55632906,   5.42071187,\n",
              "         5.52268862,   5.06324424,   5.22291846,   5.34288062,\n",
              "         5.46286584,   6.8404943 ,   7.7520166 ,   8.56231066,\n",
              "         8.85865934,   6.4236568 ,   7.65471226,   7.33441894,\n",
              "         7.07911146,   6.60642185,   6.65100206,   5.86824459,\n",
              "         5.77843873,   5.77854534,   5.51705352,   5.60200684,\n",
              "         4.91622475,   4.90786036,   5.35478027,   5.09786465,\n",
              "         6.35948417,   6.69034922,   5.69368701,   5.11618121,\n",
              "         5.39428799,   5.59909212,   5.64789348,   6.007522  ,\n",
              "         5.66690998,   5.95951344,   5.74398688,   6.1387887 ,\n",
              "         5.95432251,   5.24562308,   5.08481699,   5.58923618,\n",
              "         5.58175413,   6.45135696,   6.05843351,   5.49167732,\n",
              "         5.10033305,   4.96665786,   4.97257647,   4.62455314,\n",
              "         4.72697086,   4.9402408 ,   5.08002894,   5.26655602])"
            ]
          },
          "execution_count": 24,
          "metadata": {},
          "output_type": "execute_result"
        }
      ],
      "source": [
        "rmse = np.sqrt(obj.history['loss'])\n",
        "rmse"
      ]
    },
    {
      "cell_type": "markdown",
      "metadata": {},
      "source": [
        "## Performance tabulation"
      ]
    },
    {
      "cell_type": "code",
      "execution_count": 25,
      "metadata": {},
      "outputs": [
        {
          "data": {
            "text/html": [
              "<div>\n",
              "<style scoped>\n",
              "    .dataframe tbody tr th:only-of-type {\n",
              "        vertical-align: middle;\n",
              "    }\n",
              "\n",
              "    .dataframe tbody tr th {\n",
              "        vertical-align: top;\n",
              "    }\n",
              "\n",
              "    .dataframe thead th {\n",
              "        text-align: right;\n",
              "    }\n",
              "</style>\n",
              "<table border=\"1\" class=\"dataframe\">\n",
              "  <thead>\n",
              "    <tr style=\"text-align: right;\">\n",
              "      <th></th>\n",
              "      <th>epochs</th>\n",
              "      <th>rmse</th>\n",
              "    </tr>\n",
              "  </thead>\n",
              "  <tbody>\n",
              "    <tr>\n",
              "      <th>0</th>\n",
              "      <td>1</td>\n",
              "      <td>900.630751</td>\n",
              "    </tr>\n",
              "    <tr>\n",
              "      <th>1</th>\n",
              "      <td>2</td>\n",
              "      <td>15.990670</td>\n",
              "    </tr>\n",
              "    <tr>\n",
              "      <th>2</th>\n",
              "      <td>3</td>\n",
              "      <td>8.779718</td>\n",
              "    </tr>\n",
              "    <tr>\n",
              "      <th>3</th>\n",
              "      <td>4</td>\n",
              "      <td>8.576014</td>\n",
              "    </tr>\n",
              "    <tr>\n",
              "      <th>4</th>\n",
              "      <td>5</td>\n",
              "      <td>9.712132</td>\n",
              "    </tr>\n",
              "    <tr>\n",
              "      <th>...</th>\n",
              "      <td>...</td>\n",
              "      <td>...</td>\n",
              "    </tr>\n",
              "    <tr>\n",
              "      <th>95</th>\n",
              "      <td>96</td>\n",
              "      <td>4.624553</td>\n",
              "    </tr>\n",
              "    <tr>\n",
              "      <th>96</th>\n",
              "      <td>97</td>\n",
              "      <td>4.726971</td>\n",
              "    </tr>\n",
              "    <tr>\n",
              "      <th>97</th>\n",
              "      <td>98</td>\n",
              "      <td>4.940241</td>\n",
              "    </tr>\n",
              "    <tr>\n",
              "      <th>98</th>\n",
              "      <td>99</td>\n",
              "      <td>5.080029</td>\n",
              "    </tr>\n",
              "    <tr>\n",
              "      <th>99</th>\n",
              "      <td>100</td>\n",
              "      <td>5.266556</td>\n",
              "    </tr>\n",
              "  </tbody>\n",
              "</table>\n",
              "<p>100 rows × 2 columns</p>\n",
              "</div>"
            ],
            "text/plain": [
              "    epochs        rmse\n",
              "0        1  900.630751\n",
              "1        2   15.990670\n",
              "2        3    8.779718\n",
              "3        4    8.576014\n",
              "4        5    9.712132\n",
              "..     ...         ...\n",
              "95      96    4.624553\n",
              "96      97    4.726971\n",
              "97      98    4.940241\n",
              "98      99    5.080029\n",
              "99     100    5.266556\n",
              "\n",
              "[100 rows x 2 columns]"
            ]
          },
          "execution_count": 25,
          "metadata": {},
          "output_type": "execute_result"
        }
      ],
      "source": [
        "pd.DataFrame({\"epochs\": range(1, epochs + 1), \"rmse\": rmse})"
      ]
    },
    {
      "cell_type": "code",
      "execution_count": 28,
      "metadata": {},
      "outputs": [
        {
          "data": {
            "text/plain": [
              "[<matplotlib.lines.Line2D at 0x7f24806d7590>]"
            ]
          },
          "execution_count": 28,
          "metadata": {},
          "output_type": "execute_result"
        },
        {
          "data": {
            "image/png": "[encoded data removed]",
            "text/plain": [
              "<Figure size 640x480 with 1 Axes>"
            ]
          },
          "metadata": {},
          "output_type": "display_data"
        }
      ],
      "source": [
        "# For all losses\n",
        "fig = plt.figure()\n",
        "plt.xlabel(\"Epochs\")\n",
        "plt.ylabel(\"RMSE\")\n",
        "plt.title(\"RMSE vs Epochs\")\n",
        "plt.plot(range(1, epochs + 1), rmse)"
      ]
    },
    {
      "cell_type": "code",
      "execution_count": 29,
      "metadata": {},
      "outputs": [
        {
          "data": {
            "text/plain": [
              "[<matplotlib.lines.Line2D at 0x7f245821bf50>]"
            ]
          },
          "execution_count": 29,
          "metadata": {},
          "output_type": "execute_result"
        },
        {
          "data": {
            "image/png": "[encoded data removed]",
            "text/plain": [
              "<Figure size 640x480 with 1 Axes>"
            ]
          },
          "metadata": {},
          "output_type": "display_data"
        }
      ],
      "source": [
        "# Removing 1st 15 losses for better representation of fluctuating loss\n",
        "fig = plt.figure()\n",
        "plt.xlabel(\"Epochs\")\n",
        "plt.ylabel(\"RMSE\")\n",
        "plt.title(\"RMSE vs Epochs w/o first 15 trials\")\n",
        "plt.plot(range(16, epochs + 1), rmse[15:])"
      ]
    },
    {
      "cell_type": "code",
      "execution_count": null,
      "metadata": {},
      "outputs": [],
      "source": []
    }
  ],
  "metadata": {
    "accelerator": "GPU",
    "colab": {
      "gpuType": "T4",
      "provenance": []
    },
    "kernelspec": {
      "display_name": "Python 3",
      "name": "python3"
    },
    "language_info": {
      "codemirror_mode": {
        "name": "ipython",
        "version": 3
      },
      "file_extension": ".py",
      "mimetype": "text/x-python",
      "name": "python",
      "nbconvert_exporter": "python",
      "pygments_lexer": "ipython3",
      "version": "3.11.4"
    }
  },
  "nbformat": 4,
  "nbformat_minor": 0
}
